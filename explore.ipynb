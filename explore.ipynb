{
 "cells": [
  {
   "cell_type": "markdown",
   "metadata": {},
   "source": [
    "# Anomaly Detection in Electrocardigram Readings\n",
    "\n",
    "### by Jared Godar"
   ]
  },
  {
   "cell_type": "markdown",
   "metadata": {},
   "source": [
    "![ecg](images/ecg.jpeg)"
   ]
  },
  {
   "cell_type": "markdown",
   "metadata": {},
   "source": [
    "## Introduction\n",
    "\n",
    "Several of my potential desired employers are involved with signal processing. For one of my next projects, I am interested in doing image analysis for predictions for medical images or geospatial data, but since we haven't really looked at image processing yet, I chose a time-series signal -- specifically, electrocardiograms (ECG).\n",
    "\n",
    "Real-world anomaly detection for time series is still a challenging task. This is especially true for periodic or quasi-periodic time series since automated approaches have to learn long-term correlations before they are able to detect anomalies. ECG time series are a prominent, real-world example of quasi-periodic signals (1).\n",
    "\n",
    "The first labelled ecg dataset I explored already had single cardiac cycle data segmented. It would likely have been a simpler dataset to work with, but a lot of the extraction of the relevant signal portions from the raw signal was already done and that is a big part of the puzzle, so I wanted to stare with more real-world data and perform that step myself.\n",
    "\n",
    "I found a second dataset which had 9-120 second recordings which looked promising, but the data existed as thousands of individual matlab files, so ingesting them into a usable dataframe was posing a challenge. I took a little break from processing those files to search for an additional dataset that had the appropriate data in a slightly more user-friendly format and came across the following dataset which I will use moving forward.\n",
    "\n",
    "1. Thill, M, et. al. 2019 'Anomaly Detection in Electrocardiogram Readings with Stacked LSTM Networks', *Proceedings of the 19th Conference Information Technologies - Applications and Theory (ITAT 2019)*, p 17-25"
   ]
  },
  {
   "cell_type": "markdown",
   "metadata": {},
   "source": [
    "---"
   ]
  },
  {
   "cell_type": "markdown",
   "metadata": {},
   "source": [
    "## Dataset\n",
    "\n",
    "I will use the MIH-BIH Arrythmia dataset from https://physionet.org/content/mitdb/1.0.0/. \n",
    "\n",
    "This is a dataset with 48 half-hour two-channel ECG recordings measured at 360 Hz. The recordings have annotations from cardiologists for each heart beat. \n",
    "\n",
    "The symbols for the annotations can be found at https://archive.physionet.org/physiobank/annotations.shtml"
   ]
  },
  {
   "cell_type": "markdown",
   "metadata": {},
   "source": [
    "## Goals\n",
    "\n",
    "Predict if a heartbeat from an ECG signal is normal or abnormal based on a six-second window centered on the peak of the hearbeat."
   ]
  },
  {
   "cell_type": "markdown",
   "metadata": {},
   "source": [
    "---"
   ]
  },
  {
   "cell_type": "markdown",
   "metadata": {},
   "source": [
    "## Data Preparation"
   ]
  },
  {
   "cell_type": "code",
   "execution_count": 5,
   "metadata": {},
   "outputs": [],
   "source": [
    "import pandas as pd\n",
    "import numpy as np\n",
    "import matplotlib.pyplot as plt\n",
    "from os import listdir\n",
    "\n",
    "from sklearn.model_selection import train_test_split\n"
   ]
  },
  {
   "cell_type": "code",
   "execution_count": 6,
   "metadata": {},
   "outputs": [],
   "source": [
    "data_path = '/Users/jaredgodar/codeup-data-science/ecg_anomaly_detection/physionet.org/files/mitdb/1.0.0/'\n"
   ]
  },
  {
   "cell_type": "code",
   "execution_count": 7,
   "metadata": {},
   "outputs": [],
   "source": [
    "# list of patients\n",
    "pts = ['100','101','102','103','104','105','106','107',\n",
    "       '108','109','111','112','113','114','115','116',\n",
    "       '117','118','119','121','122','123','124','200',\n",
    "       '201','202','203','205','207','208','209','210',\n",
    "       '212','213','214','215','217','219','220','221',\n",
    "       '222','223','228','230','231','232','233','234']\n"
   ]
  },
  {
   "cell_type": "code",
   "execution_count": 8,
   "metadata": {},
   "outputs": [],
   "source": [
    "import wfdb #PyPi package for loading ecg and annotations"
   ]
  },
  {
   "cell_type": "code",
   "execution_count": 9,
   "metadata": {},
   "outputs": [],
   "source": [
    "# Load annotations and look at distribution of heartbeat types\n",
    "\n",
    "df = pd.DataFrame()\n",
    "\n",
    "for pt in pts:\n",
    "    file = data_path + pt\n",
    "    annotation = wfdb.rdann(file, 'atr')\n",
    "    sym = annotation.symbol\n",
    "    \n",
    "    values, counts = np.unique(sym, return_counts=True)\n",
    "    df_sub = pd.DataFrame({'sym':values, 'val':counts, 'pt':[pt]*len(counts)})\n",
    "    df = pd.concat([df, df_sub],axis = 0)"
   ]
  },
  {
   "cell_type": "code",
   "execution_count": 10,
   "metadata": {},
   "outputs": [
    {
     "data": {
      "text/html": [
       "<div><div id=cba9b8f6-9aa1-453d-84c7-d01615a31dcc style=\"display:none; background-color:#9D6CFF; color:white; width:200px; height:30px; padding-left:5px; border-radius:4px; flex-direction:row; justify-content:space-around; align-items:center;\" onmouseover=\"this.style.backgroundColor='#BA9BF8'\" onmouseout=\"this.style.backgroundColor='#9D6CFF'\" onclick=\"window.commands?.execute('create-mitosheet-from-dataframe-output');\">See Full Dataframe in Mito</div> <script> if (window.commands.hasCommand('create-mitosheet-from-dataframe-output')) document.getElementById('cba9b8f6-9aa1-453d-84c7-d01615a31dcc').style.display = 'flex' </script> <table border=\"1\" class=\"dataframe\">\n",
       "  <thead>\n",
       "    <tr style=\"text-align: right;\">\n",
       "      <th></th>\n",
       "      <th>sym</th>\n",
       "      <th>val</th>\n",
       "      <th>pt</th>\n",
       "    </tr>\n",
       "  </thead>\n",
       "  <tbody>\n",
       "    <tr>\n",
       "      <th>0</th>\n",
       "      <td>+</td>\n",
       "      <td>1</td>\n",
       "      <td>100</td>\n",
       "    </tr>\n",
       "    <tr>\n",
       "      <th>1</th>\n",
       "      <td>A</td>\n",
       "      <td>33</td>\n",
       "      <td>100</td>\n",
       "    </tr>\n",
       "    <tr>\n",
       "      <th>2</th>\n",
       "      <td>N</td>\n",
       "      <td>2239</td>\n",
       "      <td>100</td>\n",
       "    </tr>\n",
       "    <tr>\n",
       "      <th>3</th>\n",
       "      <td>V</td>\n",
       "      <td>1</td>\n",
       "      <td>100</td>\n",
       "    </tr>\n",
       "    <tr>\n",
       "      <th>0</th>\n",
       "      <td>+</td>\n",
       "      <td>1</td>\n",
       "      <td>101</td>\n",
       "    </tr>\n",
       "  </tbody>\n",
       "</table></div>"
      ],
      "text/plain": [
       "  sym   val   pt\n",
       "0   +     1  100\n",
       "1   A    33  100\n",
       "2   N  2239  100\n",
       "3   V     1  100\n",
       "0   +     1  101"
      ]
     },
     "execution_count": 10,
     "metadata": {},
     "output_type": "execute_result"
    }
   ],
   "source": [
    "df.head()"
   ]
  },
  {
   "cell_type": "code",
   "execution_count": 11,
   "metadata": {},
   "outputs": [
    {
     "data": {
      "text/plain": [
       "sym\n",
       "N    75052\n",
       "L     8075\n",
       "R     7259\n",
       "V     7130\n",
       "/     7028\n",
       "A     2546\n",
       "+     1291\n",
       "f      982\n",
       "F      803\n",
       "~      616\n",
       "!      472\n",
       "\"      437\n",
       "j      229\n",
       "x      193\n",
       "a      150\n",
       "|      132\n",
       "E      106\n",
       "J       83\n",
       "Q       33\n",
       "e       16\n",
       "[        6\n",
       "]        6\n",
       "S        2\n",
       "Name: val, dtype: int64"
      ]
     },
     "execution_count": 11,
     "metadata": {},
     "output_type": "execute_result"
    }
   ],
   "source": [
    "df.groupby('sym').val.sum().sort_values(ascending = False)\n"
   ]
  },
  {
   "cell_type": "markdown",
   "metadata": {},
   "source": [
    "This dataset is extensively labelled with various abnormalities given their own names and labels. For the initial model, I will only use a boolean 0/1 to represent normal/abnormal. Later iterations may attempt to no only identify anomalies, but provide proposed labels naming the specific anomaly type, but that is beyond the scope of the current work.\n",
    "\n",
    "Some of the abnormal labels also apply to features that aren't part of the normal heartbeat / cardiac cycle. I will focus on the actual abnormal beat features, not these \"nonbeat\" features."
   ]
  },
  {
   "cell_type": "code",
   "execution_count": 12,
   "metadata": {},
   "outputs": [],
   "source": [
    "# list of nonbeat and abnormal\n",
    "nonbeat = ['[','!',']','x','(',')','p','t','u','`',\n",
    "           '\\'','^','|','~','+','s','T','*','D','=','\"','@','Q','?']\n",
    "abnormal = ['L','R','V','/','A','f','F','j','a','E','J','e','S']"
   ]
  },
  {
   "cell_type": "code",
   "execution_count": 13,
   "metadata": {},
   "outputs": [],
   "source": [
    "# break into normal, abnormal or nonbeat\n",
    "df['cat'] = -1\n",
    "df.loc[df.sym == 'N','cat'] = 0\n",
    "df.loc[df.sym.isin(abnormal), 'cat'] = 1"
   ]
  },
  {
   "cell_type": "code",
   "execution_count": 14,
   "metadata": {},
   "outputs": [
    {
     "data": {
      "text/plain": [
       "cat\n",
       "-1     3186\n",
       " 0    75052\n",
       " 1    34409\n",
       "Name: val, dtype: int64"
      ]
     },
     "execution_count": 14,
     "metadata": {},
     "output_type": "execute_result"
    }
   ],
   "source": [
    "df.groupby('cat').val.sum()\n"
   ]
  },
  {
   "cell_type": "markdown",
   "metadata": {},
   "source": [
    "This gives me an overall dataset of 75052 normal cardiac cycles, 34409 examples of abnormalities, and 3186 non-beat features which will be excluded from training and modeling."
   ]
  },
  {
   "cell_type": "markdown",
   "metadata": {},
   "source": [
    "The following function will load a single patient's signals and annotations (annotation values are the indices of the signal array)"
   ]
  },
  {
   "cell_type": "code",
   "execution_count": 15,
   "metadata": {},
   "outputs": [],
   "source": [
    "def load_ecg(file):\n",
    "    # load the ecg\n",
    "    # example file: 'mit-bih-arrhythmia-database-1.0.0/101'\n",
    "    \n",
    "    # load the ecg\n",
    "    record = wfdb.rdrecord(file)\n",
    "    # load the annotation\n",
    "    annotation = wfdb.rdann(file, 'atr')\n",
    "    \n",
    "    # extract the signal\n",
    "    p_signal = record.p_signal\n",
    "    \n",
    "    # verify frequency is 360\n",
    "    assert record.fs == 360, 'sample freq is not 360'\n",
    "    \n",
    "    # extract symbols and annotation index\n",
    "    atr_sym = annotation.symbol\n",
    "    atr_sample = annotation.sample\n",
    "    \n",
    "    return p_signal, atr_sym, atr_sample "
   ]
  },
  {
   "cell_type": "code",
   "execution_count": 16,
   "metadata": {},
   "outputs": [],
   "source": [
    "# Files are named by patient number, already listed in the pts array, in the path defined\n",
    "file = data_path + pts[0]\n"
   ]
  },
  {
   "cell_type": "code",
   "execution_count": 17,
   "metadata": {},
   "outputs": [],
   "source": [
    "p_signal, atr_sym, atr_sample = load_ecg(file)\n"
   ]
  },
  {
   "cell_type": "code",
   "execution_count": 18,
   "metadata": {},
   "outputs": [
    {
     "name": "stdout",
     "output_type": "stream",
     "text": [
      "+ 3\n",
      "J 50\n",
      "N 2700\n",
      "V 3\n",
      "~ 8\n"
     ]
    }
   ],
   "source": [
    "values, counts = np.unique(sym, return_counts=True)\n",
    "for v,c in zip(values, counts):\n",
    "    print(v,c)\n"
   ]
  },
  {
   "cell_type": "markdown",
   "metadata": {},
   "source": [
    "It is important to note that the data do not contain 'normal' ECGs for 'normal' patients and 'abnornal' ecgs for 'abnormal' patients.\n",
    "\n",
    "For any given patient over the recording period, there will be many 'normal' beats and possibly 'abnormal' ones as well."
   ]
  },
  {
   "cell_type": "code",
   "execution_count": 19,
   "metadata": {},
   "outputs": [
    {
     "data": {
      "text/plain": [
       "[2044, 66792, 74986, 99579, 128085, 170719, 279576, 305709, 307745, 312825]"
      ]
     },
     "execution_count": 19,
     "metadata": {},
     "output_type": "execute_result"
    }
   ],
   "source": [
    "# Get index of any abnormal beats\n",
    "ab_index = [b for a,b in zip(atr_sym,atr_sample) if a in abnormal][:10]\n",
    "ab_index"
   ]
  },
  {
   "cell_type": "markdown",
   "metadata": {},
   "source": [
    "This is time-based data with a sample frequency of 360 Hz. I do not have a time-stamp in the dataframe, but we can make an x-array of the length of the signal values to serve as our time axis since the time sampling interval is regular each value is (1/360) seconds."
   ]
  },
  {
   "cell_type": "code",
   "execution_count": 20,
   "metadata": {},
   "outputs": [],
   "source": [
    "x = np.arange(len(p_signal))\n"
   ]
  },
  {
   "cell_type": "markdown",
   "metadata": {},
   "source": [
    "Here, I will plot an abnormal beat from our abnormal index and show 3 seconds before and after the abnormality"
   ]
  },
  {
   "cell_type": "code",
   "execution_count": 21,
   "metadata": {},
   "outputs": [
    {
     "data": {
      "image/png": "[encoded data removed]",
      "text/plain": [
       "<Figure size 432x288 with 1 Axes>"
      ]
     },
     "metadata": {
      "needs_background": "light"
     },
     "output_type": "display_data"
    }
   ],
   "source": [
    "left = ab_index[1]-1080\n",
    "right = ab_index[1]+1080\n",
    "\n",
    "plt.plot(x[left:right],p_signal[left:right,0],'-',label='ecg',)\n",
    "plt.plot(x[atr_sample],p_signal[atr_sample,0],'go',label ='normal')\n",
    "plt.plot(x[ab_index],p_signal[ab_index,0],'ro',label='abnormal')\n",
    "\n",
    "plt.xlim(left,right)\n",
    "plt.ylim(p_signal[left:right].min()-0.05,p_signal[left:right,0].max()+0.05)\n",
    "plt.xlabel('time index')\n",
    "plt.ylabel('ECG signal')\n",
    "plt.legend(bbox_to_anchor = (1.04,1), loc = 'upper left')\n",
    "plt.show()\n"
   ]
  },
  {
   "cell_type": "markdown",
   "metadata": {},
   "source": [
    "## Dataset Generation\n",
    "\n",
    "Here, I will make a dataframe containing every heartbeat in the dataset centered on the beat with the 3 seconds before and after, like the example above."
   ]
  },
  {
   "cell_type": "code",
   "execution_count": 22,
   "metadata": {},
   "outputs": [],
   "source": [
    "def make_dataset(pts, num_sec, fs, abnormal):\n",
    "    '''\n",
    "    function for making dataset ignoring non-beats\n",
    "    \n",
    "    input:\n",
    "        pts - list of patients\n",
    "        num_sec = number of seconds to include before and after the beat\n",
    "        fs = frequency\n",
    "    \n",
    "    output: \n",
    "        X_all = signal (nbeats , num_sec * fs columns)\n",
    "        Y_all = binary is abnormal (nbeats, 1)\n",
    "        sym_all = beat annotation symbol (nbeats,1)\n",
    "    '''\n",
    "\n",
    "    #initialize numpy arrays\n",
    "    num_cols = 2*num_sec * fs\n",
    "    X_all = np.zeros((1,num_cols))\n",
    "    Y_all = np.zeros((1,1))\n",
    "    sym_all = []\n",
    "    \n",
    "    #list to keep track of number of beats across patients\n",
    "    max_rows = []\n",
    "        \n",
    "    for pt in pts:\n",
    "        file = data_path + pt\n",
    "        \n",
    "        p_signal, atr_sym, atr_sample = load_ecg(file)\n",
    "        \n",
    "        # grab the first signal\n",
    "        p_signal = p_signal[:,0]\n",
    "        \n",
    "        # make df to exclude the nonbeats\n",
    "        df_ann = pd.DataFrame({'atr_sym':atr_sym,\n",
    "                              'atr_sample':atr_sample})\n",
    "        df_ann = df_ann.loc[df_ann.atr_sym.isin(abnormal + ['N'])]\n",
    "        \n",
    "        X,Y,sym = build_XY(p_signal,df_ann, num_cols, abnormal)\n",
    "        sym_all = sym_all+sym\n",
    "        max_rows.append(X.shape[0])\n",
    "        X_all = np.append(X_all,X,axis = 0)\n",
    "        Y_all = np.append(Y_all,Y,axis = 0)\n",
    "    # drop the first zero row\n",
    "    X_all = X_all[1:,:]\n",
    "    Y_all = Y_all[1:,:]\n",
    "    \n",
    "    # check sizes make sense\n",
    "    assert np.sum(max_rows) == X_all.shape[0], 'number of X, max_rows rows messed up'\n",
    "    assert Y_all.shape[0] == X_all.shape[0], 'number of X, Y rows messed up'\n",
    "    assert Y_all.shape[0] == len(sym_all), 'number of Y, sym rows messed up'\n",
    "\n",
    "    return X_all, Y_all, sym_all"
   ]
  },
  {
   "cell_type": "code",
   "execution_count": 23,
   "metadata": {},
   "outputs": [],
   "source": [
    "def build_XY(p_signal, df_ann, num_cols, abnormal):\n",
    "    '''\n",
    "    this function builds the X,Y matrices for each beat\n",
    "     it also returns the original symbols for Y\n",
    "    '''\n",
    "    \n",
    "    num_rows = len(df_ann)\n",
    "\n",
    "    X = np.zeros((num_rows, num_cols))\n",
    "    Y = np.zeros((num_rows,1))\n",
    "    sym = []\n",
    "    \n",
    "    # keep track of rows\n",
    "    max_row = 0\n",
    "\n",
    "    for atr_sample, atr_sym in zip(df_ann.atr_sample.values,df_ann.atr_sym.values):\n",
    "\n",
    "        left = max([0,(atr_sample - num_sec*fs) ])\n",
    "        right = min([len(p_signal),(atr_sample + num_sec*fs) ])\n",
    "        x = p_signal[left: right]\n",
    "        if len(x) == num_cols:\n",
    "            X[max_row,:] = x\n",
    "            Y[max_row,:] = int(atr_sym in abnormal)\n",
    "            sym.append(atr_sym)\n",
    "            max_row += 1\n",
    "    X = X[:max_row,:]\n",
    "    Y = Y[:max_row,:]\n",
    "    return X,Y,sym\n",
    "    "
   ]
  },
  {
   "cell_type": "code",
   "execution_count": 24,
   "metadata": {},
   "outputs": [],
   "source": [
    "# define parameters\n",
    "\n",
    "num_sec = 3\n",
    "fs = 360"
   ]
  },
  {
   "cell_type": "code",
   "execution_count": 54,
   "metadata": {},
   "outputs": [],
   "source": [
    "X_all, Y_all, sym_all = make_dataset(pts, num_sec, fs, abnormal)"
   ]
  },
  {
   "cell_type": "markdown",
   "metadata": {},
   "source": [
    "The previous cell took minutes to run, so I will convert X_all, Y_all, and sym_all to dataframes and cache them as CSV files (which I wont upload to Github this time as they are too large)"
   ]
  },
  {
   "cell_type": "code",
   "execution_count": 55,
   "metadata": {},
   "outputs": [],
   "source": [
    "X_all=pd.DataFrame(X_all)\n",
    "Y_all=pd.DataFrame(Y_all)\n",
    "sym_all=pd.DataFrame(sym_all)"
   ]
  },
  {
   "cell_type": "code",
   "execution_count": 56,
   "metadata": {},
   "outputs": [
    {
     "data": {
      "text/html": [
       "<div><div id=52df633d-f31d-4c27-b599-13f532654623 style=\"display:none; background-color:#9D6CFF; color:white; width:200px; height:30px; padding-left:5px; border-radius:4px; flex-direction:row; justify-content:space-around; align-items:center;\" onmouseover=\"this.style.backgroundColor='#BA9BF8'\" onmouseout=\"this.style.backgroundColor='#9D6CFF'\" onclick=\"window.commands?.execute('create-mitosheet-from-dataframe-output');\">See Full Dataframe in Mito</div> <script> if (window.commands.hasCommand('create-mitosheet-from-dataframe-output')) document.getElementById('52df633d-f31d-4c27-b599-13f532654623').style.display = 'flex' </script> <table border=\"1\" class=\"dataframe\">\n",
       "  <thead>\n",
       "    <tr style=\"text-align: right;\">\n",
       "      <th></th>\n",
       "      <th>0</th>\n",
       "      <th>1</th>\n",
       "      <th>2</th>\n",
       "      <th>3</th>\n",
       "      <th>4</th>\n",
       "      <th>5</th>\n",
       "      <th>6</th>\n",
       "      <th>7</th>\n",
       "      <th>8</th>\n",
       "      <th>9</th>\n",
       "      <th>...</th>\n",
       "      <th>2150</th>\n",
       "      <th>2151</th>\n",
       "      <th>2152</th>\n",
       "      <th>2153</th>\n",
       "      <th>2154</th>\n",
       "      <th>2155</th>\n",
       "      <th>2156</th>\n",
       "      <th>2157</th>\n",
       "      <th>2158</th>\n",
       "      <th>2159</th>\n",
       "    </tr>\n",
       "  </thead>\n",
       "  <tbody>\n",
       "    <tr>\n",
       "      <th>0</th>\n",
       "      <td>-0.340</td>\n",
       "      <td>-0.335</td>\n",
       "      <td>-0.330</td>\n",
       "      <td>-0.35</td>\n",
       "      <td>-0.350</td>\n",
       "      <td>-0.345</td>\n",
       "      <td>-0.335</td>\n",
       "      <td>-0.335</td>\n",
       "      <td>-0.335</td>\n",
       "      <td>-0.350</td>\n",
       "      <td>...</td>\n",
       "      <td>-0.365</td>\n",
       "      <td>-0.375</td>\n",
       "      <td>-0.370</td>\n",
       "      <td>-0.365</td>\n",
       "      <td>-0.360</td>\n",
       "      <td>-0.355</td>\n",
       "      <td>-0.360</td>\n",
       "      <td>-0.360</td>\n",
       "      <td>-0.350</td>\n",
       "      <td>-0.34</td>\n",
       "    </tr>\n",
       "    <tr>\n",
       "      <th>1</th>\n",
       "      <td>-0.390</td>\n",
       "      <td>-0.395</td>\n",
       "      <td>-0.410</td>\n",
       "      <td>-0.40</td>\n",
       "      <td>-0.390</td>\n",
       "      <td>-0.390</td>\n",
       "      <td>-0.385</td>\n",
       "      <td>-0.405</td>\n",
       "      <td>-0.415</td>\n",
       "      <td>-0.415</td>\n",
       "      <td>...</td>\n",
       "      <td>-0.340</td>\n",
       "      <td>-0.335</td>\n",
       "      <td>-0.330</td>\n",
       "      <td>-0.335</td>\n",
       "      <td>-0.345</td>\n",
       "      <td>-0.350</td>\n",
       "      <td>-0.350</td>\n",
       "      <td>-0.340</td>\n",
       "      <td>-0.335</td>\n",
       "      <td>-0.33</td>\n",
       "    </tr>\n",
       "    <tr>\n",
       "      <th>2</th>\n",
       "      <td>-0.400</td>\n",
       "      <td>-0.410</td>\n",
       "      <td>-0.425</td>\n",
       "      <td>-0.41</td>\n",
       "      <td>-0.405</td>\n",
       "      <td>-0.395</td>\n",
       "      <td>-0.400</td>\n",
       "      <td>-0.400</td>\n",
       "      <td>-0.405</td>\n",
       "      <td>-0.385</td>\n",
       "      <td>...</td>\n",
       "      <td>-0.340</td>\n",
       "      <td>-0.320</td>\n",
       "      <td>-0.315</td>\n",
       "      <td>-0.330</td>\n",
       "      <td>-0.340</td>\n",
       "      <td>-0.340</td>\n",
       "      <td>-0.350</td>\n",
       "      <td>-0.330</td>\n",
       "      <td>-0.330</td>\n",
       "      <td>-0.34</td>\n",
       "    </tr>\n",
       "    <tr>\n",
       "      <th>3</th>\n",
       "      <td>-0.405</td>\n",
       "      <td>-0.410</td>\n",
       "      <td>-0.405</td>\n",
       "      <td>-0.40</td>\n",
       "      <td>-0.390</td>\n",
       "      <td>-0.395</td>\n",
       "      <td>-0.410</td>\n",
       "      <td>-0.415</td>\n",
       "      <td>-0.410</td>\n",
       "      <td>-0.395</td>\n",
       "      <td>...</td>\n",
       "      <td>-0.270</td>\n",
       "      <td>-0.265</td>\n",
       "      <td>-0.260</td>\n",
       "      <td>-0.275</td>\n",
       "      <td>-0.285</td>\n",
       "      <td>-0.265</td>\n",
       "      <td>-0.255</td>\n",
       "      <td>-0.250</td>\n",
       "      <td>-0.270</td>\n",
       "      <td>-0.28</td>\n",
       "    </tr>\n",
       "    <tr>\n",
       "      <th>4</th>\n",
       "      <td>-0.470</td>\n",
       "      <td>-0.455</td>\n",
       "      <td>-0.460</td>\n",
       "      <td>-0.44</td>\n",
       "      <td>-0.435</td>\n",
       "      <td>-0.425</td>\n",
       "      <td>-0.430</td>\n",
       "      <td>-0.445</td>\n",
       "      <td>-0.450</td>\n",
       "      <td>-0.445</td>\n",
       "      <td>...</td>\n",
       "      <td>-0.320</td>\n",
       "      <td>-0.310</td>\n",
       "      <td>-0.300</td>\n",
       "      <td>-0.295</td>\n",
       "      <td>-0.300</td>\n",
       "      <td>-0.315</td>\n",
       "      <td>-0.325</td>\n",
       "      <td>-0.325</td>\n",
       "      <td>-0.305</td>\n",
       "      <td>-0.31</td>\n",
       "    </tr>\n",
       "  </tbody>\n",
       "</table></div>"
      ],
      "text/plain": [
       "    0      1      2     3      4      5      6      7      8      9     ...  \\\n",
       "0 -0.340 -0.335 -0.330 -0.35 -0.350 -0.345 -0.335 -0.335 -0.335 -0.350  ...   \n",
       "1 -0.390 -0.395 -0.410 -0.40 -0.390 -0.390 -0.385 -0.405 -0.415 -0.415  ...   \n",
       "2 -0.400 -0.410 -0.425 -0.41 -0.405 -0.395 -0.400 -0.400 -0.405 -0.385  ...   \n",
       "3 -0.405 -0.410 -0.405 -0.40 -0.390 -0.395 -0.410 -0.415 -0.410 -0.395  ...   \n",
       "4 -0.470 -0.455 -0.460 -0.44 -0.435 -0.425 -0.430 -0.445 -0.450 -0.445  ...   \n",
       "\n",
       "    2150   2151   2152   2153   2154   2155   2156   2157   2158  2159  \n",
       "0 -0.365 -0.375 -0.370 -0.365 -0.360 -0.355 -0.360 -0.360 -0.350 -0.34  \n",
       "1 -0.340 -0.335 -0.330 -0.335 -0.345 -0.350 -0.350 -0.340 -0.335 -0.33  \n",
       "2 -0.340 -0.320 -0.315 -0.330 -0.340 -0.340 -0.350 -0.330 -0.330 -0.34  \n",
       "3 -0.270 -0.265 -0.260 -0.275 -0.285 -0.265 -0.255 -0.250 -0.270 -0.28  \n",
       "4 -0.320 -0.310 -0.300 -0.295 -0.300 -0.315 -0.325 -0.325 -0.305 -0.31  \n",
       "\n",
       "[5 rows x 2160 columns]"
      ]
     },
     "execution_count": 56,
     "metadata": {},
     "output_type": "execute_result"
    }
   ],
   "source": [
    "X_all.head()"
   ]
  },
  {
   "cell_type": "code",
   "execution_count": 28,
   "metadata": {},
   "outputs": [
    {
     "data": {
      "text/plain": [
       "(109099, 2160)"
      ]
     },
     "execution_count": 28,
     "metadata": {},
     "output_type": "execute_result"
    }
   ],
   "source": [
    "X_all.shape"
   ]
  },
  {
   "cell_type": "code",
   "execution_count": 57,
   "metadata": {},
   "outputs": [
    {
     "data": {
      "text/html": [
       "<div><div id=d5938b6c-bea8-4b4f-84b7-e05ec886de20 style=\"display:none; background-color:#9D6CFF; color:white; width:200px; height:30px; padding-left:5px; border-radius:4px; flex-direction:row; justify-content:space-around; align-items:center;\" onmouseover=\"this.style.backgroundColor='#BA9BF8'\" onmouseout=\"this.style.backgroundColor='#9D6CFF'\" onclick=\"window.commands?.execute('create-mitosheet-from-dataframe-output');\">See Full Dataframe in Mito</div> <script> if (window.commands.hasCommand('create-mitosheet-from-dataframe-output')) document.getElementById('d5938b6c-bea8-4b4f-84b7-e05ec886de20').style.display = 'flex' </script> <table border=\"1\" class=\"dataframe\">\n",
       "  <thead>\n",
       "    <tr style=\"text-align: right;\">\n",
       "      <th></th>\n",
       "      <th>0</th>\n",
       "    </tr>\n",
       "  </thead>\n",
       "  <tbody>\n",
       "    <tr>\n",
       "      <th>0</th>\n",
       "      <td>0.0</td>\n",
       "    </tr>\n",
       "    <tr>\n",
       "      <th>1</th>\n",
       "      <td>0.0</td>\n",
       "    </tr>\n",
       "    <tr>\n",
       "      <th>2</th>\n",
       "      <td>0.0</td>\n",
       "    </tr>\n",
       "    <tr>\n",
       "      <th>3</th>\n",
       "      <td>1.0</td>\n",
       "    </tr>\n",
       "    <tr>\n",
       "      <th>4</th>\n",
       "      <td>0.0</td>\n",
       "    </tr>\n",
       "  </tbody>\n",
       "</table></div>"
      ],
      "text/plain": [
       "     0\n",
       "0  0.0\n",
       "1  0.0\n",
       "2  0.0\n",
       "3  1.0\n",
       "4  0.0"
      ]
     },
     "execution_count": 57,
     "metadata": {},
     "output_type": "execute_result"
    }
   ],
   "source": [
    "Y_all.head()"
   ]
  },
  {
   "cell_type": "code",
   "execution_count": 59,
   "metadata": {},
   "outputs": [
    {
     "data": {
      "text/plain": [
       "(109099, 1)"
      ]
     },
     "execution_count": 59,
     "metadata": {},
     "output_type": "execute_result"
    }
   ],
   "source": [
    "Y_all.shape"
   ]
  },
  {
   "cell_type": "code",
   "execution_count": 30,
   "metadata": {},
   "outputs": [],
   "source": [
    "# X_all.to_csv('X_all.csv')"
   ]
  },
  {
   "cell_type": "code",
   "execution_count": 60,
   "metadata": {},
   "outputs": [],
   "source": [
    "Y_all.to_csv('Y_all.csv')"
   ]
  },
  {
   "cell_type": "code",
   "execution_count": 61,
   "metadata": {},
   "outputs": [],
   "source": [
    "sym_all.to_csv('sym_all.csv')"
   ]
  },
  {
   "cell_type": "markdown",
   "metadata": {},
   "source": [
    "### Split Data"
   ]
  },
  {
   "cell_type": "code",
   "execution_count": 36,
   "metadata": {},
   "outputs": [],
   "source": [
    "from sklearn.model_selection import train_test_split\n"
   ]
  },
  {
   "cell_type": "code",
   "execution_count": 75,
   "metadata": {},
   "outputs": [],
   "source": [
    "def split_my_data(X_all, Y_all, sym_all, pct=0.10):\n",
    "    '''\n",
    "    This splits a dataframe into train, validate, and test sets. \n",
    "    df = dataframe to split\n",
    "    pct = size of the test set, 1/2 of size of the validate set\n",
    "    Returns three dataframes (train, validate, test)\n",
    "    '''\n",
    "    X_train_validate, X_test, Y_train_validate, Y_test, sym_train_validate, sym_test = train_test_split(\n",
    "        X_all, Y_all, sym_all, test_size=pct, random_state=123)\n",
    "    X_train, X_validate, Y_train, Y_validate, sym_train, sym_validate = train_test_split(\n",
    "        X_train_validate, Y_train_validate, sym_train_validate, test_size=pct*2, random_state=123)\n",
    "    return X_train, X_validate, X_test, Y_train, Y_validate, Y_test, sym_train, sym_validate, sym_test"
   ]
  },
  {
   "cell_type": "code",
   "execution_count": 63,
   "metadata": {},
   "outputs": [
    {
     "data": {
      "text/html": [
       "<div><div id=b7a1589a-77e5-4408-a65f-b87d2e1b5d42 style=\"display:none; background-color:#9D6CFF; color:white; width:200px; height:30px; padding-left:5px; border-radius:4px; flex-direction:row; justify-content:space-around; align-items:center;\" onmouseover=\"this.style.backgroundColor='#BA9BF8'\" onmouseout=\"this.style.backgroundColor='#9D6CFF'\" onclick=\"window.commands?.execute('create-mitosheet-from-dataframe-output');\">See Full Dataframe in Mito</div> <script> if (window.commands.hasCommand('create-mitosheet-from-dataframe-output')) document.getElementById('b7a1589a-77e5-4408-a65f-b87d2e1b5d42').style.display = 'flex' </script> <table border=\"1\" class=\"dataframe\">\n",
       "  <thead>\n",
       "    <tr style=\"text-align: right;\">\n",
       "      <th></th>\n",
       "      <th>0</th>\n",
       "      <th>1</th>\n",
       "      <th>2</th>\n",
       "      <th>3</th>\n",
       "      <th>4</th>\n",
       "      <th>5</th>\n",
       "      <th>6</th>\n",
       "      <th>7</th>\n",
       "      <th>8</th>\n",
       "      <th>9</th>\n",
       "      <th>...</th>\n",
       "      <th>2150</th>\n",
       "      <th>2151</th>\n",
       "      <th>2152</th>\n",
       "      <th>2153</th>\n",
       "      <th>2154</th>\n",
       "      <th>2155</th>\n",
       "      <th>2156</th>\n",
       "      <th>2157</th>\n",
       "      <th>2158</th>\n",
       "      <th>2159</th>\n",
       "    </tr>\n",
       "  </thead>\n",
       "  <tbody>\n",
       "    <tr>\n",
       "      <th>0</th>\n",
       "      <td>-0.340</td>\n",
       "      <td>-0.335</td>\n",
       "      <td>-0.330</td>\n",
       "      <td>-0.35</td>\n",
       "      <td>-0.350</td>\n",
       "      <td>-0.345</td>\n",
       "      <td>-0.335</td>\n",
       "      <td>-0.335</td>\n",
       "      <td>-0.335</td>\n",
       "      <td>-0.350</td>\n",
       "      <td>...</td>\n",
       "      <td>-0.365</td>\n",
       "      <td>-0.375</td>\n",
       "      <td>-0.370</td>\n",
       "      <td>-0.365</td>\n",
       "      <td>-0.360</td>\n",
       "      <td>-0.355</td>\n",
       "      <td>-0.360</td>\n",
       "      <td>-0.360</td>\n",
       "      <td>-0.350</td>\n",
       "      <td>-0.34</td>\n",
       "    </tr>\n",
       "    <tr>\n",
       "      <th>1</th>\n",
       "      <td>-0.390</td>\n",
       "      <td>-0.395</td>\n",
       "      <td>-0.410</td>\n",
       "      <td>-0.40</td>\n",
       "      <td>-0.390</td>\n",
       "      <td>-0.390</td>\n",
       "      <td>-0.385</td>\n",
       "      <td>-0.405</td>\n",
       "      <td>-0.415</td>\n",
       "      <td>-0.415</td>\n",
       "      <td>...</td>\n",
       "      <td>-0.340</td>\n",
       "      <td>-0.335</td>\n",
       "      <td>-0.330</td>\n",
       "      <td>-0.335</td>\n",
       "      <td>-0.345</td>\n",
       "      <td>-0.350</td>\n",
       "      <td>-0.350</td>\n",
       "      <td>-0.340</td>\n",
       "      <td>-0.335</td>\n",
       "      <td>-0.33</td>\n",
       "    </tr>\n",
       "    <tr>\n",
       "      <th>2</th>\n",
       "      <td>-0.400</td>\n",
       "      <td>-0.410</td>\n",
       "      <td>-0.425</td>\n",
       "      <td>-0.41</td>\n",
       "      <td>-0.405</td>\n",
       "      <td>-0.395</td>\n",
       "      <td>-0.400</td>\n",
       "      <td>-0.400</td>\n",
       "      <td>-0.405</td>\n",
       "      <td>-0.385</td>\n",
       "      <td>...</td>\n",
       "      <td>-0.340</td>\n",
       "      <td>-0.320</td>\n",
       "      <td>-0.315</td>\n",
       "      <td>-0.330</td>\n",
       "      <td>-0.340</td>\n",
       "      <td>-0.340</td>\n",
       "      <td>-0.350</td>\n",
       "      <td>-0.330</td>\n",
       "      <td>-0.330</td>\n",
       "      <td>-0.34</td>\n",
       "    </tr>\n",
       "    <tr>\n",
       "      <th>3</th>\n",
       "      <td>-0.405</td>\n",
       "      <td>-0.410</td>\n",
       "      <td>-0.405</td>\n",
       "      <td>-0.40</td>\n",
       "      <td>-0.390</td>\n",
       "      <td>-0.395</td>\n",
       "      <td>-0.410</td>\n",
       "      <td>-0.415</td>\n",
       "      <td>-0.410</td>\n",
       "      <td>-0.395</td>\n",
       "      <td>...</td>\n",
       "      <td>-0.270</td>\n",
       "      <td>-0.265</td>\n",
       "      <td>-0.260</td>\n",
       "      <td>-0.275</td>\n",
       "      <td>-0.285</td>\n",
       "      <td>-0.265</td>\n",
       "      <td>-0.255</td>\n",
       "      <td>-0.250</td>\n",
       "      <td>-0.270</td>\n",
       "      <td>-0.28</td>\n",
       "    </tr>\n",
       "    <tr>\n",
       "      <th>4</th>\n",
       "      <td>-0.470</td>\n",
       "      <td>-0.455</td>\n",
       "      <td>-0.460</td>\n",
       "      <td>-0.44</td>\n",
       "      <td>-0.435</td>\n",
       "      <td>-0.425</td>\n",
       "      <td>-0.430</td>\n",
       "      <td>-0.445</td>\n",
       "      <td>-0.450</td>\n",
       "      <td>-0.445</td>\n",
       "      <td>...</td>\n",
       "      <td>-0.320</td>\n",
       "      <td>-0.310</td>\n",
       "      <td>-0.300</td>\n",
       "      <td>-0.295</td>\n",
       "      <td>-0.300</td>\n",
       "      <td>-0.315</td>\n",
       "      <td>-0.325</td>\n",
       "      <td>-0.325</td>\n",
       "      <td>-0.305</td>\n",
       "      <td>-0.31</td>\n",
       "    </tr>\n",
       "  </tbody>\n",
       "</table></div>"
      ],
      "text/plain": [
       "    0      1      2     3      4      5      6      7      8      9     ...  \\\n",
       "0 -0.340 -0.335 -0.330 -0.35 -0.350 -0.345 -0.335 -0.335 -0.335 -0.350  ...   \n",
       "1 -0.390 -0.395 -0.410 -0.40 -0.390 -0.390 -0.385 -0.405 -0.415 -0.415  ...   \n",
       "2 -0.400 -0.410 -0.425 -0.41 -0.405 -0.395 -0.400 -0.400 -0.405 -0.385  ...   \n",
       "3 -0.405 -0.410 -0.405 -0.40 -0.390 -0.395 -0.410 -0.415 -0.410 -0.395  ...   \n",
       "4 -0.470 -0.455 -0.460 -0.44 -0.435 -0.425 -0.430 -0.445 -0.450 -0.445  ...   \n",
       "\n",
       "    2150   2151   2152   2153   2154   2155   2156   2157   2158  2159  \n",
       "0 -0.365 -0.375 -0.370 -0.365 -0.360 -0.355 -0.360 -0.360 -0.350 -0.34  \n",
       "1 -0.340 -0.335 -0.330 -0.335 -0.345 -0.350 -0.350 -0.340 -0.335 -0.33  \n",
       "2 -0.340 -0.320 -0.315 -0.330 -0.340 -0.340 -0.350 -0.330 -0.330 -0.34  \n",
       "3 -0.270 -0.265 -0.260 -0.275 -0.285 -0.265 -0.255 -0.250 -0.270 -0.28  \n",
       "4 -0.320 -0.310 -0.300 -0.295 -0.300 -0.315 -0.325 -0.325 -0.305 -0.31  \n",
       "\n",
       "[5 rows x 2160 columns]"
      ]
     },
     "execution_count": 63,
     "metadata": {},
     "output_type": "execute_result"
    }
   ],
   "source": [
    "X_all.head()"
   ]
  },
  {
   "cell_type": "code",
   "execution_count": 76,
   "metadata": {},
   "outputs": [],
   "source": [
    "X_train, X_validate, X_test, Y_train, Y_validate, Y_test, sym_train, sym_validate, sym_test = split_my_data(X_all, Y_all, sym_all)"
   ]
  },
  {
   "cell_type": "code",
   "execution_count": 77,
   "metadata": {},
   "outputs": [
    {
     "name": "stdout",
     "output_type": "stream",
     "text": [
      "(78551, 2160)\n",
      "(19638, 2160)\n",
      "(10910, 2160)\n"
     ]
    }
   ],
   "source": [
    "print(X_train.shape)\n",
    "print(X_validate.shape)\n",
    "print(X_test.shape)"
   ]
  },
  {
   "cell_type": "code",
   "execution_count": 78,
   "metadata": {},
   "outputs": [
    {
     "name": "stdout",
     "output_type": "stream",
     "text": [
      "(78551, 1)\n",
      "(19638, 1)\n",
      "(10910, 1)\n"
     ]
    }
   ],
   "source": [
    "print(Y_train.shape)\n",
    "print(Y_validate.shape)\n",
    "print(Y_test.shape)"
   ]
  },
  {
   "cell_type": "code",
   "execution_count": 79,
   "metadata": {},
   "outputs": [
    {
     "name": "stdout",
     "output_type": "stream",
     "text": [
      "(78551, 1)\n",
      "(19638, 1)\n",
      "(10910, 1)\n"
     ]
    }
   ],
   "source": [
    "print(sym_train.shape)\n",
    "print(sym_validate.shape)\n",
    "print(sym_test.shape)"
   ]
  },
  {
   "cell_type": "code",
   "execution_count": 80,
   "metadata": {},
   "outputs": [],
   "source": [
    "X_train.to_csv('X_train.csv')\n",
    "X_validate.to_csv('X_validate.csv')\n",
    "X_test.to_csv('X_test.csv')"
   ]
  },
  {
   "cell_type": "code",
   "execution_count": 81,
   "metadata": {},
   "outputs": [],
   "source": [
    "Y_train.to_csv('Y_train.csv')\n",
    "Y_validate.to_csv('Y_validate.csv')\n",
    "Y_test.to_csv('Y_test.csv')"
   ]
  },
  {
   "cell_type": "code",
   "execution_count": 82,
   "metadata": {},
   "outputs": [],
   "source": [
    "sym_train.to_csv('sym_train.csv')\n",
    "sym_validate.to_csv('sym_validate.csv')\n",
    "sym_test.to_csv('sym_test.csv')"
   ]
  },
  {
   "cell_type": "code",
   "execution_count": 83,
   "metadata": {},
   "outputs": [
    {
     "data": {
      "text/html": [
       "<div><div id=1cd1e60d-8b3e-49bc-b6b3-a9ad3887fbe4 style=\"display:none; background-color:#9D6CFF; color:white; width:200px; height:30px; padding-left:5px; border-radius:4px; flex-direction:row; justify-content:space-around; align-items:center;\" onmouseover=\"this.style.backgroundColor='#BA9BF8'\" onmouseout=\"this.style.backgroundColor='#9D6CFF'\" onclick=\"window.commands?.execute('create-mitosheet-from-dataframe-output');\">See Full Dataframe in Mito</div> <script> if (window.commands.hasCommand('create-mitosheet-from-dataframe-output')) document.getElementById('1cd1e60d-8b3e-49bc-b6b3-a9ad3887fbe4').style.display = 'flex' </script> <table border=\"1\" class=\"dataframe\">\n",
       "  <thead>\n",
       "    <tr style=\"text-align: right;\">\n",
       "      <th></th>\n",
       "      <th>0</th>\n",
       "    </tr>\n",
       "  </thead>\n",
       "  <tbody>\n",
       "    <tr>\n",
       "      <th>0</th>\n",
       "      <td>0.0</td>\n",
       "    </tr>\n",
       "    <tr>\n",
       "      <th>1</th>\n",
       "      <td>0.0</td>\n",
       "    </tr>\n",
       "    <tr>\n",
       "      <th>2</th>\n",
       "      <td>0.0</td>\n",
       "    </tr>\n",
       "    <tr>\n",
       "      <th>3</th>\n",
       "      <td>1.0</td>\n",
       "    </tr>\n",
       "    <tr>\n",
       "      <th>4</th>\n",
       "      <td>0.0</td>\n",
       "    </tr>\n",
       "  </tbody>\n",
       "</table></div>"
      ],
      "text/plain": [
       "     0\n",
       "0  0.0\n",
       "1  0.0\n",
       "2  0.0\n",
       "3  1.0\n",
       "4  0.0"
      ]
     },
     "execution_count": 83,
     "metadata": {},
     "output_type": "execute_result"
    }
   ],
   "source": [
    "Y_all.head()"
   ]
  },
  {
   "cell_type": "code",
   "execution_count": 84,
   "metadata": {},
   "outputs": [
    {
     "data": {
      "text/html": [
       "<div><div id=22ffbeab-1433-4f92-ba9a-dba08508d25b style=\"display:none; background-color:#9D6CFF; color:white; width:200px; height:30px; padding-left:5px; border-radius:4px; flex-direction:row; justify-content:space-around; align-items:center;\" onmouseover=\"this.style.backgroundColor='#BA9BF8'\" onmouseout=\"this.style.backgroundColor='#9D6CFF'\" onclick=\"window.commands?.execute('create-mitosheet-from-dataframe-output');\">See Full Dataframe in Mito</div> <script> if (window.commands.hasCommand('create-mitosheet-from-dataframe-output')) document.getElementById('22ffbeab-1433-4f92-ba9a-dba08508d25b').style.display = 'flex' </script> <table border=\"1\" class=\"dataframe\">\n",
       "  <thead>\n",
       "    <tr style=\"text-align: right;\">\n",
       "      <th></th>\n",
       "      <th>0</th>\n",
       "    </tr>\n",
       "  </thead>\n",
       "  <tbody>\n",
       "    <tr>\n",
       "      <th>0</th>\n",
       "      <td>N</td>\n",
       "    </tr>\n",
       "    <tr>\n",
       "      <th>1</th>\n",
       "      <td>N</td>\n",
       "    </tr>\n",
       "    <tr>\n",
       "      <th>2</th>\n",
       "      <td>N</td>\n",
       "    </tr>\n",
       "    <tr>\n",
       "      <th>3</th>\n",
       "      <td>A</td>\n",
       "    </tr>\n",
       "    <tr>\n",
       "      <th>4</th>\n",
       "      <td>N</td>\n",
       "    </tr>\n",
       "  </tbody>\n",
       "</table></div>"
      ],
      "text/plain": [
       "   0\n",
       "0  N\n",
       "1  N\n",
       "2  N\n",
       "3  A\n",
       "4  N"
      ]
     },
     "execution_count": 84,
     "metadata": {},
     "output_type": "execute_result"
    }
   ],
   "source": [
    "sym_all.head()"
   ]
  },
  {
   "cell_type": "code",
   "execution_count": 86,
   "metadata": {},
   "outputs": [
    {
     "data": {
      "text/plain": [
       "(78551, 2160)"
      ]
     },
     "execution_count": 86,
     "metadata": {},
     "output_type": "execute_result"
    }
   ],
   "source": [
    "X_train.shape"
   ]
  },
  {
   "cell_type": "markdown",
   "metadata": {},
   "source": [
    "Concatenate the Y_train target back on the X_train datasets so I can segregate normal / abnormal for exploration"
   ]
  },
  {
   "cell_type": "code",
   "execution_count": 91,
   "metadata": {},
   "outputs": [
    {
     "ename": "KeyboardInterrupt",
     "evalue": "",
     "output_type": "error",
     "traceback": [
      "\u001b[0;31m---------------------------------------------------------------------------\u001b[0m",
      "\u001b[0;31mKeyboardInterrupt\u001b[0m                         Traceback (most recent call last)",
      "\u001b[0;32m/var/folders/9y/17ptyrds267724n2_7s7hx340000gn/T/ipykernel_50834/3191279822.py\u001b[0m in \u001b[0;36m<module>\u001b[0;34m\u001b[0m\n\u001b[1;32m      1\u001b[0m \u001b[0mX_explore\u001b[0m \u001b[0;34m=\u001b[0m \u001b[0mX_train\u001b[0m\u001b[0;34m\u001b[0m\u001b[0;34m\u001b[0m\u001b[0m\n\u001b[1;32m      2\u001b[0m \u001b[0mX_explore\u001b[0m\u001b[0;34m[\u001b[0m\u001b[0;34m'abnormal'\u001b[0m\u001b[0;34m]\u001b[0m\u001b[0;34m=\u001b[0m\u001b[0mY_train\u001b[0m\u001b[0;34m\u001b[0m\u001b[0;34m\u001b[0m\u001b[0m\n\u001b[0;32m----> 3\u001b[0;31m \u001b[0mX_explore\u001b[0m\u001b[0;34m.\u001b[0m\u001b[0msample\u001b[0m\u001b[0;34m(\u001b[0m\u001b[0;36m25\u001b[0m\u001b[0;34m)\u001b[0m\u001b[0;34m\u001b[0m\u001b[0;34m\u001b[0m\u001b[0m\n\u001b[0m",
      "\u001b[0;32m~/.local/lib/python3.8/site-packages/pandas/core/generic.py\u001b[0m in \u001b[0;36msample\u001b[0;34m(self, n, frac, replace, weights, random_state, axis)\u001b[0m\n\u001b[1;32m   5060\u001b[0m \u001b[0;34m\u001b[0m\u001b[0m\n\u001b[1;32m   5061\u001b[0m         \u001b[0mlocs\u001b[0m \u001b[0;34m=\u001b[0m \u001b[0mrs\u001b[0m\u001b[0;34m.\u001b[0m\u001b[0mchoice\u001b[0m\u001b[0;34m(\u001b[0m\u001b[0maxis_length\u001b[0m\u001b[0;34m,\u001b[0m \u001b[0msize\u001b[0m\u001b[0;34m=\u001b[0m\u001b[0mn\u001b[0m\u001b[0;34m,\u001b[0m \u001b[0mreplace\u001b[0m\u001b[0;34m=\u001b[0m\u001b[0mreplace\u001b[0m\u001b[0;34m,\u001b[0m \u001b[0mp\u001b[0m\u001b[0;34m=\u001b[0m\u001b[0mweights\u001b[0m\u001b[0;34m)\u001b[0m\u001b[0;34m\u001b[0m\u001b[0;34m\u001b[0m\u001b[0m\n\u001b[0;32m-> 5062\u001b[0;31m         \u001b[0;32mreturn\u001b[0m \u001b[0mself\u001b[0m\u001b[0;34m.\u001b[0m\u001b[0mtake\u001b[0m\u001b[0;34m(\u001b[0m\u001b[0mlocs\u001b[0m\u001b[0;34m,\u001b[0m \u001b[0maxis\u001b[0m\u001b[0;34m=\u001b[0m\u001b[0maxis\u001b[0m\u001b[0;34m)\u001b[0m\u001b[0;34m\u001b[0m\u001b[0;34m\u001b[0m\u001b[0m\n\u001b[0m\u001b[1;32m   5063\u001b[0m \u001b[0;34m\u001b[0m\u001b[0m\n\u001b[1;32m   5064\u001b[0m     _shared_docs[\n",
      "\u001b[0;32m~/.local/lib/python3.8/site-packages/pandas/core/generic.py\u001b[0m in \u001b[0;36mtake\u001b[0;34m(self, indices, axis, is_copy, **kwargs)\u001b[0m\n\u001b[1;32m   3390\u001b[0m         \u001b[0mnv\u001b[0m\u001b[0;34m.\u001b[0m\u001b[0mvalidate_take\u001b[0m\u001b[0;34m(\u001b[0m\u001b[0mtuple\u001b[0m\u001b[0;34m(\u001b[0m\u001b[0;34m)\u001b[0m\u001b[0;34m,\u001b[0m \u001b[0mkwargs\u001b[0m\u001b[0;34m)\u001b[0m\u001b[0;34m\u001b[0m\u001b[0;34m\u001b[0m\u001b[0m\n\u001b[1;32m   3391\u001b[0m \u001b[0;34m\u001b[0m\u001b[0m\n\u001b[0;32m-> 3392\u001b[0;31m         \u001b[0mself\u001b[0m\u001b[0;34m.\u001b[0m\u001b[0m_consolidate_inplace\u001b[0m\u001b[0;34m(\u001b[0m\u001b[0;34m)\u001b[0m\u001b[0;34m\u001b[0m\u001b[0;34m\u001b[0m\u001b[0m\n\u001b[0m\u001b[1;32m   3393\u001b[0m \u001b[0;34m\u001b[0m\u001b[0m\n\u001b[1;32m   3394\u001b[0m         new_data = self._data.take(\n",
      "\u001b[0;32m~/.local/lib/python3.8/site-packages/pandas/core/generic.py\u001b[0m in \u001b[0;36m_consolidate_inplace\u001b[0;34m(self)\u001b[0m\n\u001b[1;32m   5345\u001b[0m             \u001b[0mself\u001b[0m\u001b[0;34m.\u001b[0m\u001b[0m_data\u001b[0m \u001b[0;34m=\u001b[0m \u001b[0mself\u001b[0m\u001b[0;34m.\u001b[0m\u001b[0m_data\u001b[0m\u001b[0;34m.\u001b[0m\u001b[0mconsolidate\u001b[0m\u001b[0;34m(\u001b[0m\u001b[0;34m)\u001b[0m\u001b[0;34m\u001b[0m\u001b[0;34m\u001b[0m\u001b[0m\n\u001b[1;32m   5346\u001b[0m \u001b[0;34m\u001b[0m\u001b[0m\n\u001b[0;32m-> 5347\u001b[0;31m         \u001b[0mself\u001b[0m\u001b[0;34m.\u001b[0m\u001b[0m_protect_consolidate\u001b[0m\u001b[0;34m(\u001b[0m\u001b[0mf\u001b[0m\u001b[0;34m)\u001b[0m\u001b[0;34m\u001b[0m\u001b[0;34m\u001b[0m\u001b[0m\n\u001b[0m\u001b[1;32m   5348\u001b[0m \u001b[0;34m\u001b[0m\u001b[0m\n\u001b[1;32m   5349\u001b[0m     \u001b[0;32mdef\u001b[0m \u001b[0m_consolidate\u001b[0m\u001b[0;34m(\u001b[0m\u001b[0mself\u001b[0m\u001b[0;34m,\u001b[0m \u001b[0minplace\u001b[0m\u001b[0;34m:\u001b[0m \u001b[0mbool_t\u001b[0m \u001b[0;34m=\u001b[0m \u001b[0;32mFalse\u001b[0m\u001b[0;34m)\u001b[0m\u001b[0;34m:\u001b[0m\u001b[0;34m\u001b[0m\u001b[0;34m\u001b[0m\u001b[0m\n",
      "\u001b[0;32m~/.local/lib/python3.8/site-packages/pandas/core/generic.py\u001b[0m in \u001b[0;36m_protect_consolidate\u001b[0;34m(self, f)\u001b[0m\n\u001b[1;32m   5334\u001b[0m         \"\"\"\n\u001b[1;32m   5335\u001b[0m         \u001b[0mblocks_before\u001b[0m \u001b[0;34m=\u001b[0m \u001b[0mlen\u001b[0m\u001b[0;34m(\u001b[0m\u001b[0mself\u001b[0m\u001b[0;34m.\u001b[0m\u001b[0m_data\u001b[0m\u001b[0;34m.\u001b[0m\u001b[0mblocks\u001b[0m\u001b[0;34m)\u001b[0m\u001b[0;34m\u001b[0m\u001b[0;34m\u001b[0m\u001b[0m\n\u001b[0;32m-> 5336\u001b[0;31m         \u001b[0mresult\u001b[0m \u001b[0;34m=\u001b[0m \u001b[0mf\u001b[0m\u001b[0;34m(\u001b[0m\u001b[0;34m)\u001b[0m\u001b[0;34m\u001b[0m\u001b[0;34m\u001b[0m\u001b[0m\n\u001b[0m\u001b[1;32m   5337\u001b[0m         \u001b[0;32mif\u001b[0m \u001b[0mlen\u001b[0m\u001b[0;34m(\u001b[0m\u001b[0mself\u001b[0m\u001b[0;34m.\u001b[0m\u001b[0m_data\u001b[0m\u001b[0;34m.\u001b[0m\u001b[0mblocks\u001b[0m\u001b[0;34m)\u001b[0m \u001b[0;34m!=\u001b[0m \u001b[0mblocks_before\u001b[0m\u001b[0;34m:\u001b[0m\u001b[0;34m\u001b[0m\u001b[0;34m\u001b[0m\u001b[0m\n\u001b[1;32m   5338\u001b[0m             \u001b[0mself\u001b[0m\u001b[0;34m.\u001b[0m\u001b[0m_clear_item_cache\u001b[0m\u001b[0;34m(\u001b[0m\u001b[0;34m)\u001b[0m\u001b[0;34m\u001b[0m\u001b[0;34m\u001b[0m\u001b[0m\n",
      "\u001b[0;32m~/.local/lib/python3.8/site-packages/pandas/core/generic.py\u001b[0m in \u001b[0;36mf\u001b[0;34m()\u001b[0m\n\u001b[1;32m   5343\u001b[0m \u001b[0;34m\u001b[0m\u001b[0m\n\u001b[1;32m   5344\u001b[0m         \u001b[0;32mdef\u001b[0m \u001b[0mf\u001b[0m\u001b[0;34m(\u001b[0m\u001b[0;34m)\u001b[0m\u001b[0;34m:\u001b[0m\u001b[0;34m\u001b[0m\u001b[0;34m\u001b[0m\u001b[0m\n\u001b[0;32m-> 5345\u001b[0;31m             \u001b[0mself\u001b[0m\u001b[0;34m.\u001b[0m\u001b[0m_data\u001b[0m \u001b[0;34m=\u001b[0m \u001b[0mself\u001b[0m\u001b[0;34m.\u001b[0m\u001b[0m_data\u001b[0m\u001b[0;34m.\u001b[0m\u001b[0mconsolidate\u001b[0m\u001b[0;34m(\u001b[0m\u001b[0;34m)\u001b[0m\u001b[0;34m\u001b[0m\u001b[0;34m\u001b[0m\u001b[0m\n\u001b[0m\u001b[1;32m   5346\u001b[0m \u001b[0;34m\u001b[0m\u001b[0m\n\u001b[1;32m   5347\u001b[0m         \u001b[0mself\u001b[0m\u001b[0;34m.\u001b[0m\u001b[0m_protect_consolidate\u001b[0m\u001b[0;34m(\u001b[0m\u001b[0mf\u001b[0m\u001b[0;34m)\u001b[0m\u001b[0;34m\u001b[0m\u001b[0;34m\u001b[0m\u001b[0m\n",
      "\u001b[0;32m~/.local/lib/python3.8/site-packages/pandas/core/internals/managers.py\u001b[0m in \u001b[0;36mconsolidate\u001b[0;34m(self)\u001b[0m\n\u001b[1;32m    938\u001b[0m         \u001b[0mbm\u001b[0m \u001b[0;34m=\u001b[0m \u001b[0mtype\u001b[0m\u001b[0;34m(\u001b[0m\u001b[0mself\u001b[0m\u001b[0;34m)\u001b[0m\u001b[0;34m(\u001b[0m\u001b[0mself\u001b[0m\u001b[0;34m.\u001b[0m\u001b[0mblocks\u001b[0m\u001b[0;34m,\u001b[0m \u001b[0mself\u001b[0m\u001b[0;34m.\u001b[0m\u001b[0maxes\u001b[0m\u001b[0;34m)\u001b[0m\u001b[0;34m\u001b[0m\u001b[0;34m\u001b[0m\u001b[0m\n\u001b[1;32m    939\u001b[0m         \u001b[0mbm\u001b[0m\u001b[0;34m.\u001b[0m\u001b[0m_is_consolidated\u001b[0m \u001b[0;34m=\u001b[0m \u001b[0;32mFalse\u001b[0m\u001b[0;34m\u001b[0m\u001b[0;34m\u001b[0m\u001b[0m\n\u001b[0;32m--> 940\u001b[0;31m         \u001b[0mbm\u001b[0m\u001b[0;34m.\u001b[0m\u001b[0m_consolidate_inplace\u001b[0m\u001b[0;34m(\u001b[0m\u001b[0;34m)\u001b[0m\u001b[0;34m\u001b[0m\u001b[0;34m\u001b[0m\u001b[0m\n\u001b[0m\u001b[1;32m    941\u001b[0m         \u001b[0;32mreturn\u001b[0m \u001b[0mbm\u001b[0m\u001b[0;34m\u001b[0m\u001b[0;34m\u001b[0m\u001b[0m\n\u001b[1;32m    942\u001b[0m \u001b[0;34m\u001b[0m\u001b[0m\n",
      "\u001b[0;32m~/.local/lib/python3.8/site-packages/pandas/core/internals/managers.py\u001b[0m in \u001b[0;36m_consolidate_inplace\u001b[0;34m(self)\u001b[0m\n\u001b[1;32m    943\u001b[0m     \u001b[0;32mdef\u001b[0m \u001b[0m_consolidate_inplace\u001b[0m\u001b[0;34m(\u001b[0m\u001b[0mself\u001b[0m\u001b[0;34m)\u001b[0m\u001b[0;34m:\u001b[0m\u001b[0;34m\u001b[0m\u001b[0;34m\u001b[0m\u001b[0m\n\u001b[1;32m    944\u001b[0m         \u001b[0;32mif\u001b[0m \u001b[0;32mnot\u001b[0m \u001b[0mself\u001b[0m\u001b[0;34m.\u001b[0m\u001b[0mis_consolidated\u001b[0m\u001b[0;34m(\u001b[0m\u001b[0;34m)\u001b[0m\u001b[0;34m:\u001b[0m\u001b[0;34m\u001b[0m\u001b[0;34m\u001b[0m\u001b[0m\n\u001b[0;32m--> 945\u001b[0;31m             \u001b[0mself\u001b[0m\u001b[0;34m.\u001b[0m\u001b[0mblocks\u001b[0m \u001b[0;34m=\u001b[0m \u001b[0mtuple\u001b[0m\u001b[0;34m(\u001b[0m\u001b[0m_consolidate\u001b[0m\u001b[0;34m(\u001b[0m\u001b[0mself\u001b[0m\u001b[0;34m.\u001b[0m\u001b[0mblocks\u001b[0m\u001b[0;34m)\u001b[0m\u001b[0;34m)\u001b[0m\u001b[0;34m\u001b[0m\u001b[0;34m\u001b[0m\u001b[0m\n\u001b[0m\u001b[1;32m    946\u001b[0m             \u001b[0mself\u001b[0m\u001b[0;34m.\u001b[0m\u001b[0m_is_consolidated\u001b[0m \u001b[0;34m=\u001b[0m \u001b[0;32mTrue\u001b[0m\u001b[0;34m\u001b[0m\u001b[0;34m\u001b[0m\u001b[0m\n\u001b[1;32m    947\u001b[0m             \u001b[0mself\u001b[0m\u001b[0;34m.\u001b[0m\u001b[0m_known_consolidated\u001b[0m \u001b[0;34m=\u001b[0m \u001b[0;32mTrue\u001b[0m\u001b[0;34m\u001b[0m\u001b[0;34m\u001b[0m\u001b[0m\n",
      "\u001b[0;32m~/.local/lib/python3.8/site-packages/pandas/core/internals/managers.py\u001b[0m in \u001b[0;36m_consolidate\u001b[0;34m(blocks)\u001b[0m\n\u001b[1;32m   1884\u001b[0m     \u001b[0mnew_blocks\u001b[0m \u001b[0;34m=\u001b[0m \u001b[0;34m[\u001b[0m\u001b[0;34m]\u001b[0m\u001b[0;34m\u001b[0m\u001b[0;34m\u001b[0m\u001b[0m\n\u001b[1;32m   1885\u001b[0m     \u001b[0;32mfor\u001b[0m \u001b[0;34m(\u001b[0m\u001b[0m_can_consolidate\u001b[0m\u001b[0;34m,\u001b[0m \u001b[0mdtype\u001b[0m\u001b[0;34m)\u001b[0m\u001b[0;34m,\u001b[0m \u001b[0mgroup_blocks\u001b[0m \u001b[0;32min\u001b[0m \u001b[0mgrouper\u001b[0m\u001b[0;34m:\u001b[0m\u001b[0;34m\u001b[0m\u001b[0;34m\u001b[0m\u001b[0m\n\u001b[0;32m-> 1886\u001b[0;31m         merged_blocks = _merge_blocks(\n\u001b[0m\u001b[1;32m   1887\u001b[0m             \u001b[0mlist\u001b[0m\u001b[0;34m(\u001b[0m\u001b[0mgroup_blocks\u001b[0m\u001b[0;34m)\u001b[0m\u001b[0;34m,\u001b[0m \u001b[0mdtype\u001b[0m\u001b[0;34m=\u001b[0m\u001b[0mdtype\u001b[0m\u001b[0;34m,\u001b[0m \u001b[0m_can_consolidate\u001b[0m\u001b[0;34m=\u001b[0m\u001b[0m_can_consolidate\u001b[0m\u001b[0;34m\u001b[0m\u001b[0;34m\u001b[0m\u001b[0m\n\u001b[1;32m   1888\u001b[0m         )\n",
      "\u001b[0;32m~/.local/lib/python3.8/site-packages/pandas/core/internals/blocks.py\u001b[0m in \u001b[0;36m_merge_blocks\u001b[0;34m(blocks, dtype, _can_consolidate)\u001b[0m\n\u001b[1;32m   3103\u001b[0m         \u001b[0;31m# combination of those slices is a slice, too.\u001b[0m\u001b[0;34m\u001b[0m\u001b[0;34m\u001b[0m\u001b[0;34m\u001b[0m\u001b[0m\n\u001b[1;32m   3104\u001b[0m         \u001b[0mnew_mgr_locs\u001b[0m \u001b[0;34m=\u001b[0m \u001b[0mnp\u001b[0m\u001b[0;34m.\u001b[0m\u001b[0mconcatenate\u001b[0m\u001b[0;34m(\u001b[0m\u001b[0;34m[\u001b[0m\u001b[0mb\u001b[0m\u001b[0;34m.\u001b[0m\u001b[0mmgr_locs\u001b[0m\u001b[0;34m.\u001b[0m\u001b[0mas_array\u001b[0m \u001b[0;32mfor\u001b[0m \u001b[0mb\u001b[0m \u001b[0;32min\u001b[0m \u001b[0mblocks\u001b[0m\u001b[0;34m]\u001b[0m\u001b[0;34m)\u001b[0m\u001b[0;34m\u001b[0m\u001b[0;34m\u001b[0m\u001b[0m\n\u001b[0;32m-> 3105\u001b[0;31m         \u001b[0mnew_values\u001b[0m \u001b[0;34m=\u001b[0m \u001b[0mnp\u001b[0m\u001b[0;34m.\u001b[0m\u001b[0mvstack\u001b[0m\u001b[0;34m(\u001b[0m\u001b[0;34m[\u001b[0m\u001b[0mb\u001b[0m\u001b[0;34m.\u001b[0m\u001b[0mvalues\u001b[0m \u001b[0;32mfor\u001b[0m \u001b[0mb\u001b[0m \u001b[0;32min\u001b[0m \u001b[0mblocks\u001b[0m\u001b[0;34m]\u001b[0m\u001b[0;34m)\u001b[0m\u001b[0;34m\u001b[0m\u001b[0;34m\u001b[0m\u001b[0m\n\u001b[0m\u001b[1;32m   3106\u001b[0m \u001b[0;34m\u001b[0m\u001b[0m\n\u001b[1;32m   3107\u001b[0m         \u001b[0margsort\u001b[0m \u001b[0;34m=\u001b[0m \u001b[0mnp\u001b[0m\u001b[0;34m.\u001b[0m\u001b[0margsort\u001b[0m\u001b[0;34m(\u001b[0m\u001b[0mnew_mgr_locs\u001b[0m\u001b[0;34m)\u001b[0m\u001b[0;34m\u001b[0m\u001b[0;34m\u001b[0m\u001b[0m\n",
      "\u001b[0;32m<__array_function__ internals>\u001b[0m in \u001b[0;36mvstack\u001b[0;34m(*args, **kwargs)\u001b[0m\n",
      "\u001b[0;32m/opt/homebrew/anaconda3/lib/python3.8/site-packages/numpy/core/shape_base.py\u001b[0m in \u001b[0;36mvstack\u001b[0;34m(tup)\u001b[0m\n\u001b[1;32m    281\u001b[0m     \u001b[0;32mif\u001b[0m \u001b[0;32mnot\u001b[0m \u001b[0misinstance\u001b[0m\u001b[0;34m(\u001b[0m\u001b[0marrs\u001b[0m\u001b[0;34m,\u001b[0m \u001b[0mlist\u001b[0m\u001b[0;34m)\u001b[0m\u001b[0;34m:\u001b[0m\u001b[0;34m\u001b[0m\u001b[0;34m\u001b[0m\u001b[0m\n\u001b[1;32m    282\u001b[0m         \u001b[0marrs\u001b[0m \u001b[0;34m=\u001b[0m \u001b[0;34m[\u001b[0m\u001b[0marrs\u001b[0m\u001b[0;34m]\u001b[0m\u001b[0;34m\u001b[0m\u001b[0;34m\u001b[0m\u001b[0m\n\u001b[0;32m--> 283\u001b[0;31m     \u001b[0;32mreturn\u001b[0m \u001b[0m_nx\u001b[0m\u001b[0;34m.\u001b[0m\u001b[0mconcatenate\u001b[0m\u001b[0;34m(\u001b[0m\u001b[0marrs\u001b[0m\u001b[0;34m,\u001b[0m \u001b[0;36m0\u001b[0m\u001b[0;34m)\u001b[0m\u001b[0;34m\u001b[0m\u001b[0;34m\u001b[0m\u001b[0m\n\u001b[0m\u001b[1;32m    284\u001b[0m \u001b[0;34m\u001b[0m\u001b[0m\n\u001b[1;32m    285\u001b[0m \u001b[0;34m\u001b[0m\u001b[0m\n",
      "\u001b[0;32m<__array_function__ internals>\u001b[0m in \u001b[0;36mconcatenate\u001b[0;34m(*args, **kwargs)\u001b[0m\n",
      "\u001b[0;31mKeyboardInterrupt\u001b[0m: "
     ]
    }
   ],
   "source": [
    "X_explore = X_train\n",
    "X_explore['abnormal']=Y_train\n"
   ]
  },
  {
   "cell_type": "code",
   "execution_count": 92,
   "metadata": {},
   "outputs": [
    {
     "data": {
      "text/html": [
       "<div><div id=f55aafda-cd54-42d1-84ad-d9faa66e95be style=\"display:none; background-color:#9D6CFF; color:white; width:200px; height:30px; padding-left:5px; border-radius:4px; flex-direction:row; justify-content:space-around; align-items:center;\" onmouseover=\"this.style.backgroundColor='#BA9BF8'\" onmouseout=\"this.style.backgroundColor='#9D6CFF'\" onclick=\"window.commands?.execute('create-mitosheet-from-dataframe-output');\">See Full Dataframe in Mito</div> <script> if (window.commands.hasCommand('create-mitosheet-from-dataframe-output')) document.getElementById('f55aafda-cd54-42d1-84ad-d9faa66e95be').style.display = 'flex' </script> <table border=\"1\" class=\"dataframe\">\n",
       "  <thead>\n",
       "    <tr style=\"text-align: right;\">\n",
       "      <th></th>\n",
       "      <th>0</th>\n",
       "      <th>1</th>\n",
       "      <th>2</th>\n",
       "      <th>3</th>\n",
       "      <th>4</th>\n",
       "      <th>5</th>\n",
       "      <th>6</th>\n",
       "      <th>7</th>\n",
       "      <th>8</th>\n",
       "      <th>9</th>\n",
       "      <th>...</th>\n",
       "      <th>2151</th>\n",
       "      <th>2152</th>\n",
       "      <th>2153</th>\n",
       "      <th>2154</th>\n",
       "      <th>2155</th>\n",
       "      <th>2156</th>\n",
       "      <th>2157</th>\n",
       "      <th>2158</th>\n",
       "      <th>2159</th>\n",
       "      <th>abnormal</th>\n",
       "    </tr>\n",
       "  </thead>\n",
       "  <tbody>\n",
       "    <tr>\n",
       "      <th>88246</th>\n",
       "      <td>-0.310</td>\n",
       "      <td>-0.315</td>\n",
       "      <td>-0.325</td>\n",
       "      <td>-0.305</td>\n",
       "      <td>-0.315</td>\n",
       "      <td>-0.340</td>\n",
       "      <td>-0.365</td>\n",
       "      <td>-0.365</td>\n",
       "      <td>-0.330</td>\n",
       "      <td>-0.330</td>\n",
       "      <td>...</td>\n",
       "      <td>1.460</td>\n",
       "      <td>1.310</td>\n",
       "      <td>1.070</td>\n",
       "      <td>0.735</td>\n",
       "      <td>0.415</td>\n",
       "      <td>0.080</td>\n",
       "      <td>-0.225</td>\n",
       "      <td>-0.455</td>\n",
       "      <td>-0.495</td>\n",
       "      <td>0.0</td>\n",
       "    </tr>\n",
       "    <tr>\n",
       "      <th>56152</th>\n",
       "      <td>-0.220</td>\n",
       "      <td>-0.255</td>\n",
       "      <td>-0.245</td>\n",
       "      <td>-0.240</td>\n",
       "      <td>-0.230</td>\n",
       "      <td>-0.225</td>\n",
       "      <td>-0.235</td>\n",
       "      <td>-0.250</td>\n",
       "      <td>-0.265</td>\n",
       "      <td>-0.265</td>\n",
       "      <td>...</td>\n",
       "      <td>-0.300</td>\n",
       "      <td>-0.295</td>\n",
       "      <td>-0.295</td>\n",
       "      <td>-0.265</td>\n",
       "      <td>-0.190</td>\n",
       "      <td>-0.130</td>\n",
       "      <td>-0.095</td>\n",
       "      <td>-0.065</td>\n",
       "      <td>-0.045</td>\n",
       "      <td>0.0</td>\n",
       "    </tr>\n",
       "    <tr>\n",
       "      <th>30544</th>\n",
       "      <td>-0.755</td>\n",
       "      <td>-0.760</td>\n",
       "      <td>-0.755</td>\n",
       "      <td>-0.755</td>\n",
       "      <td>-0.750</td>\n",
       "      <td>-0.740</td>\n",
       "      <td>-0.730</td>\n",
       "      <td>-0.730</td>\n",
       "      <td>-0.725</td>\n",
       "      <td>-0.720</td>\n",
       "      <td>...</td>\n",
       "      <td>-0.635</td>\n",
       "      <td>-0.620</td>\n",
       "      <td>-0.620</td>\n",
       "      <td>-0.615</td>\n",
       "      <td>-0.625</td>\n",
       "      <td>-0.630</td>\n",
       "      <td>-0.630</td>\n",
       "      <td>-0.645</td>\n",
       "      <td>-0.635</td>\n",
       "      <td>0.0</td>\n",
       "    </tr>\n",
       "    <tr>\n",
       "      <th>74423</th>\n",
       "      <td>-0.005</td>\n",
       "      <td>-0.045</td>\n",
       "      <td>-0.085</td>\n",
       "      <td>-0.125</td>\n",
       "      <td>-0.175</td>\n",
       "      <td>-0.200</td>\n",
       "      <td>-0.205</td>\n",
       "      <td>-0.205</td>\n",
       "      <td>-0.220</td>\n",
       "      <td>-0.235</td>\n",
       "      <td>...</td>\n",
       "      <td>0.040</td>\n",
       "      <td>0.070</td>\n",
       "      <td>0.090</td>\n",
       "      <td>0.110</td>\n",
       "      <td>0.140</td>\n",
       "      <td>0.175</td>\n",
       "      <td>0.205</td>\n",
       "      <td>0.250</td>\n",
       "      <td>0.270</td>\n",
       "      <td>0.0</td>\n",
       "    </tr>\n",
       "    <tr>\n",
       "      <th>41750</th>\n",
       "      <td>-0.775</td>\n",
       "      <td>-0.755</td>\n",
       "      <td>-0.745</td>\n",
       "      <td>-0.725</td>\n",
       "      <td>-0.710</td>\n",
       "      <td>-0.695</td>\n",
       "      <td>-0.700</td>\n",
       "      <td>-0.710</td>\n",
       "      <td>-0.730</td>\n",
       "      <td>-0.765</td>\n",
       "      <td>...</td>\n",
       "      <td>-0.625</td>\n",
       "      <td>-0.610</td>\n",
       "      <td>-0.600</td>\n",
       "      <td>-0.580</td>\n",
       "      <td>-0.580</td>\n",
       "      <td>-0.595</td>\n",
       "      <td>-0.605</td>\n",
       "      <td>-0.615</td>\n",
       "      <td>-0.610</td>\n",
       "      <td>0.0</td>\n",
       "    </tr>\n",
       "    <tr>\n",
       "      <th>...</th>\n",
       "      <td>...</td>\n",
       "      <td>...</td>\n",
       "      <td>...</td>\n",
       "      <td>...</td>\n",
       "      <td>...</td>\n",
       "      <td>...</td>\n",
       "      <td>...</td>\n",
       "      <td>...</td>\n",
       "      <td>...</td>\n",
       "      <td>...</td>\n",
       "      <td>...</td>\n",
       "      <td>...</td>\n",
       "      <td>...</td>\n",
       "      <td>...</td>\n",
       "      <td>...</td>\n",
       "      <td>...</td>\n",
       "      <td>...</td>\n",
       "      <td>...</td>\n",
       "      <td>...</td>\n",
       "      <td>...</td>\n",
       "      <td>...</td>\n",
       "    </tr>\n",
       "    <tr>\n",
       "      <th>8835</th>\n",
       "      <td>-0.330</td>\n",
       "      <td>-0.340</td>\n",
       "      <td>-0.320</td>\n",
       "      <td>-0.315</td>\n",
       "      <td>-0.295</td>\n",
       "      <td>-0.290</td>\n",
       "      <td>-0.295</td>\n",
       "      <td>-0.285</td>\n",
       "      <td>-0.265</td>\n",
       "      <td>-0.265</td>\n",
       "      <td>...</td>\n",
       "      <td>-0.345</td>\n",
       "      <td>-0.360</td>\n",
       "      <td>-0.370</td>\n",
       "      <td>-0.370</td>\n",
       "      <td>-0.370</td>\n",
       "      <td>-0.355</td>\n",
       "      <td>-0.355</td>\n",
       "      <td>-0.360</td>\n",
       "      <td>-0.370</td>\n",
       "      <td>1.0</td>\n",
       "    </tr>\n",
       "    <tr>\n",
       "      <th>35076</th>\n",
       "      <td>-0.880</td>\n",
       "      <td>-0.885</td>\n",
       "      <td>-0.895</td>\n",
       "      <td>-0.900</td>\n",
       "      <td>-0.910</td>\n",
       "      <td>-0.915</td>\n",
       "      <td>-0.925</td>\n",
       "      <td>-0.910</td>\n",
       "      <td>-0.890</td>\n",
       "      <td>-0.895</td>\n",
       "      <td>...</td>\n",
       "      <td>-0.800</td>\n",
       "      <td>-0.815</td>\n",
       "      <td>-0.825</td>\n",
       "      <td>-0.825</td>\n",
       "      <td>-0.820</td>\n",
       "      <td>-0.800</td>\n",
       "      <td>-0.810</td>\n",
       "      <td>-0.800</td>\n",
       "      <td>-0.805</td>\n",
       "      <td>0.0</td>\n",
       "    </tr>\n",
       "    <tr>\n",
       "      <th>17285</th>\n",
       "      <td>0.870</td>\n",
       "      <td>0.875</td>\n",
       "      <td>0.900</td>\n",
       "      <td>0.945</td>\n",
       "      <td>1.010</td>\n",
       "      <td>1.050</td>\n",
       "      <td>1.075</td>\n",
       "      <td>1.075</td>\n",
       "      <td>1.100</td>\n",
       "      <td>1.155</td>\n",
       "      <td>...</td>\n",
       "      <td>-0.455</td>\n",
       "      <td>-0.445</td>\n",
       "      <td>-0.475</td>\n",
       "      <td>-0.480</td>\n",
       "      <td>-0.490</td>\n",
       "      <td>-0.485</td>\n",
       "      <td>-0.465</td>\n",
       "      <td>-0.455</td>\n",
       "      <td>-0.460</td>\n",
       "      <td>1.0</td>\n",
       "    </tr>\n",
       "    <tr>\n",
       "      <th>75478</th>\n",
       "      <td>-0.285</td>\n",
       "      <td>-0.275</td>\n",
       "      <td>-0.255</td>\n",
       "      <td>-0.245</td>\n",
       "      <td>-0.235</td>\n",
       "      <td>-0.235</td>\n",
       "      <td>-0.230</td>\n",
       "      <td>-0.210</td>\n",
       "      <td>-0.200</td>\n",
       "      <td>-0.190</td>\n",
       "      <td>...</td>\n",
       "      <td>0.180</td>\n",
       "      <td>0.220</td>\n",
       "      <td>0.255</td>\n",
       "      <td>0.285</td>\n",
       "      <td>0.320</td>\n",
       "      <td>0.350</td>\n",
       "      <td>0.395</td>\n",
       "      <td>0.430</td>\n",
       "      <td>0.465</td>\n",
       "      <td>0.0</td>\n",
       "    </tr>\n",
       "    <tr>\n",
       "      <th>73022</th>\n",
       "      <td>0.010</td>\n",
       "      <td>0.030</td>\n",
       "      <td>0.040</td>\n",
       "      <td>0.070</td>\n",
       "      <td>0.095</td>\n",
       "      <td>0.135</td>\n",
       "      <td>0.155</td>\n",
       "      <td>0.175</td>\n",
       "      <td>0.190</td>\n",
       "      <td>0.200</td>\n",
       "      <td>...</td>\n",
       "      <td>0.075</td>\n",
       "      <td>0.050</td>\n",
       "      <td>0.015</td>\n",
       "      <td>0.005</td>\n",
       "      <td>-0.005</td>\n",
       "      <td>-0.010</td>\n",
       "      <td>-0.015</td>\n",
       "      <td>-0.035</td>\n",
       "      <td>-0.065</td>\n",
       "      <td>0.0</td>\n",
       "    </tr>\n",
       "  </tbody>\n",
       "</table></div>"
      ],
      "text/plain": [
       "            0      1      2      3      4      5      6      7      8      9  \\\n",
       "88246  -0.310 -0.315 -0.325 -0.305 -0.315 -0.340 -0.365 -0.365 -0.330 -0.330   \n",
       "56152  -0.220 -0.255 -0.245 -0.240 -0.230 -0.225 -0.235 -0.250 -0.265 -0.265   \n",
       "30544  -0.755 -0.760 -0.755 -0.755 -0.750 -0.740 -0.730 -0.730 -0.725 -0.720   \n",
       "74423  -0.005 -0.045 -0.085 -0.125 -0.175 -0.200 -0.205 -0.205 -0.220 -0.235   \n",
       "41750  -0.775 -0.755 -0.745 -0.725 -0.710 -0.695 -0.700 -0.710 -0.730 -0.765   \n",
       "8444   -0.190 -0.210 -0.210 -0.175 -0.160 -0.140 -0.145 -0.150 -0.150 -0.135   \n",
       "32828  -0.855 -0.820 -0.800 -0.775 -0.770 -0.755 -0.725 -0.720 -0.680 -0.655   \n",
       "107537 -0.320 -0.325 -0.320 -0.315 -0.310 -0.310 -0.335 -0.340 -0.350 -0.350   \n",
       "65374   0.035  0.030  0.025  0.035  0.025  0.005 -0.015 -0.030 -0.035 -0.035   \n",
       "55459  -0.675 -0.710 -0.705 -0.705 -0.715 -0.760 -0.800 -0.815 -0.815 -0.815   \n",
       "76160  -0.390 -0.395 -0.400 -0.410 -0.410 -0.415 -0.410 -0.390 -0.360 -0.345   \n",
       "7000   -0.245 -0.250 -0.280 -0.260 -0.260 -0.260 -0.270 -0.275 -0.275 -0.275   \n",
       "83991  -0.925 -0.940 -0.955 -0.960 -0.965 -0.960 -0.950 -0.950 -0.945 -0.965   \n",
       "57767  -0.305 -0.285 -0.295 -0.290 -0.290 -0.285 -0.295 -0.300 -0.305 -0.300   \n",
       "80894   0.000 -0.005 -0.045 -0.075 -0.110 -0.135 -0.155 -0.170 -0.195 -0.215   \n",
       "17970  -0.255 -0.255 -0.260 -0.255 -0.245 -0.235 -0.225 -0.235 -0.230 -0.245   \n",
       "92730  -0.220 -0.245 -0.245 -0.250 -0.245 -0.275 -0.285 -0.290 -0.285 -0.265   \n",
       "76059   0.275  0.280  0.295  0.290  0.275  0.250  0.205  0.155  0.080  0.040   \n",
       "102771 -0.050 -0.045 -0.060 -0.055 -0.065 -0.080 -0.100 -0.100 -0.110 -0.115   \n",
       "42991   0.860  0.790  0.675  0.515  0.275 -0.025 -0.325 -0.580 -0.730 -0.790   \n",
       "8835   -0.330 -0.340 -0.320 -0.315 -0.295 -0.290 -0.295 -0.285 -0.265 -0.265   \n",
       "35076  -0.880 -0.885 -0.895 -0.900 -0.910 -0.915 -0.925 -0.910 -0.890 -0.895   \n",
       "17285   0.870  0.875  0.900  0.945  1.010  1.050  1.075  1.075  1.100  1.155   \n",
       "75478  -0.285 -0.275 -0.255 -0.245 -0.235 -0.235 -0.230 -0.210 -0.200 -0.190   \n",
       "73022   0.010  0.030  0.040  0.070  0.095  0.135  0.155  0.175  0.190  0.200   \n",
       "\n",
       "        ...   2151   2152   2153   2154   2155   2156   2157   2158   2159  \\\n",
       "88246   ...  1.460  1.310  1.070  0.735  0.415  0.080 -0.225 -0.455 -0.495   \n",
       "56152   ... -0.300 -0.295 -0.295 -0.265 -0.190 -0.130 -0.095 -0.065 -0.045   \n",
       "30544   ... -0.635 -0.620 -0.620 -0.615 -0.625 -0.630 -0.630 -0.645 -0.635   \n",
       "74423   ...  0.040  0.070  0.090  0.110  0.140  0.175  0.205  0.250  0.270   \n",
       "41750   ... -0.625 -0.610 -0.600 -0.580 -0.580 -0.595 -0.605 -0.615 -0.610   \n",
       "8444    ... -0.295 -0.290 -0.295 -0.290 -0.305 -0.275 -0.275 -0.295 -0.350   \n",
       "32828   ... -0.905 -0.920 -0.935 -0.955 -0.960 -0.980 -1.010 -1.040 -1.050   \n",
       "107537  ... -0.325 -0.320 -0.305 -0.295 -0.300 -0.290 -0.290 -0.310 -0.315   \n",
       "65374   ... -0.050 -0.050 -0.065 -0.050 -0.070 -0.050 -0.025 -0.040 -0.050   \n",
       "55459   ...  0.175  0.130  0.085  0.070  0.035  0.005 -0.030 -0.070 -0.100   \n",
       "76160   ... -0.380 -0.380 -0.375 -0.365 -0.345 -0.315 -0.280 -0.260 -0.235   \n",
       "7000    ... -0.170 -0.170 -0.165 -0.170 -0.185 -0.180 -0.175 -0.160 -0.165   \n",
       "83991   ... -0.650 -0.645 -0.645 -0.665 -0.665 -0.665 -0.650 -0.645 -0.660   \n",
       "57767   ... -0.290 -0.285 -0.295 -0.290 -0.295 -0.305 -0.305 -0.310 -0.315   \n",
       "80894   ...  0.035  0.020  0.010  0.020  0.020  0.010 -0.035 -0.065 -0.085   \n",
       "17970   ... -0.065 -0.050 -0.050 -0.070 -0.075 -0.075 -0.050 -0.040 -0.050   \n",
       "92730   ... -0.245 -0.235 -0.250 -0.260 -0.300 -0.280 -0.280 -0.285 -0.290   \n",
       "76059   ... -0.655 -0.650 -0.650 -0.630 -0.610 -0.590 -0.570 -0.570 -0.560   \n",
       "102771  ... -0.480 -0.450 -0.465 -0.470 -0.485 -0.445 -0.400 -0.360 -0.335   \n",
       "42991   ... -0.215 -0.525 -0.770 -0.915 -0.960 -0.935 -0.860 -0.830 -0.825   \n",
       "8835    ... -0.345 -0.360 -0.370 -0.370 -0.370 -0.355 -0.355 -0.360 -0.370   \n",
       "35076   ... -0.800 -0.815 -0.825 -0.825 -0.820 -0.800 -0.810 -0.800 -0.805   \n",
       "17285   ... -0.455 -0.445 -0.475 -0.480 -0.490 -0.485 -0.465 -0.455 -0.460   \n",
       "75478   ...  0.180  0.220  0.255  0.285  0.320  0.350  0.395  0.430  0.465   \n",
       "73022   ...  0.075  0.050  0.015  0.005 -0.005 -0.010 -0.015 -0.035 -0.065   \n",
       "\n",
       "        abnormal  \n",
       "88246        0.0  \n",
       "56152        0.0  \n",
       "30544        0.0  \n",
       "74423        0.0  \n",
       "41750        0.0  \n",
       "8444         1.0  \n",
       "32828        0.0  \n",
       "107537       0.0  \n",
       "65374        0.0  \n",
       "55459        1.0  \n",
       "76160        0.0  \n",
       "7000         0.0  \n",
       "83991        0.0  \n",
       "57767        0.0  \n",
       "80894        0.0  \n",
       "17970        0.0  \n",
       "92730        0.0  \n",
       "76059        1.0  \n",
       "102771       1.0  \n",
       "42991        0.0  \n",
       "8835         1.0  \n",
       "35076        0.0  \n",
       "17285        1.0  \n",
       "75478        0.0  \n",
       "73022        0.0  \n",
       "\n",
       "[25 rows x 2161 columns]"
      ]
     },
     "execution_count": 92,
     "metadata": {},
     "output_type": "execute_result"
    }
   ],
   "source": [
    "X_explore.sample(25)"
   ]
  },
  {
   "cell_type": "code",
   "execution_count": 93,
   "metadata": {},
   "outputs": [],
   "source": [
    "X_explore_normal = X_explore[X_explore.abnormal==0]"
   ]
  },
  {
   "cell_type": "code",
   "execution_count": 94,
   "metadata": {},
   "outputs": [
    {
     "data": {
      "text/plain": [
       "(53767, 2161)"
      ]
     },
     "execution_count": 94,
     "metadata": {},
     "output_type": "execute_result"
    }
   ],
   "source": [
    "X_explore_normal.shape"
   ]
  },
  {
   "cell_type": "code",
   "execution_count": 95,
   "metadata": {},
   "outputs": [],
   "source": [
    "X_explore_abnormal = X_explore[X_explore.abnormal==1]"
   ]
  },
  {
   "cell_type": "code",
   "execution_count": 96,
   "metadata": {},
   "outputs": [
    {
     "data": {
      "text/plain": [
       "(24784, 2161)"
      ]
     },
     "execution_count": 96,
     "metadata": {},
     "output_type": "execute_result"
    }
   ],
   "source": [
    "X_explore_abnormal.shape"
   ]
  },
  {
   "cell_type": "markdown",
   "metadata": {},
   "source": [
    "Look at individual traces"
   ]
  },
  {
   "cell_type": "markdown",
   "metadata": {},
   "source": [
    "Three sample normal"
   ]
  },
  {
   "cell_type": "code",
   "execution_count": 98,
   "metadata": {},
   "outputs": [
    {
     "data": {
      "image/png": "[encoded data removed]",
      "text/plain": [
       "<Figure size 432x288 with 1 Axes>"
      ]
     },
     "metadata": {
      "needs_background": "light"
     },
     "output_type": "display_data"
    }
   ],
   "source": [
    "plt.plot(np.arange(2161), X_explore_normal.iloc[0]);"
   ]
  },
  {
   "cell_type": "code",
   "execution_count": 99,
   "metadata": {},
   "outputs": [
    {
     "data": {
      "image/png": "[encoded data removed]",
      "text/plain": [
       "<Figure size 432x288 with 1 Axes>"
      ]
     },
     "metadata": {
      "needs_background": "light"
     },
     "output_type": "display_data"
    }
   ],
   "source": [
    "plt.plot(np.arange(2161), X_explore_normal.iloc[1]);"
   ]
  },
  {
   "cell_type": "code",
   "execution_count": 100,
   "metadata": {},
   "outputs": [
    {
     "data": {
      "image/png": "[encoded data removed]",
      "text/plain": [
       "<Figure size 432x288 with 1 Axes>"
      ]
     },
     "metadata": {
      "needs_background": "light"
     },
     "output_type": "display_data"
    }
   ],
   "source": [
    "plt.plot(np.arange(2161), X_explore_normal.iloc[2]);"
   ]
  },
  {
   "cell_type": "markdown",
   "metadata": {},
   "source": [
    "3 sample abnormal"
   ]
  },
  {
   "cell_type": "code",
   "execution_count": 101,
   "metadata": {},
   "outputs": [
    {
     "data": {
      "image/png": "[encoded data removed]",
      "text/plain": [
       "<Figure size 432x288 with 1 Axes>"
      ]
     },
     "metadata": {
      "needs_background": "light"
     },
     "output_type": "display_data"
    }
   ],
   "source": [
    "plt.plot(np.arange(2161), X_explore_abnormal.iloc[0]);"
   ]
  },
  {
   "cell_type": "code",
   "execution_count": 102,
   "metadata": {},
   "outputs": [
    {
     "data": {
      "image/png": "[encoded data removed]",
      "text/plain": [
       "<Figure size 432x288 with 1 Axes>"
      ]
     },
     "metadata": {
      "needs_background": "light"
     },
     "output_type": "display_data"
    }
   ],
   "source": [
    "plt.plot(np.arange(2161), X_explore_abnormal.iloc[1]);"
   ]
  },
  {
   "cell_type": "code",
   "execution_count": 103,
   "metadata": {},
   "outputs": [
    {
     "data": {
      "image/png": "[encoded data removed]",
      "text/plain": [
       "<Figure size 432x288 with 1 Axes>"
      ]
     },
     "metadata": {
      "needs_background": "light"
     },
     "output_type": "display_data"
    }
   ],
   "source": [
    "plt.plot(np.arange(2161), X_explore_abnormal.iloc[2]);"
   ]
  },
  {
   "cell_type": "markdown",
   "metadata": {},
   "source": [
    "---"
   ]
  },
  {
   "cell_type": "markdown",
   "metadata": {},
   "source": [
    "### Literature / Curriculum / Research Review\n",
    "\n",
    "- Now that I have my data in a usable format, I need to do some research on time series and anomaly detection in order to get into the modeling phase.\n",
    "\n",
    "**Topics to explore:**\n",
    "- [] Anomaly Detection\n",
    "- [] LSTM Networks - this concept comes up a lot in handling these data\n",
    "- [] Autoencoders\n",
    "- [] CNN? Neural networks are also commonly used for processing these types of data. Will start with other techniques and may get here in a subsequent iteration"
   ]
  },
  {
   "cell_type": "markdown",
   "metadata": {},
   "source": [
    "### Anomaly Detection\n",
    "\n",
    "- Task of determining when something has gone astray from the norm. \n",
    "  - Neural networks are used for unsupervised learning (I do have labels, so I should take advantage of those)\n",
    "  - Basically just learns the normal behavior and anything that isn't that gets labeled as an anomaly.\n",
    "  - i.e., autoencoder deep learning neural network"
   ]
  },
  {
   "cell_type": "markdown",
   "metadata": {},
   "source": [
    "### LSTM Networks\n",
    "\n",
    "- Long Short-Term Memory neural network cells in autoencoder. \n",
    "- Subset of recurrent neural networks (RNN).\n",
    "- Training data persists in network for use later   \n",
    "  - Well-suited for temporal data that evolves over time\n",
    "- Common applications include:\n",
    "  - Speech recognition\n",
    "  - Text translation\n",
    "  - Analysis of sequential sensor readings for anomaly detection"
   ]
  },
  {
   "cell_type": "markdown",
   "metadata": {},
   "source": [
    "### Recurrent Neural Networks (2)\n",
    "\n",
    "- Networks with loops in them allowing information to persist.\n",
    "- Able to use \"reasoning\" about previous events to make decisions.\n",
    "\n",
    "![RNN](images/RNN1.png)\n",
    "**Recurring Neural Networks have loops**\n",
    "\n",
    "These loops can be thought of as multiple copies of the same network\n",
    "\n",
    "![RNN unwound](images/RNN2.png)\n",
    "\n",
    "2. https://colah.github.io/posts/2015-08-Understanding-LSTMs/"
   ]
  },
  {
   "cell_type": "markdown",
   "metadata": {},
   "source": [
    "### Problem of Long-Term Dependencies"
   ]
  },
  {
   "cell_type": "markdown",
   "metadata": {},
   "source": [
    "- Appeal of RNN is to connect previous information to the present task.\n",
    "- Sometimes we only need to look at recent information. i.e., language model trying to predict the next word based on previous ones. If trying to predict \"the clouds are in the ___\" we don't need any further context - small gap between relevant information and the place it is needed.\n",
    "  \n",
    "  ![RNN-short-dependencies](images/RNN3.png)\n",
    "\n",
    "- Other times, more context is needed. \"I grew up in France...I speak fluent ____\" Recent information suggest the name of a language for the answer, but to get which language more context from earlier is needed. The gab between the relevant information and the point it is needed can be quite large. \n",
    "\n",
    "![RNN-long-dependencies](images/RNN4.png)\n",
    "\n",
    "- RNNs struggle as that gap grows.\n",
    "- RNNs theoretically capable of hangling such long dependencies, but fail to do so in practice. LTSMs don't have this problem"
   ]
  },
  {
   "cell_type": "markdown",
   "metadata": {},
   "source": [
    "### LTSM Networks\n",
    "\n",
    "- Special kind of RNN capable of learning long-term dependencies\n",
    "- Explicitly designed to avoid long-term dependency problem. Remembering information for long periods of time is their default behavior, not something they struggle to learn.\n",
    "- Standard RNN:\n",
    "\n",
    "![RNN-standard-single-layer](images/RNN4.png)\n",
    "\n",
    "- LTSM module has 4 interacting layers\n",
    "\n",
    "![LTSM](images/LTSM1.png)\n",
    "\n",
    "![LTSM-layers](images/LSTM2.png)\n",
    "\n",
    "#### Core Concept\n",
    "\n",
    "- **Cell State:** Horizontal line running through the top of the diagram.\n",
    "- Kind of like a conveyor belt - straight down the entire chain with only minor interactions. Easy for information to flow along unchanged.\n",
    "- There is the ability to remove or add information to the cell state, but it is carefully regulated by gates which let ingotmation through\n",
    "  - Composed of sigmoid layers and pointwise multiplication:\n",
    "    - 0 - let nothing through\n",
    "    - 1 - let everything through\n",
    "  - LTSM has three of these gates to protect and control the cell state.\n",
    "  \n",
    "![LTSM-gate](images/gate.png)\n"
   ]
  },
  {
   "cell_type": "markdown",
   "metadata": {},
   "source": [
    "### LSTM: Step by step\n",
    "\n",
    "1. Decide that information we are going to throw away from the cell state\n",
    "   - \"Forget gate layer\" outputs a number between 0 and 1 keep / get rid of\n",
    "2. Decide what new information to store\n",
    "    1. \"Input gate layer\" decides which values to update\n",
    "    2. Tanh layer creates vector of new candidate values that could be added to the state\n",
    "3. Update cell state\n",
    "    - Forget what decided to forget\n",
    "    - Add scaled candidate values\n",
    "4. Decide output based on cell state\n",
    "\n",
    "https://colah.github.io/posts/2015-08-Understanding-LSTMs/"
   ]
  },
  {
   "cell_type": "markdown",
   "metadata": {},
   "source": [
    "---"
   ]
  },
  {
   "cell_type": "markdown",
   "metadata": {},
   "source": [
    "### Review Codeup Curriculum on Anomaly Detection"
   ]
  },
  {
   "cell_type": "markdown",
   "metadata": {},
   "source": [
    "- Practice of identifying data points, items, observations, or events that do not conform to the expected pattern of a given group\n",
    "\n",
    "#### What are Anomalies?\n",
    "\n",
    "- **Anomaly**: Unusual, unexpected, surprising patterns in the observed rule. An anomalous data point is a deviation from a rule or from what is regarded as normal; an outlier. An anomaly is any event or measurement that is out of the ordinary regardless of whether it is exceptional or not.\n",
    "\n",
    "\n",
    "- **Outlier**: An outlier is an observation that lies an abnormal distance from other values in a random sample from a population. In a sense, this definition leaves it up to the analyst (or a consensus process) to decide what will be considered abnormal. Before abnormal observations can be singled out, it is necessary to characterize normal observations.\n",
    "\n",
    "\n",
    "- These terms are frequently used interchangeably.\n",
    "\n",
    "\n",
    "- In some cases, statisticians sometimes use the term 'outlier' to mean \"something I should remove from the dataset so that it doesn't skew my model I'm building\".\n",
    "\n",
    "\n",
    "- In other cases, we may reserve the word 'anomaly' for data points we want to keep because they are valuable if caught or costly if missed. It's also possible to have an anomaly that is an inlier, meaning that the data is anomalous in nature but is close (in distance) to the mean, mode, or expected grouping(s)."
   ]
  },
  {
   "cell_type": "markdown",
   "metadata": {},
   "source": [
    "<h2 id=\"examples-of-anomaly-detection-in-data-science\">Examples  of Anomaly Detection in Data Science</h2>\n",
    "<ul>\n",
    "<li>Fraud detection for financial companies</li>\n",
    "<li>Medical scans like XRays, ultrasounds, and MRIs seeking abnormalities in location, density, growth, etc..</li>\n",
    "<li>Detecting and preventing cyber-crime</li>\n",
    "<li>Malware detection</li>\n",
    "<li>Intelligence and Defense applications</li>\n",
    "<li>Analytical Marketing looking for new trends in business or household purchases</li>\n",
    "</ul>"
   ]
  },
  {
   "cell_type": "markdown",
   "metadata": {},
   "source": [
    "<h2 id=\"the-best-way-to-detect-anomalies-is-to-know-your-domain\">The <strong>best</strong> way to detect anomalies is to <em>know your domain</em></h2>\n",
    "<ul>\n",
    "<li>For example, knowing that there is nothing colder than absolute zero degrees Kelvin informs how we approach an observation below 0 degrees Kelvin. It may mean that there is something wrong with the measuring tool or a clerical error like a typo (more likely).</li>\n",
    "<li>What determines if a data point is an outlier is a function of <strong>who</strong> determines if that data point is anomalous and <strong>why</strong>. </li>\n",
    "<li>One person's noise is another person's signal, depending on their goals and the costs and benefits to be gained/avoided from identifying that data point.<ul>\n",
    "<li>To one analyst aiming for a clean model of 50/50 chance, observing a flipped coin that lands exactly on its side is an anomaly may be noise that they should ignore from their model. </li>\n",
    "<li>To another practitioner, the anomaly may be an observation of very high value that they want to catch, like early detection of a rare disease. </li>\n",
    "</ul>\n",
    "</li>\n",
    "<li>Recall the <a href=\"https://www.itl.nist.gov/div898/handbook/prc/section1/prc16.htm\">e-Handbook of Statistical Methods</a> definition an outlier: \"an observation that lies an abnormal distance from other values in a random sample from a population. <em>In a sense, this definition leaves it up to the analyst (or a consensus process) to decide what will be considered abnormal\"</em>. </li>\n",
    "<li>It's important to define the criteria, the decision rule, for what makes an observation an inlier or an outlier.</li>\n",
    "<li>Usually, the deciding factor is cost/benefit analysis:<ul>\n",
    "<li>Is our goal to hunt for anomalies at all costs because lives are on the line?</li>\n",
    "<li>Or do we do more good for people by producing a model that treats outliers as noise?</li>\n",
    "<li>What is the cost of a false positive or a false negative?</li>\n",
    "<li>What is the benefit of a true positive or a true negative?</li>\n",
    "</ul>\n",
    "</li>\n",
    "</ul>"
   ]
  },
  {
   "cell_type": "markdown",
   "metadata": {},
   "source": [
    "<h2 id=\"outliers-may-contain-important-information\">Outliers may contain important information</h2>\n",
    "<p>Outliers should be investigated carefully. </p>\n",
    "<p>Often they contain valuable information about the process under investigation or the data gathering and recording process. Before considering the possible elimination of these points from the data, one should try to understand why they appeared and whether it is likely similar values will continue to appear. Of course, outliers are often bad data points.</p>\n"
   ]
  },
  {
   "cell_type": "markdown",
   "metadata": {},
   "source": [
    "<h2 id=\"types-of-anomalies\">Types of Anomalies</h2>\n",
    "<ul>\n",
    "<li>\n",
    "<p><strong>Use Cases:</strong> Response times (longer than usual), error rates (more than usual), network load, cyber intrusions, fraud.</p>\n",
    "</li>\n",
    "<li>\n",
    "<p><strong>Point Anomalies:</strong>  A single instance of data is anomalous if it's too far off from the rest. For example, detecting data exfiltration based on gigabytes leaving the network, detecting credit card fraud based on \"amount spent\", etc.</p>\n",
    "</li>\n",
    "<li>\n",
    "<p><strong>Contextual Anomalies:</strong> The abnormality is context specific. This type of anomaly is common in time-series data. For example, accessing confidential files during work hours is normal, but in the middle of the night is odd.</p>\n",
    "</li>\n",
    "<li>\n",
    "<p><strong>Collective Anomalies:</strong>  A set of data instances collectively helps in detecting anomalies. For example, someone is trying to copy data form a remote machine to a local host unexpectedly, an anomaly that would be flagged as a potential cyber attack. The combination of the event from the remote machine and the event from the local host combine to detect the anomaly.</p>\n",
    "</li>\n",
    "<li>\n",
    "<p><strong>Anomalies vs. Noise Removal vs. Novelty Detection:</strong> Novelty detection is concerned with identifying an unobserved pattern in new observations not included in training data — for instance, a sudden interest in a new channel on YouTube during Christmas. Noise Removal (NR) is the process of immunizing analysis from the occurrence of unwanted observations; in other words, removing noise from an otherwise meaningful signal.</p>\n",
    "</li>\n",
    "</ul>\n",
    "<p>https://www.datascience.com/blog/python-anomaly-detection</p>"
   ]
  },
  {
   "cell_type": "markdown",
   "metadata": {},
   "source": [
    "<h2 id=\"specific-techniques-for-identifyingdetecting-anomalies\">Specific Techniques for Identifying/Detecting Anomalies</h2>\n",
    "<h3 id=\"statistical-methods\">Statistical Methods</h3>\n",
    "<ul>\n",
    "<li>\n",
    "<p>Flag the data points that deviate from the expected, based on the statistical properties, such as mean, median, mode, and quantiles. </p>\n",
    "</li>\n",
    "<li>\n",
    "<p>You could define an anomalous data point as one that deviates by a certain standard deviation from the mean. </p>\n",
    "</li>\n",
    "<li>\n",
    "<p>You could use a simple or exponential moving average to smooth short-term fluctuations and highlight long-term ones.</p>\n",
    "</li>\n",
    "<li>\n",
    "<p>This method is challenging with really noisy data. </p>\n",
    "</li>\n",
    "</ul>\n",
    "<h3 id=\"support-vector-machine-isolation-forest-anomaly-detection\">Support Vector Machine &amp; Isolation Forest Anomaly Detection</h3>\n",
    "<ul>\n",
    "<li>\n",
    "<p>There are extensions to the supervised technique, such as OneClassSVM, that can be used to identify anomalies as an unsupervised problems (in which training data are not labeled).</p>\n",
    "</li>\n",
    "<li>\n",
    "<p>The algorithm learns a soft boundary in order to cluster the normal data instances using the training set, and then, using the testing instance, it tunes itself to identify the abnormalities that fall outside the learned region.</p>\n",
    "</li>\n",
    "</ul>\n",
    "<h3 id=\"clustering-based-anomaly-detection\">Clustering-Based Anomaly Detection</h3>\n",
    "<ul>\n",
    "<li>\n",
    "<p>Assumption: Data points that are similar tend to belong to similar groups or clusters, as determined by their distance from local centroids.</p>\n",
    "</li>\n",
    "<li>\n",
    "<p>K-means creates 'k' similar clusters of data points. Data instances that fall into abnormally small clusters could potentially be marked as anomalies.</p>\n",
    "</li>\n",
    "<li>\n",
    "<p>Using density based clustering, like DBSCAN, we can design the model such that the data points that do not fall into a cluster are the anomalies.</p>\n",
    "</li>\n",
    "</ul>\n",
    "<h3 id=\"density-based-anomaly-detection\">Density-Based Anomaly Detection</h3>\n",
    "<ul>\n",
    "<li>\n",
    "<p>Assumption: Normal data points occur around a dense neighborhood and abnormalities are far away.</p>\n",
    "</li>\n",
    "<li>\n",
    "<p>The nearest set of data points are evaluated using a score, using one of two algorithms:</p>\n",
    "<ul>\n",
    "<li>KNN: K-Nearest Neighbor</li>\n",
    "<li>LOF: Local Outlier Factor, aka the relative density of data which is based on the reachability distance.</li>\n",
    "</ul>\n",
    "</li>\n",
    "</ul>"
   ]
  },
  {
   "cell_type": "markdown",
   "metadata": {},
   "source": [
    "<h2 id=\"remember\">Remember</h2>\n",
    "<ul>\n",
    "<li>There is not a magic algorithm that takes away our responsibility to think clearly and critically about <em>why</em> an observation is anomalous.</li>\n",
    "<li>There are no hard fast rules for whether or not an outlier should be ignored or investigated.</li>\n",
    "<li>The answer is \"it depends\", and the important part is identifying what that depends on, specifically.</li>\n",
    "</ul>"
   ]
  },
  {
   "cell_type": "markdown",
   "metadata": {},
   "source": [
    "<h2 id=\"further-resources\">Further Resources</h2>\n",
    "<ul>\n",
    "<li><a href=\"https://www.youtube.com/watch?v=086OcT-5DYI\">Video overview of anomaly detection from Andrew Ng</a></li>\n",
    "<li><a href=\"https://scikit-learn.org/stable/modules/outlier_detection.html\">SKLearn Examples of Outlier Detection</a></li>\n",
    "<li>Additional <a href=\"https://github.com/yzhao062/anomaly-detection-resources\">Anomaly Detection Resources</a></li>\n",
    "<li><a href=\"https://github.com/yzhao062/pyod\">Python Toolbox for Scalable Outlier Detection</a></li>\n",
    "</ul>"
   ]
  },
  {
   "cell_type": "markdown",
   "metadata": {},
   "source": [
    "---"
   ]
  },
  {
   "cell_type": "markdown",
   "metadata": {},
   "source": [
    "Doesn't appear to be any LTSM / CNN resources in the curriculum or appendix, so - back to the web!"
   ]
  },
  {
   "cell_type": "markdown",
   "metadata": {},
   "source": [
    "### Time Series Prediction with LSTM Recurrent Neural Networks in Python with Keras\n",
    "\n",
    "https://machinelearningmastery.com/time-series-prediction-lstm-recurrent-neural-networks-python-keras/\n",
    "\n"
   ]
  },
  {
   "cell_type": "markdown",
   "metadata": {},
   "source": [
    "- Discover how to develop LSTM networks in Python using the Keras deep learning library to address a demonstration time-series prediction problem.\n",
    "- "
   ]
  }
 ],
 "metadata": {
  "interpreter": {
   "hash": "38cca0c38332a56087b24af0bc80247f4fced29cb4f7f437d91dc159adec9c4e"
  },
  "kernelspec": {
   "display_name": "Python 3.8.12 64-bit ('base': conda)",
   "language": "python",
   "name": "python3"
  },
  "language_info": {
   "codemirror_mode": {
    "name": "ipython",
    "version": 3
   },
   "file_extension": ".py",
   "mimetype": "text/x-python",
   "name": "python",
   "nbconvert_exporter": "python",
   "pygments_lexer": "ipython3",
   "version": "3.8.12"
  },
  "orig_nbformat": 4
 },
 "nbformat": 4,
 "nbformat_minor": 2
}
