{
 "cells": [
  {
   "cell_type": "markdown",
   "metadata": {},
   "source": [
    "# Anomaly Detection in Electrocardigram Readings\n",
    "\n",
    "### by Jared Godar"
   ]
  },
  {
   "cell_type": "markdown",
   "metadata": {},
   "source": [
    "![ecg](images/ecg.jpeg)"
   ]
  },
  {
   "cell_type": "markdown",
   "metadata": {},
   "source": [
    "## Introduction\n",
    "\n",
    "Several of my potential desired employers are involved with signal processing. For one of my next projects, I am interested in doing image analysis for predictions for medical images or geospatial data, but since we haven't really looked at image processing yet, I chose a time-series signal -- specifically, electrocardiograms (ECG).\n",
    "\n",
    "Real-world anomaly detection for time series is still a challenging task. This is especially true for periodic or quasi-periodic time series since automated approaches have to learn long-term correlations before they are able to detect anomalies. ECG time series are a prominent, real-world example of quasi-periodic signals (1).\n",
    "\n",
    "The first labelled ecg dataset I explored already had single cardiac cycle data segmented. It would likely have been a simpler dataset to work with, but a lot of the extraction of the relevant signal portions from the raw signal was already done and that is a big part of the puzzle, so I wanted to stare with more real-world data and perform that step myself.\n",
    "\n",
    "I found a second dataset which had 9-120 second recordings which looked promising, but the data existed as thousands of individual matlab files, so ingesting them into a usable dataframe was posing a challenge. I took a little break from processing those files to search for an additional dataset that had the appropriate data in a slightly more user-friendly format and came across the following dataset which I will use moving forward.\n",
    "\n",
    "1. Thill, M, et. al. 2019 'Anomaly Detection in Electrocardiogram Readings with Stacked LSTM Networks', *Proceedings of the 19th Conference Information Technologies - Applications and Theory (ITAT 2019)*, p 17-25"
   ]
  },
  {
   "cell_type": "markdown",
   "metadata": {},
   "source": []
  },
  {
   "cell_type": "markdown",
   "metadata": {},
   "source": [
    "---"
   ]
  },
  {
   "cell_type": "markdown",
   "metadata": {},
   "source": [
    "## Dataset\n",
    "\n",
    "I will use the MIH-BIH Arrythmia dataset from https://physionet.org/content/mitdb/1.0.0/. \n",
    "\n",
    "This is a dataset with 48 half-hour two-channel ECG recordings measured at 360 Hz. The recordings have annotations from cardiologists for each heart beat. \n",
    "\n",
    "The symbols for the annotations can be found at https://archive.physionet.org/physiobank/annotations.shtml"
   ]
  },
  {
   "cell_type": "markdown",
   "metadata": {},
   "source": [
    "## Goals\n",
    "\n",
    "Predict if a heartbeat from an ECG signal is normal or abnormal based on a six-second window centered on the peak of the hearbeat."
   ]
  },
  {
   "cell_type": "markdown",
   "metadata": {},
   "source": [
    "---"
   ]
  },
  {
   "cell_type": "markdown",
   "metadata": {},
   "source": [
    "## Data Preparation"
   ]
  },
  {
   "cell_type": "code",
   "execution_count": 1,
   "metadata": {},
   "outputs": [],
   "source": [
    "import pandas as pd\n",
    "import numpy as np\n",
    "import matplotlib.pyplot as plt\n",
    "from os import listdir\n",
    "\n",
    "from sklearn.model_selection import train_test_split\n"
   ]
  },
  {
   "cell_type": "code",
   "execution_count": 2,
   "metadata": {},
   "outputs": [],
   "source": [
    "data_path = '/Users/jaredgodar/codeup-data-science/ecg_anomaly_detection/physionet.org/files/mitdb/1.0.0/'\n"
   ]
  },
  {
   "cell_type": "code",
   "execution_count": 3,
   "metadata": {},
   "outputs": [],
   "source": [
    "# list of patients\n",
    "pts = ['100','101','102','103','104','105','106','107',\n",
    "       '108','109','111','112','113','114','115','116',\n",
    "       '117','118','119','121','122','123','124','200',\n",
    "       '201','202','203','205','207','208','209','210',\n",
    "       '212','213','214','215','217','219','220','221',\n",
    "       '222','223','228','230','231','232','233','234']\n"
   ]
  },
  {
   "cell_type": "code",
   "execution_count": 4,
   "metadata": {},
   "outputs": [],
   "source": [
    "import wfdb #PyPi package for loading ecg and annotations"
   ]
  },
  {
   "cell_type": "code",
   "execution_count": 5,
   "metadata": {},
   "outputs": [],
   "source": [
    "# Load annotations and look at distribution of heartbeat types\n",
    "\n",
    "df = pd.DataFrame()\n",
    "\n",
    "for pt in pts:\n",
    "    file = data_path + pt\n",
    "    annotation = wfdb.rdann(file, 'atr')\n",
    "    sym = annotation.symbol\n",
    "    \n",
    "    values, counts = np.unique(sym, return_counts=True)\n",
    "    df_sub = pd.DataFrame({'sym':values, 'val':counts, 'pt':[pt]*len(counts)})\n",
    "    df = pd.concat([df, df_sub],axis = 0)"
   ]
  },
  {
   "cell_type": "code",
   "execution_count": 6,
   "metadata": {},
   "outputs": [
    {
     "data": {
      "text/html": [
       "<div>\n",
       "<style scoped>\n",
       "    .dataframe tbody tr th:only-of-type {\n",
       "        vertical-align: middle;\n",
       "    }\n",
       "\n",
       "    .dataframe tbody tr th {\n",
       "        vertical-align: top;\n",
       "    }\n",
       "\n",
       "    .dataframe thead th {\n",
       "        text-align: right;\n",
       "    }\n",
       "</style>\n",
       "<table border=\"1\" class=\"dataframe\">\n",
       "  <thead>\n",
       "    <tr style=\"text-align: right;\">\n",
       "      <th></th>\n",
       "      <th>sym</th>\n",
       "      <th>val</th>\n",
       "      <th>pt</th>\n",
       "    </tr>\n",
       "  </thead>\n",
       "  <tbody>\n",
       "    <tr>\n",
       "      <th>0</th>\n",
       "      <td>+</td>\n",
       "      <td>1</td>\n",
       "      <td>100</td>\n",
       "    </tr>\n",
       "    <tr>\n",
       "      <th>1</th>\n",
       "      <td>A</td>\n",
       "      <td>33</td>\n",
       "      <td>100</td>\n",
       "    </tr>\n",
       "    <tr>\n",
       "      <th>2</th>\n",
       "      <td>N</td>\n",
       "      <td>2239</td>\n",
       "      <td>100</td>\n",
       "    </tr>\n",
       "    <tr>\n",
       "      <th>3</th>\n",
       "      <td>V</td>\n",
       "      <td>1</td>\n",
       "      <td>100</td>\n",
       "    </tr>\n",
       "    <tr>\n",
       "      <th>0</th>\n",
       "      <td>+</td>\n",
       "      <td>1</td>\n",
       "      <td>101</td>\n",
       "    </tr>\n",
       "  </tbody>\n",
       "</table>\n",
       "</div>"
      ],
      "text/plain": [
       "  sym   val   pt\n",
       "0   +     1  100\n",
       "1   A    33  100\n",
       "2   N  2239  100\n",
       "3   V     1  100\n",
       "0   +     1  101"
      ]
     },
     "execution_count": 6,
     "metadata": {},
     "output_type": "execute_result"
    }
   ],
   "source": [
    "df.head()"
   ]
  },
  {
   "cell_type": "code",
   "execution_count": 7,
   "metadata": {},
   "outputs": [
    {
     "data": {
      "text/plain": [
       "(283, 3)"
      ]
     },
     "execution_count": 7,
     "metadata": {},
     "output_type": "execute_result"
    }
   ],
   "source": [
    "df.shape"
   ]
  },
  {
   "cell_type": "code",
   "execution_count": 8,
   "metadata": {},
   "outputs": [
    {
     "data": {
      "text/plain": [
       "Text(0, 0.5, 'Label')"
      ]
     },
     "execution_count": 8,
     "metadata": {},
     "output_type": "execute_result"
    },
    {
     "data": {
      "image/png": "[encoded data removed]",
      "text/plain": [
       "<Figure size 432x288 with 1 Axes>"
      ]
     },
     "metadata": {
      "needs_background": "light"
     },
     "output_type": "display_data"
    }
   ],
   "source": [
    "plt.hist(df.sym)\n",
    "plt.title('Frequency of Labels')\n",
    "plt.xlabel('Counts')\n",
    "plt.ylabel('Label')"
   ]
  },
  {
   "cell_type": "markdown",
   "metadata": {},
   "source": [
    "Graph doesn't seem to line up with tabular data below\n",
    "[] Find out why not"
   ]
  },
  {
   "cell_type": "code",
   "execution_count": 9,
   "metadata": {},
   "outputs": [
    {
     "data": {
      "text/plain": [
       "sym\n",
       "N    75052\n",
       "L     8075\n",
       "R     7259\n",
       "V     7130\n",
       "/     7028\n",
       "A     2546\n",
       "+     1291\n",
       "f      982\n",
       "F      803\n",
       "~      616\n",
       "!      472\n",
       "\"      437\n",
       "j      229\n",
       "x      193\n",
       "a      150\n",
       "|      132\n",
       "E      106\n",
       "J       83\n",
       "Q       33\n",
       "e       16\n",
       "[        6\n",
       "]        6\n",
       "S        2\n",
       "Name: val, dtype: int64"
      ]
     },
     "execution_count": 9,
     "metadata": {},
     "output_type": "execute_result"
    }
   ],
   "source": [
    "df.groupby('sym').val.sum().sort_values(ascending = False)\n"
   ]
  },
  {
   "cell_type": "markdown",
   "metadata": {},
   "source": [
    "This dataset is extensively labelled with various abnormalities given their own names and labels. For the initial model, I will only use a boolean 0/1 to represent normal/abnormal. Later iterations may attempt to no only identify anomalies, but provide proposed labels naming the specific anomaly type, but that is beyond the scope of the current work.\n",
    "\n",
    "Some of the abnormal labels also apply to features that aren't part of the normal heartbeat / cardiac cycle. I will focus on the actual abnormal beat features, not these \"nonbeat\" features."
   ]
  },
  {
   "cell_type": "code",
   "execution_count": 10,
   "metadata": {},
   "outputs": [],
   "source": [
    "# list of nonbeat and abnormal\n",
    "nonbeat = ['[','!',']','x','(',')','p','t','u','`',\n",
    "           '\\'','^','|','~','+','s','T','*','D','=','\"','@','Q','?']\n",
    "abnormal = ['L','R','V','/','A','f','F','j','a','E','J','e','S']"
   ]
  },
  {
   "cell_type": "code",
   "execution_count": 11,
   "metadata": {},
   "outputs": [],
   "source": [
    "# break into normal, abnormal or nonbeat\n",
    "df['cat'] = -1\n",
    "df.loc[df.sym == 'N','cat'] = 0\n",
    "df.loc[df.sym.isin(abnormal), 'cat'] = 1"
   ]
  },
  {
   "cell_type": "code",
   "execution_count": 12,
   "metadata": {},
   "outputs": [
    {
     "data": {
      "text/plain": [
       "cat\n",
       "-1     3186\n",
       " 0    75052\n",
       " 1    34409\n",
       "Name: val, dtype: int64"
      ]
     },
     "execution_count": 12,
     "metadata": {},
     "output_type": "execute_result"
    }
   ],
   "source": [
    "df.groupby('cat').val.sum()\n"
   ]
  },
  {
   "cell_type": "code",
   "execution_count": 13,
   "metadata": {},
   "outputs": [
    {
     "data": {
      "text/html": [
       "<div>\n",
       "<style scoped>\n",
       "    .dataframe tbody tr th:only-of-type {\n",
       "        vertical-align: middle;\n",
       "    }\n",
       "\n",
       "    .dataframe tbody tr th {\n",
       "        vertical-align: top;\n",
       "    }\n",
       "\n",
       "    .dataframe thead th {\n",
       "        text-align: right;\n",
       "    }\n",
       "</style>\n",
       "<table border=\"1\" class=\"dataframe\">\n",
       "  <thead>\n",
       "    <tr style=\"text-align: right;\">\n",
       "      <th></th>\n",
       "      <th>sym</th>\n",
       "      <th>val</th>\n",
       "      <th>pt</th>\n",
       "      <th>cat</th>\n",
       "    </tr>\n",
       "  </thead>\n",
       "  <tbody>\n",
       "    <tr>\n",
       "      <th>0</th>\n",
       "      <td>+</td>\n",
       "      <td>1</td>\n",
       "      <td>100</td>\n",
       "      <td>-1</td>\n",
       "    </tr>\n",
       "    <tr>\n",
       "      <th>1</th>\n",
       "      <td>A</td>\n",
       "      <td>33</td>\n",
       "      <td>100</td>\n",
       "      <td>1</td>\n",
       "    </tr>\n",
       "    <tr>\n",
       "      <th>2</th>\n",
       "      <td>N</td>\n",
       "      <td>2239</td>\n",
       "      <td>100</td>\n",
       "      <td>0</td>\n",
       "    </tr>\n",
       "    <tr>\n",
       "      <th>3</th>\n",
       "      <td>V</td>\n",
       "      <td>1</td>\n",
       "      <td>100</td>\n",
       "      <td>1</td>\n",
       "    </tr>\n",
       "    <tr>\n",
       "      <th>0</th>\n",
       "      <td>+</td>\n",
       "      <td>1</td>\n",
       "      <td>101</td>\n",
       "      <td>-1</td>\n",
       "    </tr>\n",
       "  </tbody>\n",
       "</table>\n",
       "</div>"
      ],
      "text/plain": [
       "  sym   val   pt  cat\n",
       "0   +     1  100   -1\n",
       "1   A    33  100    1\n",
       "2   N  2239  100    0\n",
       "3   V     1  100    1\n",
       "0   +     1  101   -1"
      ]
     },
     "execution_count": 13,
     "metadata": {},
     "output_type": "execute_result"
    }
   ],
   "source": [
    "df.head()"
   ]
  },
  {
   "cell_type": "code",
   "execution_count": 14,
   "metadata": {},
   "outputs": [
    {
     "data": {
      "text/plain": [
       "(array([1., 0., 0., 0., 0., 0., 0., 0., 0., 2.]),\n",
       " array([ 40. ,  48.4,  56.8,  65.2,  73.6,  82. ,  90.4,  98.8, 107.2,\n",
       "        115.6, 124. ]),\n",
       " <BarContainer object of 10 artists>)"
      ]
     },
     "execution_count": 14,
     "metadata": {},
     "output_type": "execute_result"
    },
    {
     "data": {
      "image/png": "[encoded data removed]",
      "text/plain": [
       "<Figure size 432x288 with 1 Axes>"
      ]
     },
     "metadata": {
      "needs_background": "light"
     },
     "output_type": "display_data"
    }
   ],
   "source": [
    "plt.hist(df.cat.value_counts())"
   ]
  },
  {
   "cell_type": "markdown",
   "metadata": {},
   "source": [
    "This gives me an overall dataset of 75052 normal cardiac cycles, 34409 examples of abnormalities, and 3186 non-beat features which will be excluded from training and modeling."
   ]
  },
  {
   "cell_type": "markdown",
   "metadata": {},
   "source": [
    "The following function will load a single patient's signals and annotations (annotation values are the indices of the signal array)"
   ]
  },
  {
   "cell_type": "code",
   "execution_count": 15,
   "metadata": {},
   "outputs": [],
   "source": [
    "def load_ecg(file):\n",
    "    # load the ecg\n",
    "    # example file: 'mit-bih-arrhythmia-database-1.0.0/101'\n",
    "    \n",
    "    # load the ecg\n",
    "    record = wfdb.rdrecord(file)\n",
    "    # load the annotation\n",
    "    annotation = wfdb.rdann(file, 'atr')\n",
    "    \n",
    "    # extract the signal\n",
    "    p_signal = record.p_signal\n",
    "    \n",
    "    # verify frequency is 360\n",
    "    assert record.fs == 360, 'sample freq is not 360'\n",
    "    \n",
    "    # extract symbols and annotation index\n",
    "    atr_sym = annotation.symbol\n",
    "    atr_sample = annotation.sample\n",
    "    \n",
    "    return p_signal, atr_sym, atr_sample "
   ]
  },
  {
   "cell_type": "code",
   "execution_count": 16,
   "metadata": {},
   "outputs": [],
   "source": [
    "# Files are named by patient number, already listed in the pts array, in the path defined\n",
    "file = data_path + pts[0]\n"
   ]
  },
  {
   "cell_type": "code",
   "execution_count": 17,
   "metadata": {},
   "outputs": [],
   "source": [
    "p_signal, atr_sym, atr_sample = load_ecg(file)\n"
   ]
  },
  {
   "cell_type": "code",
   "execution_count": 18,
   "metadata": {},
   "outputs": [
    {
     "name": "stdout",
     "output_type": "stream",
     "text": [
      "+ 3\n",
      "J 50\n",
      "N 2700\n",
      "V 3\n",
      "~ 8\n"
     ]
    }
   ],
   "source": [
    "values, counts = np.unique(sym, return_counts=True)\n",
    "for v,c in zip(values, counts):\n",
    "    print(v,c)\n"
   ]
  },
  {
   "cell_type": "markdown",
   "metadata": {},
   "source": [
    "It is important to note that the data do not contain 'normal' ECGs for 'normal' patients and 'abnornal' ecgs for 'abnormal' patients.\n",
    "\n",
    "For any given patient over the recording period, there will be many 'normal' beats and possibly 'abnormal' ones as well."
   ]
  },
  {
   "cell_type": "code",
   "execution_count": 19,
   "metadata": {},
   "outputs": [
    {
     "data": {
      "text/plain": [
       "[2044, 66792, 74986, 99579, 128085, 170719, 279576, 305709, 307745, 312825]"
      ]
     },
     "execution_count": 19,
     "metadata": {},
     "output_type": "execute_result"
    }
   ],
   "source": [
    "# Get index of any abnormal beats\n",
    "ab_index = [b for a,b in zip(atr_sym,atr_sample) if a in abnormal][:10]\n",
    "ab_index"
   ]
  },
  {
   "cell_type": "markdown",
   "metadata": {},
   "source": [
    "This is time-based data with a sample frequency of 360 Hz. I do not have a time-stamp in the dataframe, but we can make an x-array of the length of the signal values to serve as our time axis since the time sampling interval is regular each value is (1/360) seconds."
   ]
  },
  {
   "cell_type": "code",
   "execution_count": 20,
   "metadata": {},
   "outputs": [],
   "source": [
    "x = np.arange(len(p_signal))\n"
   ]
  },
  {
   "cell_type": "markdown",
   "metadata": {},
   "source": [
    "Here, I will plot an abnormal beat from our abnormal index and show 3 seconds before and after the abnormality"
   ]
  },
  {
   "cell_type": "code",
   "execution_count": 21,
   "metadata": {},
   "outputs": [
    {
     "data": {
      "image/png": "[encoded data removed]",
      "text/plain": [
       "<Figure size 432x288 with 1 Axes>"
      ]
     },
     "metadata": {
      "needs_background": "light"
     },
     "output_type": "display_data"
    }
   ],
   "source": [
    "left = ab_index[1]-1080\n",
    "right = ab_index[1]+1080\n",
    "\n",
    "plt.plot(x[left:right],p_signal[left:right,0],'-',label='ecg',)\n",
    "plt.plot(x[atr_sample],p_signal[atr_sample,0],'go',label ='normal')\n",
    "plt.plot(x[ab_index],p_signal[ab_index,0],'ro',label='abnormal')\n",
    "\n",
    "plt.xlim(left,right)\n",
    "plt.ylim(p_signal[left:right].min()-0.05,p_signal[left:right,0].max()+0.05)\n",
    "plt.xlabel('time index')\n",
    "plt.ylabel('ECG signal')\n",
    "plt.legend(bbox_to_anchor = (1.04,1), loc = 'upper left')\n",
    "plt.show()\n"
   ]
  },
  {
   "cell_type": "markdown",
   "metadata": {},
   "source": [
    "## Dataset Generation\n",
    "\n",
    "Here, I will make a dataframe containing every heartbeat in the dataset centered on the beat with the 3 seconds before and after, like the example above."
   ]
  },
  {
   "cell_type": "code",
   "execution_count": 22,
   "metadata": {},
   "outputs": [],
   "source": [
    "def make_dataset(pts, num_sec, fs, abnormal):\n",
    "    '''\n",
    "    function for making dataset ignoring non-beats\n",
    "    \n",
    "    input:\n",
    "        pts - list of patients\n",
    "        num_sec = number of seconds to include before and after the beat\n",
    "        fs = frequency\n",
    "    \n",
    "    output: \n",
    "        X_all = signal (nbeats , num_sec * fs columns)\n",
    "        Y_all = binary is abnormal (nbeats, 1)\n",
    "        sym_all = beat annotation symbol (nbeats,1)\n",
    "    '''\n",
    "\n",
    "    #initialize numpy arrays\n",
    "    num_cols = 2*num_sec * fs\n",
    "    X_all = np.zeros((1,num_cols))\n",
    "    Y_all = np.zeros((1,1))\n",
    "    sym_all = []\n",
    "    \n",
    "    #list to keep track of number of beats across patients\n",
    "    max_rows = []\n",
    "        \n",
    "    for pt in pts:\n",
    "        file = data_path + pt\n",
    "        \n",
    "        p_signal, atr_sym, atr_sample = load_ecg(file)\n",
    "        \n",
    "        # grab the first signal\n",
    "        p_signal = p_signal[:,0]\n",
    "        \n",
    "        # make df to exclude the nonbeats\n",
    "        df_ann = pd.DataFrame({'atr_sym':atr_sym,\n",
    "                              'atr_sample':atr_sample})\n",
    "        df_ann = df_ann.loc[df_ann.atr_sym.isin(abnormal + ['N'])]\n",
    "        \n",
    "        X,Y,sym = build_XY(p_signal,df_ann, num_cols, abnormal)\n",
    "        sym_all = sym_all+sym\n",
    "        max_rows.append(X.shape[0])\n",
    "        X_all = np.append(X_all,X,axis = 0)\n",
    "        Y_all = np.append(Y_all,Y,axis = 0)\n",
    "    # drop the first zero row\n",
    "    X_all = X_all[1:,:]\n",
    "    Y_all = Y_all[1:,:]\n",
    "    \n",
    "    # check sizes make sense\n",
    "    assert np.sum(max_rows) == X_all.shape[0], 'number of X, max_rows rows messed up'\n",
    "    assert Y_all.shape[0] == X_all.shape[0], 'number of X, Y rows messed up'\n",
    "    assert Y_all.shape[0] == len(sym_all), 'number of Y, sym rows messed up'\n",
    "\n",
    "    return X_all, Y_all, sym_all"
   ]
  },
  {
   "cell_type": "code",
   "execution_count": 23,
   "metadata": {},
   "outputs": [],
   "source": [
    "def build_XY(p_signal, df_ann, num_cols, abnormal):\n",
    "    '''\n",
    "    this function builds the X,Y matrices for each beat\n",
    "     it also returns the original symbols for Y\n",
    "    '''\n",
    "    \n",
    "    num_rows = len(df_ann)\n",
    "\n",
    "    X = np.zeros((num_rows, num_cols))\n",
    "    Y = np.zeros((num_rows,1))\n",
    "    sym = []\n",
    "    \n",
    "    # keep track of rows\n",
    "    max_row = 0\n",
    "\n",
    "    for atr_sample, atr_sym in zip(df_ann.atr_sample.values,df_ann.atr_sym.values):\n",
    "\n",
    "        left = max([0,(atr_sample - num_sec*fs) ])\n",
    "        right = min([len(p_signal),(atr_sample + num_sec*fs) ])\n",
    "        x = p_signal[left: right]\n",
    "        if len(x) == num_cols:\n",
    "            X[max_row,:] = x\n",
    "            Y[max_row,:] = int(atr_sym in abnormal)\n",
    "            sym.append(atr_sym)\n",
    "            max_row += 1\n",
    "    X = X[:max_row,:]\n",
    "    Y = Y[:max_row,:]\n",
    "    return X,Y,sym\n",
    "    "
   ]
  },
  {
   "cell_type": "code",
   "execution_count": 24,
   "metadata": {},
   "outputs": [],
   "source": [
    "# define parameters\n",
    "num_sec = 3\n",
    "fs = 360"
   ]
  },
  {
   "cell_type": "code",
   "execution_count": 25,
   "metadata": {},
   "outputs": [],
   "source": [
    "X_all, Y_all, sym_all = make_dataset(pts, num_sec, fs, abnormal)"
   ]
  },
  {
   "cell_type": "markdown",
   "metadata": {},
   "source": [
    "The previous cell took minutes to run, so I will convert X_all, Y_all, and sym_all to dataframes and cache them as CSV files (which I wont upload to Github this time as they are too large)"
   ]
  },
  {
   "cell_type": "code",
   "execution_count": 26,
   "metadata": {},
   "outputs": [],
   "source": [
    "X_all=pd.DataFrame(X_all)\n",
    "Y_all=pd.DataFrame(Y_all)\n",
    "sym_all=pd.DataFrame(sym_all)"
   ]
  },
  {
   "cell_type": "code",
   "execution_count": 27,
   "metadata": {},
   "outputs": [],
   "source": [
    "#X_all_df=pd.DataFrame(X_all)\n",
    "#Y_all_df=pd.DataFrame(Y_all)\n",
    "#sym_all_df=pd.DataFrame(sym_all)"
   ]
  },
  {
   "cell_type": "code",
   "execution_count": 28,
   "metadata": {},
   "outputs": [
    {
     "data": {
      "text/html": [
       "<div>\n",
       "<style scoped>\n",
       "    .dataframe tbody tr th:only-of-type {\n",
       "        vertical-align: middle;\n",
       "    }\n",
       "\n",
       "    .dataframe tbody tr th {\n",
       "        vertical-align: top;\n",
       "    }\n",
       "\n",
       "    .dataframe thead th {\n",
       "        text-align: right;\n",
       "    }\n",
       "</style>\n",
       "<table border=\"1\" class=\"dataframe\">\n",
       "  <thead>\n",
       "    <tr style=\"text-align: right;\">\n",
       "      <th></th>\n",
       "      <th>0</th>\n",
       "      <th>1</th>\n",
       "      <th>2</th>\n",
       "      <th>3</th>\n",
       "      <th>4</th>\n",
       "      <th>5</th>\n",
       "      <th>6</th>\n",
       "      <th>7</th>\n",
       "      <th>8</th>\n",
       "      <th>9</th>\n",
       "      <th>...</th>\n",
       "      <th>2150</th>\n",
       "      <th>2151</th>\n",
       "      <th>2152</th>\n",
       "      <th>2153</th>\n",
       "      <th>2154</th>\n",
       "      <th>2155</th>\n",
       "      <th>2156</th>\n",
       "      <th>2157</th>\n",
       "      <th>2158</th>\n",
       "      <th>2159</th>\n",
       "    </tr>\n",
       "  </thead>\n",
       "  <tbody>\n",
       "    <tr>\n",
       "      <th>0</th>\n",
       "      <td>-0.340</td>\n",
       "      <td>-0.335</td>\n",
       "      <td>-0.330</td>\n",
       "      <td>-0.35</td>\n",
       "      <td>-0.350</td>\n",
       "      <td>-0.345</td>\n",
       "      <td>-0.335</td>\n",
       "      <td>-0.335</td>\n",
       "      <td>-0.335</td>\n",
       "      <td>-0.350</td>\n",
       "      <td>...</td>\n",
       "      <td>-0.365</td>\n",
       "      <td>-0.375</td>\n",
       "      <td>-0.370</td>\n",
       "      <td>-0.365</td>\n",
       "      <td>-0.360</td>\n",
       "      <td>-0.355</td>\n",
       "      <td>-0.360</td>\n",
       "      <td>-0.360</td>\n",
       "      <td>-0.350</td>\n",
       "      <td>-0.34</td>\n",
       "    </tr>\n",
       "    <tr>\n",
       "      <th>1</th>\n",
       "      <td>-0.390</td>\n",
       "      <td>-0.395</td>\n",
       "      <td>-0.410</td>\n",
       "      <td>-0.40</td>\n",
       "      <td>-0.390</td>\n",
       "      <td>-0.390</td>\n",
       "      <td>-0.385</td>\n",
       "      <td>-0.405</td>\n",
       "      <td>-0.415</td>\n",
       "      <td>-0.415</td>\n",
       "      <td>...</td>\n",
       "      <td>-0.340</td>\n",
       "      <td>-0.335</td>\n",
       "      <td>-0.330</td>\n",
       "      <td>-0.335</td>\n",
       "      <td>-0.345</td>\n",
       "      <td>-0.350</td>\n",
       "      <td>-0.350</td>\n",
       "      <td>-0.340</td>\n",
       "      <td>-0.335</td>\n",
       "      <td>-0.33</td>\n",
       "    </tr>\n",
       "    <tr>\n",
       "      <th>2</th>\n",
       "      <td>-0.400</td>\n",
       "      <td>-0.410</td>\n",
       "      <td>-0.425</td>\n",
       "      <td>-0.41</td>\n",
       "      <td>-0.405</td>\n",
       "      <td>-0.395</td>\n",
       "      <td>-0.400</td>\n",
       "      <td>-0.400</td>\n",
       "      <td>-0.405</td>\n",
       "      <td>-0.385</td>\n",
       "      <td>...</td>\n",
       "      <td>-0.340</td>\n",
       "      <td>-0.320</td>\n",
       "      <td>-0.315</td>\n",
       "      <td>-0.330</td>\n",
       "      <td>-0.340</td>\n",
       "      <td>-0.340</td>\n",
       "      <td>-0.350</td>\n",
       "      <td>-0.330</td>\n",
       "      <td>-0.330</td>\n",
       "      <td>-0.34</td>\n",
       "    </tr>\n",
       "    <tr>\n",
       "      <th>3</th>\n",
       "      <td>-0.405</td>\n",
       "      <td>-0.410</td>\n",
       "      <td>-0.405</td>\n",
       "      <td>-0.40</td>\n",
       "      <td>-0.390</td>\n",
       "      <td>-0.395</td>\n",
       "      <td>-0.410</td>\n",
       "      <td>-0.415</td>\n",
       "      <td>-0.410</td>\n",
       "      <td>-0.395</td>\n",
       "      <td>...</td>\n",
       "      <td>-0.270</td>\n",
       "      <td>-0.265</td>\n",
       "      <td>-0.260</td>\n",
       "      <td>-0.275</td>\n",
       "      <td>-0.285</td>\n",
       "      <td>-0.265</td>\n",
       "      <td>-0.255</td>\n",
       "      <td>-0.250</td>\n",
       "      <td>-0.270</td>\n",
       "      <td>-0.28</td>\n",
       "    </tr>\n",
       "    <tr>\n",
       "      <th>4</th>\n",
       "      <td>-0.470</td>\n",
       "      <td>-0.455</td>\n",
       "      <td>-0.460</td>\n",
       "      <td>-0.44</td>\n",
       "      <td>-0.435</td>\n",
       "      <td>-0.425</td>\n",
       "      <td>-0.430</td>\n",
       "      <td>-0.445</td>\n",
       "      <td>-0.450</td>\n",
       "      <td>-0.445</td>\n",
       "      <td>...</td>\n",
       "      <td>-0.320</td>\n",
       "      <td>-0.310</td>\n",
       "      <td>-0.300</td>\n",
       "      <td>-0.295</td>\n",
       "      <td>-0.300</td>\n",
       "      <td>-0.315</td>\n",
       "      <td>-0.325</td>\n",
       "      <td>-0.325</td>\n",
       "      <td>-0.305</td>\n",
       "      <td>-0.31</td>\n",
       "    </tr>\n",
       "  </tbody>\n",
       "</table>\n",
       "<p>5 rows × 2160 columns</p>\n",
       "</div>"
      ],
      "text/plain": [
       "    0      1      2     3      4      5      6      7      8      9     ...  \\\n",
       "0 -0.340 -0.335 -0.330 -0.35 -0.350 -0.345 -0.335 -0.335 -0.335 -0.350  ...   \n",
       "1 -0.390 -0.395 -0.410 -0.40 -0.390 -0.390 -0.385 -0.405 -0.415 -0.415  ...   \n",
       "2 -0.400 -0.410 -0.425 -0.41 -0.405 -0.395 -0.400 -0.400 -0.405 -0.385  ...   \n",
       "3 -0.405 -0.410 -0.405 -0.40 -0.390 -0.395 -0.410 -0.415 -0.410 -0.395  ...   \n",
       "4 -0.470 -0.455 -0.460 -0.44 -0.435 -0.425 -0.430 -0.445 -0.450 -0.445  ...   \n",
       "\n",
       "    2150   2151   2152   2153   2154   2155   2156   2157   2158  2159  \n",
       "0 -0.365 -0.375 -0.370 -0.365 -0.360 -0.355 -0.360 -0.360 -0.350 -0.34  \n",
       "1 -0.340 -0.335 -0.330 -0.335 -0.345 -0.350 -0.350 -0.340 -0.335 -0.33  \n",
       "2 -0.340 -0.320 -0.315 -0.330 -0.340 -0.340 -0.350 -0.330 -0.330 -0.34  \n",
       "3 -0.270 -0.265 -0.260 -0.275 -0.285 -0.265 -0.255 -0.250 -0.270 -0.28  \n",
       "4 -0.320 -0.310 -0.300 -0.295 -0.300 -0.315 -0.325 -0.325 -0.305 -0.31  \n",
       "\n",
       "[5 rows x 2160 columns]"
      ]
     },
     "execution_count": 28,
     "metadata": {},
     "output_type": "execute_result"
    }
   ],
   "source": [
    "X_all.head()"
   ]
  },
  {
   "cell_type": "code",
   "execution_count": 29,
   "metadata": {},
   "outputs": [
    {
     "data": {
      "text/plain": [
       "(109099, 2160)"
      ]
     },
     "execution_count": 29,
     "metadata": {},
     "output_type": "execute_result"
    }
   ],
   "source": [
    "X_all.shape"
   ]
  },
  {
   "cell_type": "code",
   "execution_count": 30,
   "metadata": {},
   "outputs": [
    {
     "data": {
      "text/html": [
       "<div>\n",
       "<style scoped>\n",
       "    .dataframe tbody tr th:only-of-type {\n",
       "        vertical-align: middle;\n",
       "    }\n",
       "\n",
       "    .dataframe tbody tr th {\n",
       "        vertical-align: top;\n",
       "    }\n",
       "\n",
       "    .dataframe thead th {\n",
       "        text-align: right;\n",
       "    }\n",
       "</style>\n",
       "<table border=\"1\" class=\"dataframe\">\n",
       "  <thead>\n",
       "    <tr style=\"text-align: right;\">\n",
       "      <th></th>\n",
       "      <th>0</th>\n",
       "    </tr>\n",
       "  </thead>\n",
       "  <tbody>\n",
       "    <tr>\n",
       "      <th>0</th>\n",
       "      <td>0.0</td>\n",
       "    </tr>\n",
       "    <tr>\n",
       "      <th>1</th>\n",
       "      <td>0.0</td>\n",
       "    </tr>\n",
       "    <tr>\n",
       "      <th>2</th>\n",
       "      <td>0.0</td>\n",
       "    </tr>\n",
       "    <tr>\n",
       "      <th>3</th>\n",
       "      <td>1.0</td>\n",
       "    </tr>\n",
       "    <tr>\n",
       "      <th>4</th>\n",
       "      <td>0.0</td>\n",
       "    </tr>\n",
       "  </tbody>\n",
       "</table>\n",
       "</div>"
      ],
      "text/plain": [
       "     0\n",
       "0  0.0\n",
       "1  0.0\n",
       "2  0.0\n",
       "3  1.0\n",
       "4  0.0"
      ]
     },
     "execution_count": 30,
     "metadata": {},
     "output_type": "execute_result"
    }
   ],
   "source": [
    "Y_all.head()"
   ]
  },
  {
   "cell_type": "code",
   "execution_count": 31,
   "metadata": {},
   "outputs": [
    {
     "data": {
      "text/plain": [
       "(109099, 1)"
      ]
     },
     "execution_count": 31,
     "metadata": {},
     "output_type": "execute_result"
    }
   ],
   "source": [
    "Y_all.shape"
   ]
  },
  {
   "cell_type": "code",
   "execution_count": 32,
   "metadata": {},
   "outputs": [],
   "source": [
    "# X_all_df.to_csv('X_all.csv')\n",
    "# Y_all_df.to_csv('Y_all.csv')\n",
    "# sym_all_df.to_csv('sym_all.csv')"
   ]
  },
  {
   "cell_type": "markdown",
   "metadata": {},
   "source": [
    "### Split Data"
   ]
  },
  {
   "cell_type": "code",
   "execution_count": 33,
   "metadata": {},
   "outputs": [],
   "source": [
    "from sklearn.model_selection import train_test_split\n"
   ]
  },
  {
   "cell_type": "code",
   "execution_count": 34,
   "metadata": {},
   "outputs": [],
   "source": [
    "def split_my_data(X_all, Y_all, sym_all, pct=0.10):\n",
    "    '''\n",
    "    This splits a dataframe into train, validate, and test sets. \n",
    "    df = dataframe to split\n",
    "    pct = size of the test set, 1/2 of size of the validate set\n",
    "    Returns three dataframes (train, validate, test)\n",
    "    '''\n",
    "    X_train_validate, X_test, Y_train_validate, Y_test, sym_train_validate, sym_test = train_test_split(\n",
    "        X_all, Y_all, sym_all, test_size=pct, random_state=123)\n",
    "    X_train, X_validate, Y_train, Y_validate, sym_train, sym_validate = train_test_split(\n",
    "        X_train_validate, Y_train_validate, sym_train_validate, test_size=pct*2, random_state=123)\n",
    "    return X_train, X_validate, X_test, Y_train, Y_validate, Y_test, sym_train, sym_validate, sym_test"
   ]
  },
  {
   "cell_type": "code",
   "execution_count": 36,
   "metadata": {},
   "outputs": [],
   "source": [
    "#X_all"
   ]
  },
  {
   "cell_type": "code",
   "execution_count": 37,
   "metadata": {},
   "outputs": [],
   "source": [
    "X_train, X_validate, X_test, Y_train, Y_validate, Y_test, sym_train, sym_validate, sym_test = split_my_data(X_all, Y_all, sym_all)"
   ]
  },
  {
   "cell_type": "code",
   "execution_count": 38,
   "metadata": {},
   "outputs": [
    {
     "name": "stdout",
     "output_type": "stream",
     "text": [
      "(78551, 2160)\n",
      "(19638, 2160)\n",
      "(10910, 2160)\n"
     ]
    }
   ],
   "source": [
    "print(X_train.shape)\n",
    "print(X_validate.shape)\n",
    "print(X_test.shape)"
   ]
  },
  {
   "cell_type": "code",
   "execution_count": 39,
   "metadata": {},
   "outputs": [
    {
     "data": {
      "text/html": [
       "<div>\n",
       "<style scoped>\n",
       "    .dataframe tbody tr th:only-of-type {\n",
       "        vertical-align: middle;\n",
       "    }\n",
       "\n",
       "    .dataframe tbody tr th {\n",
       "        vertical-align: top;\n",
       "    }\n",
       "\n",
       "    .dataframe thead th {\n",
       "        text-align: right;\n",
       "    }\n",
       "</style>\n",
       "<table border=\"1\" class=\"dataframe\">\n",
       "  <thead>\n",
       "    <tr style=\"text-align: right;\">\n",
       "      <th></th>\n",
       "      <th>0</th>\n",
       "      <th>1</th>\n",
       "      <th>2</th>\n",
       "      <th>3</th>\n",
       "      <th>4</th>\n",
       "      <th>5</th>\n",
       "      <th>6</th>\n",
       "      <th>7</th>\n",
       "      <th>8</th>\n",
       "      <th>9</th>\n",
       "      <th>...</th>\n",
       "      <th>2150</th>\n",
       "      <th>2151</th>\n",
       "      <th>2152</th>\n",
       "      <th>2153</th>\n",
       "      <th>2154</th>\n",
       "      <th>2155</th>\n",
       "      <th>2156</th>\n",
       "      <th>2157</th>\n",
       "      <th>2158</th>\n",
       "      <th>2159</th>\n",
       "    </tr>\n",
       "  </thead>\n",
       "  <tbody>\n",
       "    <tr>\n",
       "      <th>39859</th>\n",
       "      <td>-1.365</td>\n",
       "      <td>-1.365</td>\n",
       "      <td>-1.365</td>\n",
       "      <td>-1.385</td>\n",
       "      <td>-1.395</td>\n",
       "      <td>-1.415</td>\n",
       "      <td>-1.435</td>\n",
       "      <td>-1.46</td>\n",
       "      <td>-1.460</td>\n",
       "      <td>-1.485</td>\n",
       "      <td>...</td>\n",
       "      <td>-0.945</td>\n",
       "      <td>-0.935</td>\n",
       "      <td>-0.895</td>\n",
       "      <td>-0.895</td>\n",
       "      <td>-0.885</td>\n",
       "      <td>-0.875</td>\n",
       "      <td>-0.875</td>\n",
       "      <td>-0.870</td>\n",
       "      <td>-0.865</td>\n",
       "      <td>-0.860</td>\n",
       "    </tr>\n",
       "    <tr>\n",
       "      <th>35749</th>\n",
       "      <td>-0.920</td>\n",
       "      <td>-0.910</td>\n",
       "      <td>-0.905</td>\n",
       "      <td>-0.895</td>\n",
       "      <td>-0.870</td>\n",
       "      <td>-0.880</td>\n",
       "      <td>-0.900</td>\n",
       "      <td>-0.90</td>\n",
       "      <td>-0.905</td>\n",
       "      <td>-0.905</td>\n",
       "      <td>...</td>\n",
       "      <td>-0.825</td>\n",
       "      <td>-0.810</td>\n",
       "      <td>-0.805</td>\n",
       "      <td>-0.800</td>\n",
       "      <td>-0.815</td>\n",
       "      <td>-0.820</td>\n",
       "      <td>-0.820</td>\n",
       "      <td>-0.815</td>\n",
       "      <td>-0.820</td>\n",
       "      <td>-0.825</td>\n",
       "    </tr>\n",
       "    <tr>\n",
       "      <th>96921</th>\n",
       "      <td>-0.405</td>\n",
       "      <td>-0.455</td>\n",
       "      <td>-0.455</td>\n",
       "      <td>-0.445</td>\n",
       "      <td>-0.410</td>\n",
       "      <td>-0.380</td>\n",
       "      <td>-0.345</td>\n",
       "      <td>-0.32</td>\n",
       "      <td>-0.260</td>\n",
       "      <td>-0.215</td>\n",
       "      <td>...</td>\n",
       "      <td>-0.280</td>\n",
       "      <td>-0.280</td>\n",
       "      <td>-0.265</td>\n",
       "      <td>-0.270</td>\n",
       "      <td>-0.260</td>\n",
       "      <td>-0.285</td>\n",
       "      <td>-0.275</td>\n",
       "      <td>-0.275</td>\n",
       "      <td>-0.265</td>\n",
       "      <td>-0.255</td>\n",
       "    </tr>\n",
       "    <tr>\n",
       "      <th>63295</th>\n",
       "      <td>1.245</td>\n",
       "      <td>1.265</td>\n",
       "      <td>1.235</td>\n",
       "      <td>1.135</td>\n",
       "      <td>0.985</td>\n",
       "      <td>0.760</td>\n",
       "      <td>0.485</td>\n",
       "      <td>0.25</td>\n",
       "      <td>0.045</td>\n",
       "      <td>-0.115</td>\n",
       "      <td>...</td>\n",
       "      <td>-0.345</td>\n",
       "      <td>-0.325</td>\n",
       "      <td>-0.320</td>\n",
       "      <td>-0.325</td>\n",
       "      <td>-0.335</td>\n",
       "      <td>-0.370</td>\n",
       "      <td>-0.360</td>\n",
       "      <td>-0.350</td>\n",
       "      <td>-0.335</td>\n",
       "      <td>-0.340</td>\n",
       "    </tr>\n",
       "    <tr>\n",
       "      <th>80479</th>\n",
       "      <td>-0.260</td>\n",
       "      <td>-0.240</td>\n",
       "      <td>-0.240</td>\n",
       "      <td>-0.270</td>\n",
       "      <td>-0.285</td>\n",
       "      <td>-0.280</td>\n",
       "      <td>-0.270</td>\n",
       "      <td>-0.26</td>\n",
       "      <td>-0.255</td>\n",
       "      <td>-0.270</td>\n",
       "      <td>...</td>\n",
       "      <td>0.135</td>\n",
       "      <td>0.110</td>\n",
       "      <td>0.085</td>\n",
       "      <td>0.055</td>\n",
       "      <td>0.025</td>\n",
       "      <td>0.005</td>\n",
       "      <td>-0.035</td>\n",
       "      <td>-0.070</td>\n",
       "      <td>-0.070</td>\n",
       "      <td>-0.095</td>\n",
       "    </tr>\n",
       "  </tbody>\n",
       "</table>\n",
       "<p>5 rows × 2160 columns</p>\n",
       "</div>"
      ],
      "text/plain": [
       "        0      1      2      3      4      5      6     7      8      9     \\\n",
       "39859 -1.365 -1.365 -1.365 -1.385 -1.395 -1.415 -1.435 -1.46 -1.460 -1.485   \n",
       "35749 -0.920 -0.910 -0.905 -0.895 -0.870 -0.880 -0.900 -0.90 -0.905 -0.905   \n",
       "96921 -0.405 -0.455 -0.455 -0.445 -0.410 -0.380 -0.345 -0.32 -0.260 -0.215   \n",
       "63295  1.245  1.265  1.235  1.135  0.985  0.760  0.485  0.25  0.045 -0.115   \n",
       "80479 -0.260 -0.240 -0.240 -0.270 -0.285 -0.280 -0.270 -0.26 -0.255 -0.270   \n",
       "\n",
       "       ...   2150   2151   2152   2153   2154   2155   2156   2157   2158  \\\n",
       "39859  ... -0.945 -0.935 -0.895 -0.895 -0.885 -0.875 -0.875 -0.870 -0.865   \n",
       "35749  ... -0.825 -0.810 -0.805 -0.800 -0.815 -0.820 -0.820 -0.815 -0.820   \n",
       "96921  ... -0.280 -0.280 -0.265 -0.270 -0.260 -0.285 -0.275 -0.275 -0.265   \n",
       "63295  ... -0.345 -0.325 -0.320 -0.325 -0.335 -0.370 -0.360 -0.350 -0.335   \n",
       "80479  ...  0.135  0.110  0.085  0.055  0.025  0.005 -0.035 -0.070 -0.070   \n",
       "\n",
       "        2159  \n",
       "39859 -0.860  \n",
       "35749 -0.825  \n",
       "96921 -0.255  \n",
       "63295 -0.340  \n",
       "80479 -0.095  \n",
       "\n",
       "[5 rows x 2160 columns]"
      ]
     },
     "execution_count": 39,
     "metadata": {},
     "output_type": "execute_result"
    }
   ],
   "source": [
    "X_train.head()"
   ]
  },
  {
   "cell_type": "code",
   "execution_count": 40,
   "metadata": {},
   "outputs": [
    {
     "data": {
      "text/html": [
       "<div>\n",
       "<style scoped>\n",
       "    .dataframe tbody tr th:only-of-type {\n",
       "        vertical-align: middle;\n",
       "    }\n",
       "\n",
       "    .dataframe tbody tr th {\n",
       "        vertical-align: top;\n",
       "    }\n",
       "\n",
       "    .dataframe thead th {\n",
       "        text-align: right;\n",
       "    }\n",
       "</style>\n",
       "<table border=\"1\" class=\"dataframe\">\n",
       "  <thead>\n",
       "    <tr style=\"text-align: right;\">\n",
       "      <th></th>\n",
       "      <th>0</th>\n",
       "    </tr>\n",
       "  </thead>\n",
       "  <tbody>\n",
       "    <tr>\n",
       "      <th>39859</th>\n",
       "      <td>0.0</td>\n",
       "    </tr>\n",
       "    <tr>\n",
       "      <th>35749</th>\n",
       "      <td>0.0</td>\n",
       "    </tr>\n",
       "    <tr>\n",
       "      <th>96921</th>\n",
       "      <td>0.0</td>\n",
       "    </tr>\n",
       "    <tr>\n",
       "      <th>63295</th>\n",
       "      <td>0.0</td>\n",
       "    </tr>\n",
       "    <tr>\n",
       "      <th>80479</th>\n",
       "      <td>0.0</td>\n",
       "    </tr>\n",
       "  </tbody>\n",
       "</table>\n",
       "</div>"
      ],
      "text/plain": [
       "         0\n",
       "39859  0.0\n",
       "35749  0.0\n",
       "96921  0.0\n",
       "63295  0.0\n",
       "80479  0.0"
      ]
     },
     "execution_count": 40,
     "metadata": {},
     "output_type": "execute_result"
    }
   ],
   "source": [
    "Y_train.head()"
   ]
  },
  {
   "cell_type": "markdown",
   "metadata": {},
   "source": [
    "Some of the keras / tensor flow modeling things require np arrays, other aspects of exploring and plotting are easier with dataaframes, so maintaining both."
   ]
  },
  {
   "cell_type": "code",
   "execution_count": null,
   "metadata": {},
   "outputs": [],
   "source": [
    "#X_train_df=pd.DataFrame(X_train)\n",
    "#X_validate_df=pd.DataFrame(X_validate)\n",
    "#X_test_df=pd.DataFrame(X_test)\n",
    "\n",
    "#Y_train_df=pd.DataFrame(Y_train)\n",
    "#Y_validate_df=pd.DataFrame(Y_validate)\n",
    "#Y_test_df=pd.DataFrame(Y_test)\n",
    "\n",
    "#sym_train_df=pd.DataFrame(sym_train)\n",
    "#sym_validate_df=pd.DataFrame(sym_validate)\n",
    "#s.ym_test_df=pd.DataFrame(sym_test)"
   ]
  },
  {
   "cell_type": "code",
   "execution_count": 41,
   "metadata": {},
   "outputs": [
    {
     "name": "stdout",
     "output_type": "stream",
     "text": [
      "(78551, 1)\n",
      "(19638, 1)\n",
      "(10910, 1)\n"
     ]
    }
   ],
   "source": [
    "print(Y_train.shape)\n",
    "print(Y_validate.shape)\n",
    "print(Y_test.shape)"
   ]
  },
  {
   "cell_type": "code",
   "execution_count": null,
   "metadata": {},
   "outputs": [],
   "source": [
    "#X_train.to_csv('X_train.csv')\n",
    "#X_validate.to_csv('X_validate.csv')\n",
    "#X_test.to_csv('X_test.csv')"
   ]
  },
  {
   "cell_type": "code",
   "execution_count": null,
   "metadata": {},
   "outputs": [],
   "source": [
    "#Y_train.to_csv('Y_train.csv')\n",
    "#Y_validate.to_csv('Y_validate.csv')\n",
    "#Y_test.to_csv('Y_test.csv')"
   ]
  },
  {
   "cell_type": "code",
   "execution_count": null,
   "metadata": {},
   "outputs": [],
   "source": [
    "#sym_train.to_csv('sym_train.csv')\n",
    "#sym_validate.to_csv('sym_validate.csv')\n",
    "#sym_test.to_csv('sym_test.csv')"
   ]
  },
  {
   "cell_type": "code",
   "execution_count": 42,
   "metadata": {},
   "outputs": [
    {
     "data": {
      "text/html": [
       "<div>\n",
       "<style scoped>\n",
       "    .dataframe tbody tr th:only-of-type {\n",
       "        vertical-align: middle;\n",
       "    }\n",
       "\n",
       "    .dataframe tbody tr th {\n",
       "        vertical-align: top;\n",
       "    }\n",
       "\n",
       "    .dataframe thead th {\n",
       "        text-align: right;\n",
       "    }\n",
       "</style>\n",
       "<table border=\"1\" class=\"dataframe\">\n",
       "  <thead>\n",
       "    <tr style=\"text-align: right;\">\n",
       "      <th></th>\n",
       "      <th>0</th>\n",
       "    </tr>\n",
       "  </thead>\n",
       "  <tbody>\n",
       "    <tr>\n",
       "      <th>0</th>\n",
       "      <td>0.0</td>\n",
       "    </tr>\n",
       "    <tr>\n",
       "      <th>1</th>\n",
       "      <td>0.0</td>\n",
       "    </tr>\n",
       "    <tr>\n",
       "      <th>2</th>\n",
       "      <td>0.0</td>\n",
       "    </tr>\n",
       "    <tr>\n",
       "      <th>3</th>\n",
       "      <td>1.0</td>\n",
       "    </tr>\n",
       "    <tr>\n",
       "      <th>4</th>\n",
       "      <td>0.0</td>\n",
       "    </tr>\n",
       "  </tbody>\n",
       "</table>\n",
       "</div>"
      ],
      "text/plain": [
       "     0\n",
       "0  0.0\n",
       "1  0.0\n",
       "2  0.0\n",
       "3  1.0\n",
       "4  0.0"
      ]
     },
     "execution_count": 42,
     "metadata": {},
     "output_type": "execute_result"
    }
   ],
   "source": [
    "Y_all.head()"
   ]
  },
  {
   "cell_type": "code",
   "execution_count": 43,
   "metadata": {},
   "outputs": [
    {
     "data": {
      "text/html": [
       "<div>\n",
       "<style scoped>\n",
       "    .dataframe tbody tr th:only-of-type {\n",
       "        vertical-align: middle;\n",
       "    }\n",
       "\n",
       "    .dataframe tbody tr th {\n",
       "        vertical-align: top;\n",
       "    }\n",
       "\n",
       "    .dataframe thead th {\n",
       "        text-align: right;\n",
       "    }\n",
       "</style>\n",
       "<table border=\"1\" class=\"dataframe\">\n",
       "  <thead>\n",
       "    <tr style=\"text-align: right;\">\n",
       "      <th></th>\n",
       "      <th>0</th>\n",
       "    </tr>\n",
       "  </thead>\n",
       "  <tbody>\n",
       "    <tr>\n",
       "      <th>0</th>\n",
       "      <td>N</td>\n",
       "    </tr>\n",
       "    <tr>\n",
       "      <th>1</th>\n",
       "      <td>N</td>\n",
       "    </tr>\n",
       "    <tr>\n",
       "      <th>2</th>\n",
       "      <td>N</td>\n",
       "    </tr>\n",
       "    <tr>\n",
       "      <th>3</th>\n",
       "      <td>A</td>\n",
       "    </tr>\n",
       "    <tr>\n",
       "      <th>4</th>\n",
       "      <td>N</td>\n",
       "    </tr>\n",
       "  </tbody>\n",
       "</table>\n",
       "</div>"
      ],
      "text/plain": [
       "   0\n",
       "0  N\n",
       "1  N\n",
       "2  N\n",
       "3  A\n",
       "4  N"
      ]
     },
     "execution_count": 43,
     "metadata": {},
     "output_type": "execute_result"
    }
   ],
   "source": [
    "sym_all.head()"
   ]
  },
  {
   "cell_type": "markdown",
   "metadata": {},
   "source": [
    "Concatenate the Y_train target back on the X_train datasets so I can segregate normal / abnormal for exploration"
   ]
  },
  {
   "cell_type": "code",
   "execution_count": null,
   "metadata": {},
   "outputs": [],
   "source": [
    "X_explore_df = X_train\n",
    "X_explore_df['abnormal']=Y_train\n",
    "X_explore_df['sym']=sym_train\n"
   ]
  },
  {
   "cell_type": "code",
   "execution_count": null,
   "metadata": {},
   "outputs": [],
   "source": [
    "X_explore_df.sample(25)"
   ]
  },
  {
   "cell_type": "code",
   "execution_count": null,
   "metadata": {},
   "outputs": [],
   "source": [
    "X_explore_normal = X_explore_df[X_explore_df.abnormal==0]"
   ]
  },
  {
   "cell_type": "code",
   "execution_count": null,
   "metadata": {},
   "outputs": [],
   "source": [
    "X_explore_normal.shape"
   ]
  },
  {
   "cell_type": "code",
   "execution_count": null,
   "metadata": {},
   "outputs": [],
   "source": [
    "X_explore_abnormal = X_explore_df[X_explore_df.abnormal==1]"
   ]
  },
  {
   "cell_type": "code",
   "execution_count": null,
   "metadata": {},
   "outputs": [],
   "source": [
    "X_explore_abnormal.shape"
   ]
  },
  {
   "cell_type": "markdown",
   "metadata": {},
   "source": [
    "Look at individual traces"
   ]
  },
  {
   "cell_type": "markdown",
   "metadata": {},
   "source": [
    "Three sample normal"
   ]
  },
  {
   "cell_type": "code",
   "execution_count": null,
   "metadata": {},
   "outputs": [],
   "source": [
    "X_explore_normal.shape"
   ]
  },
  {
   "cell_type": "code",
   "execution_count": null,
   "metadata": {},
   "outputs": [],
   "source": [
    "X_explore_normal.sample(20)"
   ]
  },
  {
   "cell_type": "code",
   "execution_count": null,
   "metadata": {},
   "outputs": [],
   "source": [
    "plt.plot(np.arange(2161), X_explore_normal.iloc[0]);"
   ]
  },
  {
   "cell_type": "code",
   "execution_count": null,
   "metadata": {},
   "outputs": [],
   "source": [
    "plt.plot(np.arange(2161), X_explore_normal.iloc[1]);"
   ]
  },
  {
   "cell_type": "code",
   "execution_count": null,
   "metadata": {},
   "outputs": [],
   "source": [
    "plt.plot(np.arange(2161), X_explore_normal.iloc[2]);"
   ]
  },
  {
   "cell_type": "markdown",
   "metadata": {},
   "source": [
    "3 sample abnormal"
   ]
  },
  {
   "cell_type": "code",
   "execution_count": null,
   "metadata": {},
   "outputs": [],
   "source": [
    "plt.plot(np.arange(2161), X_explore_abnormal.iloc[0]);"
   ]
  },
  {
   "cell_type": "code",
   "execution_count": null,
   "metadata": {},
   "outputs": [],
   "source": [
    "plt.plot(np.arange(2161), X_explore_abnormal.iloc[1]);"
   ]
  },
  {
   "cell_type": "code",
   "execution_count": null,
   "metadata": {},
   "outputs": [],
   "source": [
    "plt.plot(np.arange(2161), X_explore_abnormal.iloc[2]);"
   ]
  },
  {
   "cell_type": "markdown",
   "metadata": {},
   "source": [
    "---"
   ]
  },
  {
   "cell_type": "markdown",
   "metadata": {},
   "source": [
    "### Literature / Curriculum / Research Review\n",
    "\n",
    "- Now that I have my data in a usable format, I need to do some research on time series and anomaly detection in order to get into the modeling phase.\n",
    "\n",
    "**Topics to explore:**\n",
    "- [] Anomaly Detection\n",
    "- [] LSTM Networks - this concept comes up a lot in handling these data\n",
    "- [] Autoencoders\n",
    "- [] CNN? Neural networks are also commonly used for processing these types of data. Will start with other techniques and may get here in a subsequent iteration"
   ]
  },
  {
   "cell_type": "markdown",
   "metadata": {},
   "source": [
    "### Anomaly Detection\n",
    "\n",
    "- Task of determining when something has gone astray from the norm. \n",
    "  - Neural networks are used for unsupervised learning (I do have labels, so I should take advantage of those)\n",
    "  - Basically just learns the normal behavior and anything that isn't that gets labeled as an anomaly.\n",
    "  - i.e., autoencoder deep learning neural network"
   ]
  },
  {
   "cell_type": "markdown",
   "metadata": {},
   "source": [
    "### LSTM Networks\n",
    "\n",
    "- Long Short-Term Memory neural network cells in autoencoder. \n",
    "- Subset of recurrent neural networks (RNN).\n",
    "- Training data persists in network for use later   \n",
    "  - Well-suited for temporal data that evolves over time\n",
    "- Common applications include:\n",
    "  - Speech recognition\n",
    "  - Text translation\n",
    "  - Analysis of sequential sensor readings for anomaly detection"
   ]
  },
  {
   "cell_type": "markdown",
   "metadata": {},
   "source": [
    "### Recurrent Neural Networks (2)\n",
    "\n",
    "- Networks with loops in them allowing information to persist.\n",
    "- Able to use \"reasoning\" about previous events to make decisions.\n",
    "\n",
    "![RNN](images/RNN1.png)\n",
    "**Recurring Neural Networks have loops**\n",
    "\n",
    "These loops can be thought of as multiple copies of the same network\n",
    "\n",
    "![RNN unwound](images/RNN2.png)\n",
    "\n",
    "2. https://colah.github.io/posts/2015-08-Understanding-LSTMs/"
   ]
  },
  {
   "cell_type": "markdown",
   "metadata": {},
   "source": [
    "### Problem of Long-Term Dependencies"
   ]
  },
  {
   "cell_type": "markdown",
   "metadata": {},
   "source": [
    "- Appeal of RNN is to connect previous information to the present task.\n",
    "- Sometimes we only need to look at recent information. i.e., language model trying to predict the next word based on previous ones. If trying to predict \"the clouds are in the ___\" we don't need any further context - small gap between relevant information and the place it is needed.\n",
    "  \n",
    "  ![RNN-short-dependencies](images/RNN3.png)\n",
    "\n",
    "- Other times, more context is needed. \"I grew up in France...I speak fluent ____\" Recent information suggest the name of a language for the answer, but to get which language more context from earlier is needed. The gab between the relevant information and the point it is needed can be quite large. \n",
    "\n",
    "![RNN-long-dependencies](images/RNN4.png)\n",
    "\n",
    "- RNNs struggle as that gap grows.\n",
    "- RNNs theoretically capable of hangling such long dependencies, but fail to do so in practice. LTSMs don't have this problem"
   ]
  },
  {
   "cell_type": "markdown",
   "metadata": {},
   "source": [
    "### LSTM Networks\n",
    "\n",
    "- Special kind of RNN capable of learning long-term dependencies\n",
    "- Explicitly designed to avoid long-term dependency problem. Remembering information for long periods of time is their default behavior, not something they struggle to learn.\n",
    "- Standard RNN:\n",
    "\n",
    "![RNN-standard-single-layer](images/RNN4.png)\n",
    "\n",
    "- LSTM module has 4 interacting layers\n",
    "\n",
    "![LSTM](images/LSTM1.png)\n",
    "\n",
    "![LSTM-layers](images/LSTM2.png)\n",
    "\n",
    "#### Core Concept\n",
    "\n",
    "- **Cell State:** Horizontal line running through the top of the diagram.\n",
    "- Kind of like a conveyor belt - straight down the entire chain with only minor interactions. Easy for information to flow along unchanged.\n",
    "- There is the ability to remove or add information to the cell state, but it is carefully regulated by gates which let ingotmation through\n",
    "  - Composed of sigmoid layers and pointwise multiplication:\n",
    "    - 0 - let nothing through\n",
    "    - 1 - let everything through\n",
    "  - LSTM has three of these gates to protect and control the cell state.\n",
    "  \n",
    "![LSTM-gate](images/gate.png)\n"
   ]
  },
  {
   "cell_type": "markdown",
   "metadata": {},
   "source": [
    "### LSTM: Step by step\n",
    "\n",
    "1. Decide that information we are going to throw away from the cell state\n",
    "   - \"Forget gate layer\" outputs a number between 0 and 1 keep / get rid of\n",
    "2. Decide what new information to store\n",
    "    1. \"Input gate layer\" decides which values to update\n",
    "    2. Tanh layer creates vector of new candidate values that could be added to the state\n",
    "3. Update cell state\n",
    "    - Forget what decided to forget\n",
    "    - Add scaled candidate values\n",
    "4. Decide output based on cell state\n",
    "\n",
    "https://colah.github.io/posts/2015-08-Understanding-LSTMs/"
   ]
  },
  {
   "cell_type": "markdown",
   "metadata": {},
   "source": [
    "---"
   ]
  },
  {
   "cell_type": "markdown",
   "metadata": {},
   "source": [
    "### Review Codeup Curriculum on Anomaly Detection"
   ]
  },
  {
   "cell_type": "markdown",
   "metadata": {},
   "source": [
    "- Practice of identifying data points, items, observations, or events that do not conform to the expected pattern of a given group\n",
    "\n",
    "#### What are Anomalies?\n",
    "\n",
    "- **Anomaly**: Unusual, unexpected, surprising patterns in the observed rule. An anomalous data point is a deviation from a rule or from what is regarded as normal; an outlier. An anomaly is any event or measurement that is out of the ordinary regardless of whether it is exceptional or not.\n",
    "\n",
    "\n",
    "- **Outlier**: An outlier is an observation that lies an abnormal distance from other values in a random sample from a population. In a sense, this definition leaves it up to the analyst (or a consensus process) to decide what will be considered abnormal. Before abnormal observations can be singled out, it is necessary to characterize normal observations.\n",
    "\n",
    "\n",
    "- These terms are frequently used interchangeably.\n",
    "\n",
    "\n",
    "- In some cases, statisticians sometimes use the term 'outlier' to mean \"something I should remove from the dataset so that it doesn't skew my model I'm building\".\n",
    "\n",
    "\n",
    "- In other cases, we may reserve the word 'anomaly' for data points we want to keep because they are valuable if caught or costly if missed. It's also possible to have an anomaly that is an inlier, meaning that the data is anomalous in nature but is close (in distance) to the mean, mode, or expected grouping(s)."
   ]
  },
  {
   "cell_type": "markdown",
   "metadata": {},
   "source": [
    "<h2 id=\"examples-of-anomaly-detection-in-data-science\">Examples  of Anomaly Detection in Data Science</h2>\n",
    "<ul>\n",
    "<li>Fraud detection for financial companies</li>\n",
    "<li>Medical scans like XRays, ultrasounds, and MRIs seeking abnormalities in location, density, growth, etc..</li>\n",
    "<li>Detecting and preventing cyber-crime</li>\n",
    "<li>Malware detection</li>\n",
    "<li>Intelligence and Defense applications</li>\n",
    "<li>Analytical Marketing looking for new trends in business or household purchases</li>\n",
    "</ul>"
   ]
  },
  {
   "cell_type": "markdown",
   "metadata": {},
   "source": [
    "<h2 id=\"the-best-way-to-detect-anomalies-is-to-know-your-domain\">The <strong>best</strong> way to detect anomalies is to <em>know your domain</em></h2>\n",
    "<ul>\n",
    "<li>For example, knowing that there is nothing colder than absolute zero degrees Kelvin informs how we approach an observation below 0 degrees Kelvin. It may mean that there is something wrong with the measuring tool or a clerical error like a typo (more likely).</li>\n",
    "<li>What determines if a data point is an outlier is a function of <strong>who</strong> determines if that data point is anomalous and <strong>why</strong>. </li>\n",
    "<li>One person's noise is another person's signal, depending on their goals and the costs and benefits to be gained/avoided from identifying that data point.<ul>\n",
    "<li>To one analyst aiming for a clean model of 50/50 chance, observing a flipped coin that lands exactly on its side is an anomaly may be noise that they should ignore from their model. </li>\n",
    "<li>To another practitioner, the anomaly may be an observation of very high value that they want to catch, like early detection of a rare disease. </li>\n",
    "</ul>\n",
    "</li>\n",
    "<li>Recall the <a href=\"https://www.itl.nist.gov/div898/handbook/prc/section1/prc16.htm\">e-Handbook of Statistical Methods</a> definition an outlier: \"an observation that lies an abnormal distance from other values in a random sample from a population. <em>In a sense, this definition leaves it up to the analyst (or a consensus process) to decide what will be considered abnormal\"</em>. </li>\n",
    "<li>It's important to define the criteria, the decision rule, for what makes an observation an inlier or an outlier.</li>\n",
    "<li>Usually, the deciding factor is cost/benefit analysis:<ul>\n",
    "<li>Is our goal to hunt for anomalies at all costs because lives are on the line?</li>\n",
    "<li>Or do we do more good for people by producing a model that treats outliers as noise?</li>\n",
    "<li>What is the cost of a false positive or a false negative?</li>\n",
    "<li>What is the benefit of a true positive or a true negative?</li>\n",
    "</ul>\n",
    "</li>\n",
    "</ul>"
   ]
  },
  {
   "cell_type": "markdown",
   "metadata": {},
   "source": [
    "<h2 id=\"outliers-may-contain-important-information\">Outliers may contain important information</h2>\n",
    "<p>Outliers should be investigated carefully. </p>\n",
    "<p>Often they contain valuable information about the process under investigation or the data gathering and recording process. Before considering the possible elimination of these points from the data, one should try to understand why they appeared and whether it is likely similar values will continue to appear. Of course, outliers are often bad data points.</p>\n"
   ]
  },
  {
   "cell_type": "markdown",
   "metadata": {},
   "source": [
    "<h2 id=\"types-of-anomalies\">Types of Anomalies</h2>\n",
    "<ul>\n",
    "<li>\n",
    "<p><strong>Use Cases:</strong> Response times (longer than usual), error rates (more than usual), network load, cyber intrusions, fraud.</p>\n",
    "</li>\n",
    "<li>\n",
    "<p><strong>Point Anomalies:</strong>  A single instance of data is anomalous if it's too far off from the rest. For example, detecting data exfiltration based on gigabytes leaving the network, detecting credit card fraud based on \"amount spent\", etc.</p>\n",
    "</li>\n",
    "<li>\n",
    "<p><strong>Contextual Anomalies:</strong> The abnormality is context specific. This type of anomaly is common in time-series data. For example, accessing confidential files during work hours is normal, but in the middle of the night is odd.</p>\n",
    "</li>\n",
    "<li>\n",
    "<p><strong>Collective Anomalies:</strong>  A set of data instances collectively helps in detecting anomalies. For example, someone is trying to copy data form a remote machine to a local host unexpectedly, an anomaly that would be flagged as a potential cyber attack. The combination of the event from the remote machine and the event from the local host combine to detect the anomaly.</p>\n",
    "</li>\n",
    "<li>\n",
    "<p><strong>Anomalies vs. Noise Removal vs. Novelty Detection:</strong> Novelty detection is concerned with identifying an unobserved pattern in new observations not included in training data — for instance, a sudden interest in a new channel on YouTube during Christmas. Noise Removal (NR) is the process of immunizing analysis from the occurrence of unwanted observations; in other words, removing noise from an otherwise meaningful signal.</p>\n",
    "</li>\n",
    "</ul>\n",
    "<p>https://www.datascience.com/blog/python-anomaly-detection</p>"
   ]
  },
  {
   "cell_type": "markdown",
   "metadata": {},
   "source": [
    "<h2 id=\"specific-techniques-for-identifyingdetecting-anomalies\">Specific Techniques for Identifying/Detecting Anomalies</h2>\n",
    "<h3 id=\"statistical-methods\">Statistical Methods</h3>\n",
    "<ul>\n",
    "<li>\n",
    "<p>Flag the data points that deviate from the expected, based on the statistical properties, such as mean, median, mode, and quantiles. </p>\n",
    "</li>\n",
    "<li>\n",
    "<p>You could define an anomalous data point as one that deviates by a certain standard deviation from the mean. </p>\n",
    "</li>\n",
    "<li>\n",
    "<p>You could use a simple or exponential moving average to smooth short-term fluctuations and highlight long-term ones.</p>\n",
    "</li>\n",
    "<li>\n",
    "<p>This method is challenging with really noisy data. </p>\n",
    "</li>\n",
    "</ul>\n",
    "<h3 id=\"support-vector-machine-isolation-forest-anomaly-detection\">Support Vector Machine &amp; Isolation Forest Anomaly Detection</h3>\n",
    "<ul>\n",
    "<li>\n",
    "<p>There are extensions to the supervised technique, such as OneClassSVM, that can be used to identify anomalies as an unsupervised problems (in which training data are not labeled).</p>\n",
    "</li>\n",
    "<li>\n",
    "<p>The algorithm learns a soft boundary in order to cluster the normal data instances using the training set, and then, using the testing instance, it tunes itself to identify the abnormalities that fall outside the learned region.</p>\n",
    "</li>\n",
    "</ul>\n",
    "<h3 id=\"clustering-based-anomaly-detection\">Clustering-Based Anomaly Detection</h3>\n",
    "<ul>\n",
    "<li>\n",
    "<p>Assumption: Data points that are similar tend to belong to similar groups or clusters, as determined by their distance from local centroids.</p>\n",
    "</li>\n",
    "<li>\n",
    "<p>K-means creates 'k' similar clusters of data points. Data instances that fall into abnormally small clusters could potentially be marked as anomalies.</p>\n",
    "</li>\n",
    "<li>\n",
    "<p>Using density based clustering, like DBSCAN, we can design the model such that the data points that do not fall into a cluster are the anomalies.</p>\n",
    "</li>\n",
    "</ul>\n",
    "<h3 id=\"density-based-anomaly-detection\">Density-Based Anomaly Detection</h3>\n",
    "<ul>\n",
    "<li>\n",
    "<p>Assumption: Normal data points occur around a dense neighborhood and abnormalities are far away.</p>\n",
    "</li>\n",
    "<li>\n",
    "<p>The nearest set of data points are evaluated using a score, using one of two algorithms:</p>\n",
    "<ul>\n",
    "<li>KNN: K-Nearest Neighbor</li>\n",
    "<li>LOF: Local Outlier Factor, aka the relative density of data which is based on the reachability distance.</li>\n",
    "</ul>\n",
    "</li>\n",
    "</ul>"
   ]
  },
  {
   "cell_type": "markdown",
   "metadata": {},
   "source": [
    "<h2 id=\"remember\">Remember</h2>\n",
    "<ul>\n",
    "<li>There is not a magic algorithm that takes away our responsibility to think clearly and critically about <em>why</em> an observation is anomalous.</li>\n",
    "<li>There are no hard fast rules for whether or not an outlier should be ignored or investigated.</li>\n",
    "<li>The answer is \"it depends\", and the important part is identifying what that depends on, specifically.</li>\n",
    "</ul>"
   ]
  },
  {
   "cell_type": "markdown",
   "metadata": {},
   "source": [
    "<h2 id=\"further-resources\">Further Resources</h2>\n",
    "<ul>\n",
    "<li><a href=\"https://www.youtube.com/watch?v=086OcT-5DYI\">Video overview of anomaly detection from Andrew Ng</a></li>\n",
    "<li><a href=\"https://scikit-learn.org/stable/modules/outlier_detection.html\">SKLearn Examples of Outlier Detection</a></li>\n",
    "<li>Additional <a href=\"https://github.com/yzhao062/anomaly-detection-resources\">Anomaly Detection Resources</a></li>\n",
    "<li><a href=\"https://github.com/yzhao062/pyod\">Python Toolbox for Scalable Outlier Detection</a></li>\n",
    "</ul>"
   ]
  },
  {
   "cell_type": "markdown",
   "metadata": {},
   "source": [
    "---"
   ]
  },
  {
   "cell_type": "markdown",
   "metadata": {},
   "source": [
    "Doesn't appear to be any LSTM / CNN resources in the curriculum or appendix, so - back to the web!"
   ]
  },
  {
   "cell_type": "markdown",
   "metadata": {},
   "source": [
    "### Time Series Prediction with LSTM Recurrent Neural Networks in Python with Keras\n",
    "\n",
    "https://machinelearningmastery.com/time-series-prediction-lstm-recurrent-neural-networks-python-keras/\n",
    "\n"
   ]
  },
  {
   "cell_type": "markdown",
   "metadata": {},
   "source": [
    "- Discover how to develop LSTM networks in Python using the Keras deep learning library to address a demonstration time-series prediction problem.\n",
    "- "
   ]
  },
  {
   "cell_type": "markdown",
   "metadata": {},
   "source": [
    "---"
   ]
  },
  {
   "cell_type": "code",
   "execution_count": null,
   "metadata": {},
   "outputs": [],
   "source": [
    "#!keras --version"
   ]
  },
  {
   "cell_type": "code",
   "execution_count": null,
   "metadata": {},
   "outputs": [],
   "source": [
    "# from keras.layers import Bidirectional, LSTM\n"
   ]
  },
  {
   "cell_type": "code",
   "execution_count": null,
   "metadata": {},
   "outputs": [],
   "source": [
    "# from keras.models import Sequential\n",
    "#from keras.layers import Dense, Flatten, Dropout\n",
    "#from keras.utils import to_categorical"
   ]
  },
  {
   "cell_type": "code",
   "execution_count": null,
   "metadata": {},
   "outputs": [],
   "source": [
    "# reshape input to be [samples, time steps, features = 1]\n",
    "#X_train_cnn = np.reshape(X_train, (X_train.shape[0], X_train.shape[1], 1))\n",
    "#X_valid_cnn = np.reshape(X_valid, (X_valid.shape[0], X_valid.shape[1], 1))\n",
    "\n",
    "#print(X_train_cnn.shape)\n",
    "#print(X_valid_cnn.shape)"
   ]
  },
  {
   "cell_type": "code",
   "execution_count": null,
   "metadata": {},
   "outputs": [],
   "source": [
    "#model = Sequential()\n",
    "#model.add(Bidirectional(LSTM(64, input_shape=(X_train_cnn.shape[1], X_train_cnn.shape[2]))))\n",
    "#model.add(Dropout(rate = 0.25))\n",
    "#model.add(Dense(1, activation = 'sigmoid'))\n",
    "#model.compile(\n",
    "#                loss = 'binary_crossentropy',\n",
    "#                optimizer = 'adam',\n",
    "#                metrics = ['accuracy'])\n"
   ]
  },
  {
   "cell_type": "markdown",
   "metadata": {},
   "source": [
    "---"
   ]
  },
  {
   "cell_type": "markdown",
   "metadata": {},
   "source": [
    "So, something about keras was breaking my Jypyter kernel. And, the LSTM modeling was more involved than I anticipated it being, so... I am shifting gears and focus to do random forrest classification of these data using the labeled traces.\n",
    "\n",
    "Previously, I was maintaining parallel numpy arrays and dataframes for my data since different things I was doing eat either one (likely an unnecessary step as I could intervonvert from one to the other as needed simply, but oh well).\n",
    "\n",
    "Before proceeding with Random Forrest modeling, I will verify my X/Y train / validate/ test dataframes appear as they should"
   ]
  },
  {
   "cell_type": "code",
   "execution_count": null,
   "metadata": {},
   "outputs": [],
   "source": [
    "X_train.sample(20)"
   ]
  },
  {
   "cell_type": "markdown",
   "metadata": {},
   "source": [
    "It does have the target, wich it should not"
   ]
  },
  {
   "cell_type": "code",
   "execution_count": null,
   "metadata": {},
   "outputs": [],
   "source": [
    "Y_train"
   ]
  },
  {
   "cell_type": "code",
   "execution_count": null,
   "metadata": {},
   "outputs": [],
   "source": [
    "print(X_train.shape)"
   ]
  },
  {
   "cell_type": "code",
   "execution_count": null,
   "metadata": {},
   "outputs": [],
   "source": [
    "Y_train.shape"
   ]
  },
  {
   "cell_type": "markdown",
   "metadata": {},
   "source": [
    "It is no longer neccessary to have the np arrays, so I will just overwrite them with the dataframes to have X_train instead of X_train_df, since some of my other modeling and evaluation functions are already written with these variables."
   ]
  },
  {
   "cell_type": "code",
   "execution_count": 44,
   "metadata": {},
   "outputs": [
    {
     "name": "stdout",
     "output_type": "stream",
     "text": [
      "(78551, 2160)\n",
      "(19638, 2160)\n",
      "(10910, 2160)\n",
      "\n",
      "(78551, 1)\n",
      "(19638, 1)\n",
      "(10910, 1)\n",
      "\n",
      "(78551, 1)\n",
      "(19638, 1)\n",
      "(10910, 1)\n"
     ]
    }
   ],
   "source": [
    "print(X_train.shape)\n",
    "print(X_validate.shape)\n",
    "print(X_test.shape)\n",
    "print()\n",
    "print(Y_train.shape)\n",
    "print(Y_validate.shape)\n",
    "print(Y_test.shape)\n",
    "print()\n",
    "print(sym_train.shape)\n",
    "print(sym_validate.shape)\n",
    "print(sym_test.shape)"
   ]
  },
  {
   "cell_type": "markdown",
   "metadata": {},
   "source": [
    "Okay... have my data split. On to modeling"
   ]
  },
  {
   "cell_type": "markdown",
   "metadata": {},
   "source": [
    "---"
   ]
  },
  {
   "cell_type": "markdown",
   "metadata": {},
   "source": [
    "## Modeling"
   ]
  },
  {
   "cell_type": "markdown",
   "metadata": {},
   "source": [
    "As mentioned above, the state of the art for modeling these data is using neural networks, specifically the LSTM subset of RNNs. I will revisit this as a future direction. \n",
    "\n",
    "In the absence of neural networks, random forrest classifiers often perform the best of the simpler techniques. Will make and tune multiple random forrest models and try the lazy classifier as well"
   ]
  },
  {
   "cell_type": "code",
   "execution_count": null,
   "metadata": {},
   "outputs": [],
   "source": [
    "#from lazypredict.Supervised import LazyClassifier, LazyRegressor\n"
   ]
  }
 ],
 "metadata": {
  "interpreter": {
   "hash": "38cca0c38332a56087b24af0bc80247f4fced29cb4f7f437d91dc159adec9c4e"
  },
  "kernelspec": {
   "display_name": "Python 3 (ipykernel)",
   "language": "python",
   "name": "python3"
  },
  "language_info": {
   "codemirror_mode": {
    "name": "ipython",
    "version": 3
   },
   "file_extension": ".py",
   "mimetype": "text/x-python",
   "name": "python",
   "nbconvert_exporter": "python",
   "pygments_lexer": "ipython3",
   "version": "3.8.12"
  }
 },
 "nbformat": 4,
 "nbformat_minor": 2
}
