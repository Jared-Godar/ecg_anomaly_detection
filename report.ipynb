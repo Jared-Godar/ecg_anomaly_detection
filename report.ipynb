{
 "cells": [
  {
   "cell_type": "markdown",
   "metadata": {},
   "source": [
    "# Anomaly Detection in Electrocardigram Readings\n",
    "\n",
    "### by Jared Godar"
   ]
  },
  {
   "cell_type": "markdown",
   "metadata": {},
   "source": [
    "![ecg](images/ecg.jpeg)"
   ]
  },
  {
   "cell_type": "markdown",
   "metadata": {},
   "source": [
    "## Introduction\n",
    "\n",
    "Real-world anomaly detection for time series is still a challenging task. This is especially true for periodic or quasi-periodic time series since automated approaches have to learn long-term correlations before they are able to detect anomalies. ECG time series are a prominent, real-world example of quasi-periodic signals (1)."
   ]
  },
  {
   "cell_type": "markdown",
   "metadata": {},
   "source": [
    "Until recently, virtually all ECG measurements took place in a clinical setting. At a doctor's office or hospital, ordered by a medical professional, who would be interpreting the results as or shortly after the data were acquired.\n",
    "\n",
    "![clinic](images/clinic.jpeg)"
   ]
  },
  {
   "cell_type": "markdown",
   "metadata": {},
   "source": [
    "With the emerging trend of wearable fitness devices, for the first time people have the ability to measure their own ECGs at home or anywhere any time.\n",
    "\n",
    "![ecg](images/watch.jpeg)"
   ]
  },
  {
   "cell_type": "markdown",
   "metadata": {},
   "source": [
    "The only thing missing is the clinician to interpret the data and tell you if it is normal or not."
   ]
  },
  {
   "cell_type": "markdown",
   "metadata": {},
   "source": [
    "As these tests are being made more widely available in non-clinical settings, the ability to automatically detect, label, and report abnormal readings appropriately is critical."
   ]
  },
  {
   "cell_type": "markdown",
   "metadata": {},
   "source": [
    "---"
   ]
  },
  {
   "cell_type": "markdown",
   "metadata": {},
   "source": [
    "## Goal"
   ]
  },
  {
   "cell_type": "markdown",
   "metadata": {},
   "source": [
    "The goal of this project is to detect anomalies in ECG signals.\n",
    "\n",
    "I will predict if a heartbeat from an ECG signal is normal or abnormal based on a six-second window centered on the peak of that hearbeat."
   ]
  },
  {
   "cell_type": "markdown",
   "metadata": {},
   "source": [
    "---"
   ]
  },
  {
   "cell_type": "markdown",
   "metadata": {},
   "source": [
    "## Dataset\n",
    "\n",
    "I will use the MIT-Beth Israel Hospital  Arrhythmia Database. The database was the first generally available set of standard test material for evaluation of arrhythmia detectors, and has been used for that purpose as well as for basic research into cardiac dynamics at more than 500 sites worldwide.\n",
    "\n",
    " https://physionet.org/content/mitdb/1.0.0/\n",
    "\n",
    "The MIT-BIH Arrhythmia Database contains 48 half-hour excerpts of two-channel ambulatory ECG recordings, obtained from 47 subjects studied by the BIH Arrhythmia Laboratory between 1975 and 1979. \n",
    "\n",
    "Two or more cardiologists independently annotated each record. Disagreements were resolved to obtain the computer-readable reference annotations for each beat (approximately 110,000 annotations in all) included with the database.\n",
    "\n",
    "The subjects were 25 men aged 32 to 89 years, and 22 women aged 23 to 89 years.\n",
    "\n",
    "Twenty-three recordings were chosen at random from a set of 4000 24-hour ECG recordings. This first group is intended to serve as a representative sample of the variety of waveforms and artifacts that an arrhythmia detector might encounter in routine clinical use. \n",
    "\n",
    "The remaining 25 recordings were selected from the same set to include less common, but clinically significant arrhythmias that would not be well-represented in a small random sample. Records in the second group were chosen to include complex ventricular, junctional, and supraventricular arrhythmias and conduction abnormalities. Several of these records were selected because features of the rhythm, QRS morphology variation, or signal quality may be expected to present significant difficulty to arrhythmia detectors. \n",
    "\n",
    "**NOTE:** *This means these abnormal examples were specifically chosen to be the hardest of the hard for classifiers. The problems these pose for computational biologists have been noted and either celebrated or despised (or both) for decades. Model performance statistics on these data will likely underpreform compared to what one may reasonably expect to encounter in an average, random sample*\n",
    "\n",
    "\n"
   ]
  },
  {
   "cell_type": "markdown",
   "metadata": {},
   "source": [
    "<h3>Symbols used in plots</h3>\n",
    "\n",
    "<p>\n",
    "An expanded and updated version of the table below can be found at\n",
    "<a href=\"/physiobank/annotations.shtml\">\n",
    "<tt>http://www.physionet.org/physiobank/annotations.shtml</tt></a>\n",
    "\n",
    "<p>\n",
    "<table border>\n",
    "<tr><th><i>Symbol</i></th><th><i>Meaning</i></th></tr>\n",
    "<tr><td><b>&middot;</b> <i>or</i> N</td><td>Normal beat</td></tr>\n",
    "<tr><td>L</td><td>Left bundle branch block beat</td></tr>\n",
    "<tr><td>R</td><td>Right bundle branch block beat</td></tr>\n",
    "<tr><td>A</td><td>Atrial premature beat</td></tr>\n",
    "<tr><td>a</td><td>Aberrated atrial premature beat</td></tr>\n",
    "<tr><td>J</td><td>Nodal (junctional) premature beat</td></tr>\n",
    "<tr><td>S</td><td>Supraventricular premature beat</td></tr>\n",
    "<tr><td>V</td><td>Premature ventricular contraction</td></tr>\n",
    "<tr><td>F</td><td>Fusion of ventricular and normal beat</td></tr>\n",
    "<tr><td>[</td><td>Start of ventricular flutter/fibrillation</td></tr>\n",
    "<tr><td>!</td><td>Ventricular flutter wave</td></tr>\n",
    "<tr><td>]</td><td>End of ventricular flutter/fibrillation</td></tr>\n",
    "<tr><td>e</td><td>Atrial escape beat</td></tr>\n",
    "<tr><td>j</td><td>Nodal (junctional) escape beat</td></tr>\n",
    "<tr><td>E</td><td>Ventricular escape beat</td></tr>\n",
    "<tr><td>/</td><td>Paced beat</td></tr>\n",
    "<tr><td>f</td><td>Fusion of paced and normal beat</td></tr>\n",
    "<tr><td>x</td><td>Non-conducted P-wave (blocked APB)</td></tr>\n",
    "<tr><td>Q</td><td>Unclassifiable beat</td></tr>\n",
    "<tr><td>|</td><td>Isolated QRS-like artifact</td></tr>\n",
    "<tr><td colspan=2 align=center>Rhythm annotations appear <i>below</i> the\n",
    "level used for beat annotations:</td></tr>\n",
    "<tr><td>(AB</td><td>Atrial bigeminy</td></tr>\n",
    "<tr><td>(AFIB</td><td>Atrial fibrillation</td></tr>\n",
    "<tr><td>(AFL</td><td>Atrial flutter</td></tr>\n",
    "<tr><td>(B</td><td>Ventricular bigeminy</td></tr>\n",
    "<tr><td>(BII</td><td>2&deg; heart block</td></tr>\n",
    "<tr><td>(IVR</td><td>Idioventricular rhythm</td></tr>\n",
    "<tr><td>(N</td><td>Normal sinus rhythm</td></tr>\n",
    "<tr><td>(NOD</td><td>Nodal (A-V junctional) rhythm</td></tr>\n",
    "<tr><td>(P</td><td>Paced rhythm</td></tr>\n",
    "<tr><td>(PREX</td><td>Pre-excitation (WPW)</td></tr>\n",
    "<tr><td>(SBR</td><td>Sinus bradycardia</td></tr>\n",
    "<tr><td>(SVTA</td><td>Supraventricular tachyarrhythmia</td></tr>\n",
    "<tr><td>(T</td><td>Ventricular trigeminy</td></tr>\n",
    "<tr><td>(VFL</td><td>Ventricular flutter</td></tr>\n",
    "<tr><td>(VT</td><td>Ventricular tachycardia</td></tr>\n",
    "<tr><td colspan=2 align=center>Signal quality and comment annotations appear <i>above</i>\n",
    "the level used for beat annotations:</td></tr>\n",
    "<tr><td><i>qq</i></td>\n",
    "<td>\n",
    "Signal quality change:  the first character (`c' or `n') indicates the quality\n",
    "of the upper signal (clean or noisy), and the second character indicates the\n",
    "quality of the lower signal</td></tr>\n",
    "<tr><td>U</td><td>Extreme noise or signal loss in both signals:  ECG is unreadable</td></tr>\n",
    "<tr><td>M (<i>or</i> MISSB)</td><td>Missed beat</td></tr>\n",
    "<tr><td>P (<i>or</i> PSE)</td><td>Pause</td></tr>\n",
    "<tr><td>T (<i>or</i> TS)</td><td>Tape slippage</td></tr>\n",
    "</table>\n"
   ]
  },
  {
   "cell_type": "markdown",
   "metadata": {},
   "source": [
    "**NOTE:** *It is not essential that one understand what all or any of these abnormalities actually mean physiologically. Of course, it can't hurt if you do. But, our model doesn't know or care what the underpinning defect is - just that this trace differs from the normal ones in some way.*"
   ]
  },
  {
   "cell_type": "markdown",
   "metadata": {},
   "source": [
    "For the purposes of this project, I disregarded non-beat labels and converted all of the assorted abnormalities into a boolean column representing \"normal\" or \"abnormal\".\n",
    "\n",
    "By having a richer dataset where the exact nature of the abnormality is specified and labeled, I can perform *post hoc* analysis of my false positives and false negatives as well as true positives and true negatives to determine if there are specific abnormalities that the algorithm is better or worse at predicting in order to determine where to focus efforts on improving the model or being aware of blind spots."
   ]
  },
  {
   "cell_type": "markdown",
   "metadata": {},
   "source": [
    "---"
   ]
  },
  {
   "cell_type": "markdown",
   "metadata": {},
   "source": [
    "### What the heck am I looking at?\n",
    "\n",
    "- Here I will briefly describe some of the salient features of an ECG trace, should you wish to orient yourself to what you are looking at.\n",
    "\n",
    "- Let me reiterate that it doesen't really matter if you know what any of this means, because the algorithm doesn't understand it either.\n",
    "  \n",
    "- So, feel free to skip this, or take a stab at grocking it if you want.\n",
    "\n",
    "![ecg](images/labelec_ecg.png)"
   ]
  },
  {
   "cell_type": "markdown",
   "metadata": {},
   "source": [
    "The three main components are:\n",
    "\n",
    "- **P wave** representing the depolarization of the atria.\n",
    "- **QRS Complex** which represents the depolarization of the ventricles\n",
    "- **T wave** repolarization of the ventricles.\n",
    "\n",
    "During each heartbeat, a healthy heart has an orderly progression of depolarization that starts with pacemaker cells in the sinoatrial node, spreads throughout the atrium, and passes through the atrioventricular node down into the bundle of His and into the Purkinje fibers, spreading down and to the left throughout the ventricles (3).\n",
    "\n",
    "This orderly pattern of depolarization gives rise to the characteristic ECG tracing. To the trained clinician, an ECG conveys a large amount of information about the structure of the heart and the function of its electrical conduction system(4).\n",
    "\n",
    " Among other things, an ECG can be used to measure the rate and rhythm of heartbeats, the size and position of the heart chambers, the presence of any damage to the heart's muscle cells or conduction system, the effects of heart drugs, and the function of implanted pacemakers (5)."
   ]
  },
  {
   "cell_type": "markdown",
   "metadata": {},
   "source": [
    "---"
   ]
  },
  {
   "cell_type": "markdown",
   "metadata": {},
   "source": [
    "### Works Cited"
   ]
  },
  {
   "cell_type": "markdown",
   "metadata": {},
   "source": [
    "<p></p>\n",
    "\n",
    "1. Thill, M, et. al. 2019 'Anomaly Detection in Electrocardiogram Readings with Stacked LSTM Networks', *Proceedings of the 19th Conference Information Technologies - Applications and Theory (ITAT 2019)*, p 17-25\n",
    "<p></p>\n",
    "   \n",
    "\n",
    "2. Goldberger, A., Amaral, L., Glass, L., Hausdorff, J., Ivanov, P. C., Mark, R., ... & Stanley, H. E. (2000). 'PhysioBank, PhysioToolkit, and PhysioNet: Components of a new research resource for complex physiologic signals' *Circulation* [Online]. 101 (23), pp. e215–e220.\n",
    "<p></p>\n",
    "\n",
    "3. Lilly, Leonard S, ed. (2016). *Pathophysiology of Heart Disease: A Collaborative Project of Medical Students and Faculty (sixth ed.)*. Lippincott Williams & Wilkins. p. 80. ISBN 978-1451192759.\n",
    "<p></p>\n",
    "\n",
    "4. Walraven, Gail (2011). *Basic arrhythmias (7th ed.)*. Boston: Brady/Pearson. pp. 1–11. ISBN 978-0-13-500238-4. OCLC 505018241.\n",
    "<p></p>\n",
    "\n",
    "5. Braunwald, Eugene, ed. (1997). *Heart Disease: A Textbook of Cardiovascular Medicine (5th ed.)*. Philadelphia: Saunders. p. 118. ISBN 0-7216-5666-8. OCLC 32970742."
   ]
  },
  {
   "cell_type": "markdown",
   "metadata": {},
   "source": [
    "---"
   ]
  },
  {
   "cell_type": "markdown",
   "metadata": {},
   "source": [
    "### Load libraries"
   ]
  },
  {
   "cell_type": "code",
   "execution_count": 1,
   "metadata": {},
   "outputs": [],
   "source": [
    "import pandas as pd\n",
    "import numpy as np\n",
    "import matplotlib.pyplot as plt\n",
    "%matplotlib inline\n",
    "import seaborn as sns\n",
    "\n",
    "from os import listdir\n",
    "\n",
    "import wfdb #PyPi package for loading ecg and annotations\n",
    "\n",
    "from sklearn.model_selection import train_test_split\n",
    "from sklearn.ensemble import RandomForestClassifier\n",
    "from sklearn.metrics import classification_report\n",
    "from sklearn.metrics import confusion_matrix\n",
    "\n",
    "import wrangle"
   ]
  },
  {
   "cell_type": "markdown",
   "metadata": {},
   "source": [
    "---"
   ]
  },
  {
   "cell_type": "markdown",
   "metadata": {},
   "source": [
    "### Wrangle"
   ]
  },
  {
   "cell_type": "code",
   "execution_count": 2,
   "metadata": {},
   "outputs": [
    {
     "name": "stdout",
     "output_type": "stream",
     "text": [
      "Define path and patient numbers...\n",
      "Annotations loaded...\n",
      "Loading ecg files...\n",
      "Creating dataset...\n",
      "(This usually takes a while...)\n",
      "Dataframes created...\n",
      "Splitting train, validate, test...\n",
      "This also takes a while...\n",
      "All done.\n"
     ]
    }
   ],
   "source": [
    "X_train, X_validate, X_test, Y_train, Y_validate, Y_test, sym_train, sym_validate, sym_test, p_signal, atr_sym, atr_sample, ab_index = wrangle.wrangle()"
   ]
  },
  {
   "cell_type": "markdown",
   "metadata": {},
   "source": [
    "This gives me an overall dataset of 75052 normal cardiac cycles, 34409 examples of abnormalities, and 3186 non-beat features which will be excluded from training and modeling."
   ]
  },
  {
   "cell_type": "markdown",
   "metadata": {},
   "source": [
    "Since a random forest approach is used, it is unnecessary to scale these data. There may be meaningful information in the amplitude values that would be lost or masked when scaled."
   ]
  },
  {
   "cell_type": "markdown",
   "metadata": {},
   "source": [
    "---"
   ]
  },
  {
   "cell_type": "markdown",
   "metadata": {},
   "source": [
    "## Explore"
   ]
  },
  {
   "cell_type": "markdown",
   "metadata": {},
   "source": [
    "First, concatenate the target back on the training set so I have access to the answers when vizualizing things."
   ]
  },
  {
   "cell_type": "code",
   "execution_count": 3,
   "metadata": {},
   "outputs": [],
   "source": [
    "X_explore_df = X_train.copy()\n",
    "X_explore_df['abnormal']=Y_train.copy()\n",
    "#X_explore_df['sym']=sym_train.copy()"
   ]
  },
  {
   "cell_type": "markdown",
   "metadata": {},
   "source": [
    "Now, create separate dataframes for normal and abnormal heartbeats"
   ]
  },
  {
   "cell_type": "code",
   "execution_count": 4,
   "metadata": {},
   "outputs": [],
   "source": [
    "X_explore_normal = X_explore_df[X_explore_df.abnormal==0]\n",
    "X_explore_abnormal = X_explore_df[X_explore_df.abnormal==1]"
   ]
  },
  {
   "cell_type": "markdown",
   "metadata": {},
   "source": [
    "### Question 1: What do normal heartbeats look like?"
   ]
  },
  {
   "cell_type": "markdown",
   "metadata": {},
   "source": [
    "Let's visualize some normal heartbeats:\n",
    "\n",
    "Keep in mind, the normal / abnormal heartbeat in question is in the middle of the plot, and it is flaked by 3 seconds of preceding data and 3 seconds of data after the beat in question. So, keep in mind there may be abnormal heatbeats before or after the central beat in question."
   ]
  },
  {
   "cell_type": "code",
   "execution_count": 5,
   "metadata": {},
   "outputs": [
    {
     "data": {
      "image/png": "[encoded data removed]",
      "text/plain": [
       "<Figure size 432x288 with 1 Axes>"
      ]
     },
     "metadata": {
      "needs_background": "light"
     },
     "output_type": "display_data"
    }
   ],
   "source": [
    "plt.plot(np.arange(2161), X_explore_normal.iloc[0]);\n",
    "plt.title('Sample Normal ECG');\n",
    "plt.xlabel('time index');\n",
    "plt.ylabel('ECG signal');\n"
   ]
  },
  {
   "cell_type": "code",
   "execution_count": 6,
   "metadata": {},
   "outputs": [
    {
     "data": {
      "image/png": "[encoded data removed]",
      "text/plain": [
       "<Figure size 432x288 with 1 Axes>"
      ]
     },
     "metadata": {
      "needs_background": "light"
     },
     "output_type": "display_data"
    }
   ],
   "source": [
    "plt.plot(np.arange(2161), X_explore_normal.iloc[1]);\n",
    "plt.title('Sample Normal ECG');\n",
    "plt.xlabel('time index');\n",
    "plt.ylabel('ECG signal');"
   ]
  },
  {
   "cell_type": "code",
   "execution_count": 7,
   "metadata": {},
   "outputs": [
    {
     "data": {
      "text/plain": [
       "Text(0, 0.5, 'ECG signal')"
      ]
     },
     "execution_count": 7,
     "metadata": {},
     "output_type": "execute_result"
    },
    {
     "data": {
      "image/png": "[encoded data removed]",
      "text/plain": [
       "<Figure size 432x288 with 1 Axes>"
      ]
     },
     "metadata": {
      "needs_background": "light"
     },
     "output_type": "display_data"
    }
   ],
   "source": [
    "plt.plot(np.arange(2161), X_explore_normal.iloc[2]);\n",
    "plt.title('Sample Normal ECG');\n",
    "plt.xlabel('time index')\n",
    "plt.ylabel('ECG signal')\n"
   ]
  },
  {
   "cell_type": "markdown",
   "metadata": {},
   "source": [
    "### Question 2: What do abnormal heartbeats look like?"
   ]
  },
  {
   "cell_type": "markdown",
   "metadata": {},
   "source": [
    "And some abnormal ones:"
   ]
  },
  {
   "cell_type": "code",
   "execution_count": 8,
   "metadata": {},
   "outputs": [
    {
     "data": {
      "text/plain": [
       "Text(0, 0.5, 'ECG signal')"
      ]
     },
     "execution_count": 8,
     "metadata": {},
     "output_type": "execute_result"
    },
    {
     "data": {
      "image/png": "[encoded data removed]",
      "text/plain": [
       "<Figure size 432x288 with 1 Axes>"
      ]
     },
     "metadata": {
      "needs_background": "light"
     },
     "output_type": "display_data"
    }
   ],
   "source": [
    "plt.plot(np.arange(2161), X_explore_abnormal.iloc[0]);\n",
    "plt.title('Sample Abormal ECG');\n",
    "plt.xlabel('time index')\n",
    "plt.ylabel('ECG signal')"
   ]
  },
  {
   "cell_type": "code",
   "execution_count": 9,
   "metadata": {},
   "outputs": [
    {
     "data": {
      "text/plain": [
       "Text(0, 0.5, 'ECG signal')"
      ]
     },
     "execution_count": 9,
     "metadata": {},
     "output_type": "execute_result"
    },
    {
     "data": {
      "image/png": "[encoded data removed]",
      "text/plain": [
       "<Figure size 432x288 with 1 Axes>"
      ]
     },
     "metadata": {
      "needs_background": "light"
     },
     "output_type": "display_data"
    }
   ],
   "source": [
    "plt.plot(np.arange(2161), X_explore_abnormal.iloc[1]);\n",
    "plt.title('Sample Abormal ECG');\n",
    "plt.xlabel('time index')\n",
    "plt.ylabel('ECG signal')"
   ]
  },
  {
   "cell_type": "code",
   "execution_count": 10,
   "metadata": {},
   "outputs": [
    {
     "data": {
      "text/plain": [
       "Text(0, 0.5, 'ECG signal')"
      ]
     },
     "execution_count": 10,
     "metadata": {},
     "output_type": "execute_result"
    },
    {
     "data": {
      "image/png": "[encoded data removed]",
      "text/plain": [
       "<Figure size 432x288 with 1 Axes>"
      ]
     },
     "metadata": {
      "needs_background": "light"
     },
     "output_type": "display_data"
    }
   ],
   "source": [
    "plt.plot(np.arange(2161), X_explore_abnormal.iloc[2]);\n",
    "plt.title('Sample Abormal ECG');\n",
    "plt.xlabel('time index')\n",
    "plt.ylabel('ECG signal')"
   ]
  },
  {
   "cell_type": "markdown",
   "metadata": {},
   "source": [
    "Here, I will plot an abnormal beat from our abnormal index and show 3 seconds before and after the abnormality"
   ]
  },
  {
   "cell_type": "code",
   "execution_count": 11,
   "metadata": {},
   "outputs": [
    {
     "data": {
      "image/png": "[encoded data removed]",
      "text/plain": [
       "<Figure size 432x288 with 1 Axes>"
      ]
     },
     "metadata": {
      "needs_background": "light"
     },
     "output_type": "display_data"
    }
   ],
   "source": [
    "x = np.arange(len(p_signal))\n",
    "\n",
    "left = ab_index[1]-1080\n",
    "right = ab_index[1]+1080\n",
    "\n",
    "plt.plot(x[left:right],p_signal[left:right,0],'-',label='ecg',)\n",
    "plt.plot(x[atr_sample],p_signal[atr_sample,0],'go',label ='normal')\n",
    "plt.plot(x[ab_index],p_signal[ab_index,0],'ro',label='abnormal')\n",
    "\n",
    "plt.xlim(left,right)\n",
    "plt.ylim(p_signal[left:right].min()-0.05,p_signal[left:right,0].max()+0.05)\n",
    "plt.xlabel('time index')\n",
    "plt.ylabel('ECG signal')\n",
    "plt.legend(bbox_to_anchor = (1.04,1), loc = 'upper left')\n",
    "plt.show()\n"
   ]
  },
  {
   "cell_type": "markdown",
   "metadata": {},
   "source": [
    "---"
   ]
  },
  {
   "cell_type": "markdown",
   "metadata": {},
   "source": [
    "This time series data does not lend itself to many of the data exploration and traditional hypothesis-testing statistical methods encountered in the previous projects."
   ]
  },
  {
   "cell_type": "code",
   "execution_count": 12,
   "metadata": {},
   "outputs": [],
   "source": [
    "import statsmodels.api as sm\n"
   ]
  },
  {
   "cell_type": "markdown",
   "metadata": {},
   "source": [
    "### Autocorrelation plot"
   ]
  },
  {
   "cell_type": "code",
   "execution_count": 13,
   "metadata": {},
   "outputs": [
    {
     "data": {
      "text/plain": [
       "<AxesSubplot:xlabel='Lag', ylabel='Autocorrelation'>"
      ]
     },
     "execution_count": 13,
     "metadata": {},
     "output_type": "execute_result"
    },
    {
     "data": {
      "image/png": "[encoded data removed]",
      "text/plain": [
       "<Figure size 432x288 with 1 Axes>"
      ]
     },
     "metadata": {
      "needs_background": "light"
     },
     "output_type": "display_data"
    }
   ],
   "source": [
    "pd.plotting.autocorrelation_plot(X_explore_normal.iloc[1])\n"
   ]
  },
  {
   "cell_type": "markdown",
   "metadata": {},
   "source": [
    "---"
   ]
  },
  {
   "cell_type": "markdown",
   "metadata": {},
   "source": [
    "## Modeling"
   ]
  },
  {
   "cell_type": "markdown",
   "metadata": {},
   "source": [
    "### Baseline\n",
    "\n",
    "Use the mode, or most common value (normal), as the baseline prediction.\n",
    "\n"
   ]
  },
  {
   "cell_type": "code",
   "execution_count": 74,
   "metadata": {},
   "outputs": [
    {
     "name": "stdout",
     "output_type": "stream",
     "text": [
      "Baseline accuracy: 0    0.684\n",
      "dtype: float64\n"
     ]
    }
   ],
   "source": [
    "# Set baseline to mode\n",
    "baseline = Y_train.mode()\n",
    "\n",
    "# Produce a boolean array with True representing a match between the baseline prediction and reality\n",
    "matches_baseline_prediction = Y_train == 0\n",
    "\n",
    "baseline_accuracy = matches_baseline_prediction.mean()\n",
    "print(f\"Baseline accuracy: {round(baseline_accuracy, 3)}\")"
   ]
  },
  {
   "cell_type": "markdown",
   "metadata": {},
   "source": [
    "### Make random forest models varying hyperparameters and evaluate performance"
   ]
  },
  {
   "cell_type": "code",
   "execution_count": 17,
   "metadata": {},
   "outputs": [],
   "source": [
    "# Parameters\n",
    "\n",
    "min_samples_leaf=3\n",
    "n_estimators=100\n",
    "max_depth=3"
   ]
  },
  {
   "cell_type": "code",
   "execution_count": 18,
   "metadata": {},
   "outputs": [],
   "source": [
    "# Make the object\n",
    "rf1 = RandomForestClassifier(bootstrap=True, \n",
    "                            class_weight=None, \n",
    "                            criterion='gini',\n",
    "                            min_samples_leaf=min_samples_leaf,\n",
    "                            n_estimators=n_estimators,\n",
    "                            max_depth=max_depth, \n",
    "                            random_state=123)"
   ]
  },
  {
   "cell_type": "code",
   "execution_count": 19,
   "metadata": {},
   "outputs": [
    {
     "name": "stderr",
     "output_type": "stream",
     "text": [
      "/var/folders/9y/17ptyrds267724n2_7s7hx340000gn/T/ipykernel_57723/1936475531.py:2: DataConversionWarning: A column-vector y was passed when a 1d array was expected. Please change the shape of y to (n_samples,), for example using ravel().\n",
      "  rf1.fit(X_train, Y_train)\n"
     ]
    },
    {
     "data": {
      "text/plain": [
       "RandomForestClassifier(max_depth=3, min_samples_leaf=3, random_state=123)"
      ]
     },
     "execution_count": 19,
     "metadata": {},
     "output_type": "execute_result"
    }
   ],
   "source": [
    "# Fit the object\n",
    "rf1.fit(X_train, Y_train)\n"
   ]
  },
  {
   "cell_type": "code",
   "execution_count": 20,
   "metadata": {},
   "outputs": [],
   "source": [
    "#Make Predictions\n",
    "y_pred_train_rf1 = rf1.predict(X_train)\n",
    "y_pred_validate_rf1 = rf1.predict(X_validate)\n"
   ]
  },
  {
   "cell_type": "code",
   "execution_count": 21,
   "metadata": {},
   "outputs": [],
   "source": [
    "# Make evaluation dataframes\n",
    "\n",
    "train_eval = Y_train.copy()\n",
    "train_eval['rf1_prediction'] = y_pred_train_rf1\n",
    "train_eval.columns.values[0]='actual'\n",
    "\n",
    "validate_eval = Y_validate.copy()\n",
    "validate_eval['rf1_prediction'] = y_pred_validate_rf1\n",
    "validate_eval.columns.values[0]='actual'\n"
   ]
  },
  {
   "cell_type": "code",
   "execution_count": 24,
   "metadata": {},
   "outputs": [
    {
     "name": "stdout",
     "output_type": "stream",
     "text": [
      "Accuracy of random forest classifier 1 on training set: 0.84\n"
     ]
    }
   ],
   "source": [
    "print('Accuracy of random forest classifier 1 on training set: {:.2f}'\n",
    "     .format(rf1.score(X_train, Y_train)))"
   ]
  },
  {
   "cell_type": "code",
   "execution_count": 25,
   "metadata": {},
   "outputs": [
    {
     "name": "stdout",
     "output_type": "stream",
     "text": [
      "[[53533   234]\n",
      " [12162 12622]]\n"
     ]
    }
   ],
   "source": [
    "print(confusion_matrix(Y_train, y_pred_train_rf1))\n"
   ]
  },
  {
   "cell_type": "code",
   "execution_count": 38,
   "metadata": {},
   "outputs": [],
   "source": [
    "tn_train_rf1, fp_train_rf1, fn_train_rf1, tp_train_rf1 = confusion_matrix(Y_train, y_pred_train_rf1).ravel()"
   ]
  },
  {
   "cell_type": "code",
   "execution_count": 42,
   "metadata": {},
   "outputs": [
    {
     "name": "stdout",
     "output_type": "stream",
     "text": [
      "Random Forest 1: Depth 3 - Train\n"
     ]
    },
    {
     "data": {
      "text/html": [
       "<div>\n",
       "<style scoped>\n",
       "    .dataframe tbody tr th:only-of-type {\n",
       "        vertical-align: middle;\n",
       "    }\n",
       "\n",
       "    .dataframe tbody tr th {\n",
       "        vertical-align: top;\n",
       "    }\n",
       "\n",
       "    .dataframe thead th {\n",
       "        text-align: right;\n",
       "    }\n",
       "</style>\n",
       "<table border=\"1\" class=\"dataframe\">\n",
       "  <thead>\n",
       "    <tr style=\"text-align: right;\">\n",
       "      <th></th>\n",
       "      <th>0.0</th>\n",
       "      <th>1.0</th>\n",
       "      <th>accuracy</th>\n",
       "      <th>macro avg</th>\n",
       "      <th>weighted avg</th>\n",
       "    </tr>\n",
       "  </thead>\n",
       "  <tbody>\n",
       "    <tr>\n",
       "      <th>precision</th>\n",
       "      <td>0.814872</td>\n",
       "      <td>0.981798</td>\n",
       "      <td>0.842192</td>\n",
       "      <td>0.898335</td>\n",
       "      <td>0.867540</td>\n",
       "    </tr>\n",
       "    <tr>\n",
       "      <th>recall</th>\n",
       "      <td>0.995648</td>\n",
       "      <td>0.509280</td>\n",
       "      <td>0.842192</td>\n",
       "      <td>0.752464</td>\n",
       "      <td>0.842192</td>\n",
       "    </tr>\n",
       "    <tr>\n",
       "      <th>f1-score</th>\n",
       "      <td>0.896235</td>\n",
       "      <td>0.670670</td>\n",
       "      <td>0.842192</td>\n",
       "      <td>0.783452</td>\n",
       "      <td>0.825066</td>\n",
       "    </tr>\n",
       "    <tr>\n",
       "      <th>support</th>\n",
       "      <td>53767.000000</td>\n",
       "      <td>24784.000000</td>\n",
       "      <td>0.842192</td>\n",
       "      <td>78551.000000</td>\n",
       "      <td>78551.000000</td>\n",
       "    </tr>\n",
       "  </tbody>\n",
       "</table>\n",
       "</div>"
      ],
      "text/plain": [
       "                    0.0           1.0  accuracy     macro avg  weighted avg\n",
       "precision      0.814872      0.981798  0.842192      0.898335      0.867540\n",
       "recall         0.995648      0.509280  0.842192      0.752464      0.842192\n",
       "f1-score       0.896235      0.670670  0.842192      0.783452      0.825066\n",
       "support    53767.000000  24784.000000  0.842192  78551.000000  78551.000000"
      ]
     },
     "execution_count": 42,
     "metadata": {},
     "output_type": "execute_result"
    }
   ],
   "source": [
    "rf1_train_report = classification_report(Y_train, y_pred_train_rf1, output_dict=True)\n",
    "print('Random Forest 1: Depth 3 - Train')\n",
    "pd.DataFrame(rf1_train_report)"
   ]
  },
  {
   "cell_type": "code",
   "execution_count": 27,
   "metadata": {},
   "outputs": [
    {
     "name": "stdout",
     "output_type": "stream",
     "text": [
      "Accuracy of random forest classifier 1 on validation set: 1.00\n"
     ]
    }
   ],
   "source": [
    "print('Accuracy of random forest classifier 1 on validation set: {:.2f}'\n",
    "     .format(rf1.score(X_validate, y_pred_validate_rf1)))"
   ]
  },
  {
   "cell_type": "code",
   "execution_count": 28,
   "metadata": {},
   "outputs": [
    {
     "name": "stdout",
     "output_type": "stream",
     "text": [
      "[[13485    53]\n",
      " [ 2986  3114]]\n"
     ]
    }
   ],
   "source": [
    "print(confusion_matrix(Y_validate, y_pred_validate_rf1))\n"
   ]
  },
  {
   "cell_type": "code",
   "execution_count": 43,
   "metadata": {},
   "outputs": [],
   "source": [
    "tn_validate_rf1, fp_validate_rf1, fn_validate_rf1, tp_validate_rf1 = confusion_matrix(Y_validate, y_pred_validate_rf1).ravel()"
   ]
  },
  {
   "cell_type": "code",
   "execution_count": 37,
   "metadata": {},
   "outputs": [
    {
     "name": "stdout",
     "output_type": "stream",
     "text": [
      "Random Forest 1: Depth 3\n"
     ]
    },
    {
     "data": {
      "text/html": [
       "<div>\n",
       "<style scoped>\n",
       "    .dataframe tbody tr th:only-of-type {\n",
       "        vertical-align: middle;\n",
       "    }\n",
       "\n",
       "    .dataframe tbody tr th {\n",
       "        vertical-align: top;\n",
       "    }\n",
       "\n",
       "    .dataframe thead th {\n",
       "        text-align: right;\n",
       "    }\n",
       "</style>\n",
       "<table border=\"1\" class=\"dataframe\">\n",
       "  <thead>\n",
       "    <tr style=\"text-align: right;\">\n",
       "      <th></th>\n",
       "      <th>0.0</th>\n",
       "      <th>1.0</th>\n",
       "      <th>accuracy</th>\n",
       "      <th>macro avg</th>\n",
       "      <th>weighted avg</th>\n",
       "    </tr>\n",
       "  </thead>\n",
       "  <tbody>\n",
       "    <tr>\n",
       "      <th>precision</th>\n",
       "      <td>0.818712</td>\n",
       "      <td>0.983265</td>\n",
       "      <td>0.845249</td>\n",
       "      <td>0.900988</td>\n",
       "      <td>0.869826</td>\n",
       "    </tr>\n",
       "    <tr>\n",
       "      <th>recall</th>\n",
       "      <td>0.996085</td>\n",
       "      <td>0.510492</td>\n",
       "      <td>0.845249</td>\n",
       "      <td>0.753288</td>\n",
       "      <td>0.845249</td>\n",
       "    </tr>\n",
       "    <tr>\n",
       "      <th>f1-score</th>\n",
       "      <td>0.898730</td>\n",
       "      <td>0.672062</td>\n",
       "      <td>0.845249</td>\n",
       "      <td>0.785396</td>\n",
       "      <td>0.828322</td>\n",
       "    </tr>\n",
       "    <tr>\n",
       "      <th>support</th>\n",
       "      <td>13538.000000</td>\n",
       "      <td>6100.000000</td>\n",
       "      <td>0.845249</td>\n",
       "      <td>19638.000000</td>\n",
       "      <td>19638.000000</td>\n",
       "    </tr>\n",
       "  </tbody>\n",
       "</table>\n",
       "</div>"
      ],
      "text/plain": [
       "                    0.0          1.0  accuracy     macro avg  weighted avg\n",
       "precision      0.818712     0.983265  0.845249      0.900988      0.869826\n",
       "recall         0.996085     0.510492  0.845249      0.753288      0.845249\n",
       "f1-score       0.898730     0.672062  0.845249      0.785396      0.828322\n",
       "support    13538.000000  6100.000000  0.845249  19638.000000  19638.000000"
      ]
     },
     "execution_count": 37,
     "metadata": {},
     "output_type": "execute_result"
    }
   ],
   "source": [
    "rf1_validate_report = classification_report(Y_validate, y_pred_validate_rf1, output_dict=True)\n",
    "print('Random Forest 1: Depth 3 - Validation')\n",
    "pd.DataFrame(rf1_validate_report)"
   ]
  },
  {
   "cell_type": "code",
   "execution_count": 47,
   "metadata": {},
   "outputs": [
    {
     "name": "stdout",
     "output_type": "stream",
     "text": [
      "Accuracy: 0.845\n",
      "True Positive Rate: 0.51\n",
      "False Positive Rate: 0.004\n",
      "True Negative Rate: 0.996\n",
      "False Negative Rate: 0.49\n",
      "Precision: 0.983\n",
      "Recall: 0.51\n",
      "F1 Score: 0.672\n",
      "Support (0): 6100\n",
      "Support (1): 13538\n"
     ]
    }
   ],
   "source": [
    "ALL = tn_validate_rf1 + fp_validate_rf1 + fn_validate_rf1 + tp_validate_rf1\n",
    "\n",
    "rf1_validate_accuracy = round((tp_validate_rf1 + tn_validate_rf1)/ALL,3)\n",
    "print(f\"Accuracy: {rf1_validate_accuracy}\")\n",
    "\n",
    "rf1_validate_true_positive_rate = round(tp_validate_rf1/(tp_validate_rf1+fn_validate_rf1), 3)\n",
    "print(f\"True Positive Rate: {rf1_validate_true_positive_rate}\")\n",
    "\n",
    "rf1_validate_false_positive_rate = round(fp_validate_rf1/(fp_validate_rf1+tn_validate_rf1), 3)\n",
    "print(f\"False Positive Rate: {rf1_validate_false_positive_rate}\")\n",
    "\n",
    "rf1_validate_true_negative_rate = round(tn_validate_rf1/(tn_validate_rf1+fp_validate_rf1), 3)\n",
    "print(f\"True Negative Rate: {rf1_validate_true_negative_rate}\")\n",
    "\n",
    "rf1_validate_false_negative_rate = round(fn_validate_rf1/(fn_validate_rf1+tp_validate_rf1), 3)\n",
    "print(f\"False Negative Rate: {rf1_validate_false_negative_rate}\")\n",
    "\n",
    "rf1_validate_precision = round(tp_validate_rf1/(tp_validate_rf1+fp_validate_rf1), 3)\n",
    "print(f\"Precision: {rf1_validate_precision}\")\n",
    "\n",
    "rf1_validate_recall = round(tp_validate_rf1/(tp_validate_rf1+fn_validate_rf1), 3)\n",
    "print(f\"Recall: {rf1_validate_recall}\")\n",
    "\n",
    "rf1_validate_f1_score = round(2*(rf1_validate_precision*rf1_validate_recall)/(rf1_validate_precision+rf1_validate_recall), 3)\n",
    "print(f\"F1 Score: {rf1_validate_f1_score}\")\n",
    "\n",
    "rf1_validate_support_pos = round((tp_validate_rf1 + fn_validate_rf1), 3)\n",
    "print(f\"Support (0): {rf1_validate_support_pos}\")\n",
    "\n",
    "rf1_validate_support_neg = round((fp_validate_rf1 + tn_validate_rf1), 3)\n",
    "print(f\"Support (1): {rf1_validate_support_neg}\")"
   ]
  },
  {
   "cell_type": "markdown",
   "metadata": {},
   "source": [
    "Additional metrics / summary statistics to consider:\n",
    "\n",
    "Model                          |   Accuracy |   Balanced Accuracy |   ROC AUC |   F1 Score |"
   ]
  },
  {
   "cell_type": "markdown",
   "metadata": {},
   "source": [
    "## Optimize Hyperparameters\n",
    "\n",
    "\n",
    "\n"
   ]
  },
  {
   "cell_type": "markdown",
   "metadata": {},
   "source": [
    "### Loop through depth while checking for overfitting\n",
    "\n",
    "- Compare the train and validate accuracy at various tree depth"
   ]
  },
  {
   "cell_type": "code",
   "execution_count": 93,
   "metadata": {},
   "outputs": [
    {
     "name": "stderr",
     "output_type": "stream",
     "text": [
      "/var/folders/9y/17ptyrds267724n2_7s7hx340000gn/T/ipykernel_57723/3890908901.py:9: DataConversionWarning: A column-vector y was passed when a 1d array was expected. Please change the shape of y to (n_samples,), for example using ravel().\n",
      "  forest = forest.fit(X_train, Y_train)\n",
      "/var/folders/9y/17ptyrds267724n2_7s7hx340000gn/T/ipykernel_57723/3890908901.py:9: DataConversionWarning: A column-vector y was passed when a 1d array was expected. Please change the shape of y to (n_samples,), for example using ravel().\n",
      "  forest = forest.fit(X_train, Y_train)\n",
      "/var/folders/9y/17ptyrds267724n2_7s7hx340000gn/T/ipykernel_57723/3890908901.py:9: DataConversionWarning: A column-vector y was passed when a 1d array was expected. Please change the shape of y to (n_samples,), for example using ravel().\n",
      "  forest = forest.fit(X_train, Y_train)\n",
      "/var/folders/9y/17ptyrds267724n2_7s7hx340000gn/T/ipykernel_57723/3890908901.py:9: DataConversionWarning: A column-vector y was passed when a 1d array was expected. Please change the shape of y to (n_samples,), for example using ravel().\n",
      "  forest = forest.fit(X_train, Y_train)\n",
      "/var/folders/9y/17ptyrds267724n2_7s7hx340000gn/T/ipykernel_57723/3890908901.py:9: DataConversionWarning: A column-vector y was passed when a 1d array was expected. Please change the shape of y to (n_samples,), for example using ravel().\n",
      "  forest = forest.fit(X_train, Y_train)\n",
      "/var/folders/9y/17ptyrds267724n2_7s7hx340000gn/T/ipykernel_57723/3890908901.py:9: DataConversionWarning: A column-vector y was passed when a 1d array was expected. Please change the shape of y to (n_samples,), for example using ravel().\n",
      "  forest = forest.fit(X_train, Y_train)\n",
      "/var/folders/9y/17ptyrds267724n2_7s7hx340000gn/T/ipykernel_57723/3890908901.py:9: DataConversionWarning: A column-vector y was passed when a 1d array was expected. Please change the shape of y to (n_samples,), for example using ravel().\n",
      "  forest = forest.fit(X_train, Y_train)\n",
      "/var/folders/9y/17ptyrds267724n2_7s7hx340000gn/T/ipykernel_57723/3890908901.py:9: DataConversionWarning: A column-vector y was passed when a 1d array was expected. Please change the shape of y to (n_samples,), for example using ravel().\n",
      "  forest = forest.fit(X_train, Y_train)\n",
      "/var/folders/9y/17ptyrds267724n2_7s7hx340000gn/T/ipykernel_57723/3890908901.py:9: DataConversionWarning: A column-vector y was passed when a 1d array was expected. Please change the shape of y to (n_samples,), for example using ravel().\n",
      "  forest = forest.fit(X_train, Y_train)\n",
      "/var/folders/9y/17ptyrds267724n2_7s7hx340000gn/T/ipykernel_57723/3890908901.py:9: DataConversionWarning: A column-vector y was passed when a 1d array was expected. Please change the shape of y to (n_samples,), for example using ravel().\n",
      "  forest = forest.fit(X_train, Y_train)\n",
      "/var/folders/9y/17ptyrds267724n2_7s7hx340000gn/T/ipykernel_57723/3890908901.py:9: DataConversionWarning: A column-vector y was passed when a 1d array was expected. Please change the shape of y to (n_samples,), for example using ravel().\n",
      "  forest = forest.fit(X_train, Y_train)\n",
      "/var/folders/9y/17ptyrds267724n2_7s7hx340000gn/T/ipykernel_57723/3890908901.py:9: DataConversionWarning: A column-vector y was passed when a 1d array was expected. Please change the shape of y to (n_samples,), for example using ravel().\n",
      "  forest = forest.fit(X_train, Y_train)\n",
      "/var/folders/9y/17ptyrds267724n2_7s7hx340000gn/T/ipykernel_57723/3890908901.py:9: DataConversionWarning: A column-vector y was passed when a 1d array was expected. Please change the shape of y to (n_samples,), for example using ravel().\n",
      "  forest = forest.fit(X_train, Y_train)\n",
      "/var/folders/9y/17ptyrds267724n2_7s7hx340000gn/T/ipykernel_57723/3890908901.py:9: DataConversionWarning: A column-vector y was passed when a 1d array was expected. Please change the shape of y to (n_samples,), for example using ravel().\n",
      "  forest = forest.fit(X_train, Y_train)\n",
      "/var/folders/9y/17ptyrds267724n2_7s7hx340000gn/T/ipykernel_57723/3890908901.py:9: DataConversionWarning: A column-vector y was passed when a 1d array was expected. Please change the shape of y to (n_samples,), for example using ravel().\n",
      "  forest = forest.fit(X_train, Y_train)\n",
      "/var/folders/9y/17ptyrds267724n2_7s7hx340000gn/T/ipykernel_57723/3890908901.py:9: DataConversionWarning: A column-vector y was passed when a 1d array was expected. Please change the shape of y to (n_samples,), for example using ravel().\n",
      "  forest = forest.fit(X_train, Y_train)\n",
      "/var/folders/9y/17ptyrds267724n2_7s7hx340000gn/T/ipykernel_57723/3890908901.py:9: DataConversionWarning: A column-vector y was passed when a 1d array was expected. Please change the shape of y to (n_samples,), for example using ravel().\n",
      "  forest = forest.fit(X_train, Y_train)\n",
      "/var/folders/9y/17ptyrds267724n2_7s7hx340000gn/T/ipykernel_57723/3890908901.py:9: DataConversionWarning: A column-vector y was passed when a 1d array was expected. Please change the shape of y to (n_samples,), for example using ravel().\n",
      "  forest = forest.fit(X_train, Y_train)\n",
      "/var/folders/9y/17ptyrds267724n2_7s7hx340000gn/T/ipykernel_57723/3890908901.py:9: DataConversionWarning: A column-vector y was passed when a 1d array was expected. Please change the shape of y to (n_samples,), for example using ravel().\n",
      "  forest = forest.fit(X_train, Y_train)\n"
     ]
    },
    {
     "data": {
      "text/html": [
       "<div>\n",
       "<style scoped>\n",
       "    .dataframe tbody tr th:only-of-type {\n",
       "        vertical-align: middle;\n",
       "    }\n",
       "\n",
       "    .dataframe tbody tr th {\n",
       "        vertical-align: top;\n",
       "    }\n",
       "\n",
       "    .dataframe thead th {\n",
       "        text-align: right;\n",
       "    }\n",
       "</style>\n",
       "<table border=\"1\" class=\"dataframe\">\n",
       "  <thead>\n",
       "    <tr style=\"text-align: right;\">\n",
       "      <th></th>\n",
       "      <th>max_depth</th>\n",
       "      <th>train_accuracy</th>\n",
       "      <th>validate_accuracy</th>\n",
       "      <th>train_specificity</th>\n",
       "      <th>validate_specificity</th>\n",
       "      <th>accuracy_difference</th>\n",
       "      <th>specificity_difference</th>\n",
       "    </tr>\n",
       "  </thead>\n",
       "  <tbody>\n",
       "    <tr>\n",
       "      <th>0</th>\n",
       "      <td>2</td>\n",
       "      <td>0.791817</td>\n",
       "      <td>0.795651</td>\n",
       "      <td>0.996578</td>\n",
       "      <td>0.997341</td>\n",
       "      <td>-0.003835</td>\n",
       "      <td>-0.000763</td>\n",
       "    </tr>\n",
       "    <tr>\n",
       "      <th>1</th>\n",
       "      <td>3</td>\n",
       "      <td>0.842192</td>\n",
       "      <td>0.845249</td>\n",
       "      <td>0.995648</td>\n",
       "      <td>0.996085</td>\n",
       "      <td>-0.003057</td>\n",
       "      <td>-0.000437</td>\n",
       "    </tr>\n",
       "    <tr>\n",
       "      <th>2</th>\n",
       "      <td>4</td>\n",
       "      <td>0.869282</td>\n",
       "      <td>0.871830</td>\n",
       "      <td>0.996894</td>\n",
       "      <td>0.996676</td>\n",
       "      <td>-0.002548</td>\n",
       "      <td>0.000218</td>\n",
       "    </tr>\n",
       "    <tr>\n",
       "      <th>3</th>\n",
       "      <td>5</td>\n",
       "      <td>0.887958</td>\n",
       "      <td>0.890671</td>\n",
       "      <td>0.997396</td>\n",
       "      <td>0.996676</td>\n",
       "      <td>-0.002713</td>\n",
       "      <td>0.000720</td>\n",
       "    </tr>\n",
       "    <tr>\n",
       "      <th>4</th>\n",
       "      <td>6</td>\n",
       "      <td>0.902420</td>\n",
       "      <td>0.903147</td>\n",
       "      <td>0.998084</td>\n",
       "      <td>0.997415</td>\n",
       "      <td>-0.000727</td>\n",
       "      <td>0.000670</td>\n",
       "    </tr>\n",
       "    <tr>\n",
       "      <th>5</th>\n",
       "      <td>7</td>\n",
       "      <td>0.922305</td>\n",
       "      <td>0.921020</td>\n",
       "      <td>0.998754</td>\n",
       "      <td>0.997489</td>\n",
       "      <td>0.001285</td>\n",
       "      <td>0.001265</td>\n",
       "    </tr>\n",
       "    <tr>\n",
       "      <th>6</th>\n",
       "      <td>8</td>\n",
       "      <td>0.937455</td>\n",
       "      <td>0.936603</td>\n",
       "      <td>0.999144</td>\n",
       "      <td>0.998006</td>\n",
       "      <td>0.000852</td>\n",
       "      <td>0.001139</td>\n",
       "    </tr>\n",
       "    <tr>\n",
       "      <th>7</th>\n",
       "      <td>9</td>\n",
       "      <td>0.946506</td>\n",
       "      <td>0.943732</td>\n",
       "      <td>0.999554</td>\n",
       "      <td>0.998227</td>\n",
       "      <td>0.002775</td>\n",
       "      <td>0.001326</td>\n",
       "    </tr>\n",
       "    <tr>\n",
       "      <th>8</th>\n",
       "      <td>10</td>\n",
       "      <td>0.954806</td>\n",
       "      <td>0.950962</td>\n",
       "      <td>0.999814</td>\n",
       "      <td>0.998079</td>\n",
       "      <td>0.003844</td>\n",
       "      <td>0.001735</td>\n",
       "    </tr>\n",
       "    <tr>\n",
       "      <th>9</th>\n",
       "      <td>11</td>\n",
       "      <td>0.961388</td>\n",
       "      <td>0.955953</td>\n",
       "      <td>0.999814</td>\n",
       "      <td>0.997858</td>\n",
       "      <td>0.005435</td>\n",
       "      <td>0.001956</td>\n",
       "    </tr>\n",
       "    <tr>\n",
       "      <th>10</th>\n",
       "      <td>12</td>\n",
       "      <td>0.967537</td>\n",
       "      <td>0.961350</td>\n",
       "      <td>0.999944</td>\n",
       "      <td>0.998079</td>\n",
       "      <td>0.006187</td>\n",
       "      <td>0.001865</td>\n",
       "    </tr>\n",
       "    <tr>\n",
       "      <th>11</th>\n",
       "      <td>13</td>\n",
       "      <td>0.973088</td>\n",
       "      <td>0.965322</td>\n",
       "      <td>0.999944</td>\n",
       "      <td>0.997858</td>\n",
       "      <td>0.007765</td>\n",
       "      <td>0.002086</td>\n",
       "    </tr>\n",
       "    <tr>\n",
       "      <th>12</th>\n",
       "      <td>14</td>\n",
       "      <td>0.977187</td>\n",
       "      <td>0.968021</td>\n",
       "      <td>1.000000</td>\n",
       "      <td>0.997784</td>\n",
       "      <td>0.009166</td>\n",
       "      <td>0.002216</td>\n",
       "    </tr>\n",
       "    <tr>\n",
       "      <th>13</th>\n",
       "      <td>15</td>\n",
       "      <td>0.980624</td>\n",
       "      <td>0.970567</td>\n",
       "      <td>1.000000</td>\n",
       "      <td>0.997858</td>\n",
       "      <td>0.010057</td>\n",
       "      <td>0.002142</td>\n",
       "    </tr>\n",
       "    <tr>\n",
       "      <th>14</th>\n",
       "      <td>16</td>\n",
       "      <td>0.982852</td>\n",
       "      <td>0.971840</td>\n",
       "      <td>1.000000</td>\n",
       "      <td>0.997710</td>\n",
       "      <td>0.011012</td>\n",
       "      <td>0.002290</td>\n",
       "    </tr>\n",
       "    <tr>\n",
       "      <th>15</th>\n",
       "      <td>17</td>\n",
       "      <td>0.985767</td>\n",
       "      <td>0.974285</td>\n",
       "      <td>1.000000</td>\n",
       "      <td>0.997932</td>\n",
       "      <td>0.011483</td>\n",
       "      <td>0.002068</td>\n",
       "    </tr>\n",
       "    <tr>\n",
       "      <th>16</th>\n",
       "      <td>18</td>\n",
       "      <td>0.987422</td>\n",
       "      <td>0.974845</td>\n",
       "      <td>1.000000</td>\n",
       "      <td>0.997341</td>\n",
       "      <td>0.012577</td>\n",
       "      <td>0.002659</td>\n",
       "    </tr>\n",
       "    <tr>\n",
       "      <th>17</th>\n",
       "      <td>19</td>\n",
       "      <td>0.989154</td>\n",
       "      <td>0.975863</td>\n",
       "      <td>1.000000</td>\n",
       "      <td>0.997267</td>\n",
       "      <td>0.013290</td>\n",
       "      <td>0.002733</td>\n",
       "    </tr>\n",
       "    <tr>\n",
       "      <th>18</th>\n",
       "      <td>20</td>\n",
       "      <td>0.990261</td>\n",
       "      <td>0.975761</td>\n",
       "      <td>1.000000</td>\n",
       "      <td>0.997267</td>\n",
       "      <td>0.014500</td>\n",
       "      <td>0.002733</td>\n",
       "    </tr>\n",
       "  </tbody>\n",
       "</table>\n",
       "</div>"
      ],
      "text/plain": [
       "    max_depth  train_accuracy  validate_accuracy  train_specificity  \\\n",
       "0           2        0.791817           0.795651           0.996578   \n",
       "1           3        0.842192           0.845249           0.995648   \n",
       "2           4        0.869282           0.871830           0.996894   \n",
       "3           5        0.887958           0.890671           0.997396   \n",
       "4           6        0.902420           0.903147           0.998084   \n",
       "5           7        0.922305           0.921020           0.998754   \n",
       "6           8        0.937455           0.936603           0.999144   \n",
       "7           9        0.946506           0.943732           0.999554   \n",
       "8          10        0.954806           0.950962           0.999814   \n",
       "9          11        0.961388           0.955953           0.999814   \n",
       "10         12        0.967537           0.961350           0.999944   \n",
       "11         13        0.973088           0.965322           0.999944   \n",
       "12         14        0.977187           0.968021           1.000000   \n",
       "13         15        0.980624           0.970567           1.000000   \n",
       "14         16        0.982852           0.971840           1.000000   \n",
       "15         17        0.985767           0.974285           1.000000   \n",
       "16         18        0.987422           0.974845           1.000000   \n",
       "17         19        0.989154           0.975863           1.000000   \n",
       "18         20        0.990261           0.975761           1.000000   \n",
       "\n",
       "    validate_specificity  accuracy_difference  specificity_difference  \n",
       "0               0.997341            -0.003835               -0.000763  \n",
       "1               0.996085            -0.003057               -0.000437  \n",
       "2               0.996676            -0.002548                0.000218  \n",
       "3               0.996676            -0.002713                0.000720  \n",
       "4               0.997415            -0.000727                0.000670  \n",
       "5               0.997489             0.001285                0.001265  \n",
       "6               0.998006             0.000852                0.001139  \n",
       "7               0.998227             0.002775                0.001326  \n",
       "8               0.998079             0.003844                0.001735  \n",
       "9               0.997858             0.005435                0.001956  \n",
       "10              0.998079             0.006187                0.001865  \n",
       "11              0.997858             0.007765                0.002086  \n",
       "12              0.997784             0.009166                0.002216  \n",
       "13              0.997858             0.010057                0.002142  \n",
       "14              0.997710             0.011012                0.002290  \n",
       "15              0.997932             0.011483                0.002068  \n",
       "16              0.997341             0.012577                0.002659  \n",
       "17              0.997267             0.013290                0.002733  \n",
       "18              0.997267             0.014500                0.002733  "
      ]
     },
     "execution_count": 93,
     "metadata": {},
     "output_type": "execute_result"
    }
   ],
   "source": [
    "# Look a\n",
    "metrics = []\n",
    "\n",
    "for i in range(2, 21):\n",
    "    # Make the model\n",
    "    forest = RandomForestClassifier(max_depth=i, random_state=123)\n",
    "\n",
    "    # Fit the model (on train and only train)\n",
    "    forest = forest.fit(X_train, Y_train)\n",
    "\n",
    "    forest_predict_train=forest.predict(X_train)\n",
    "    forest_predict_validate=forest.predict(X_validate)\n",
    "\n",
    "    # Use the model\n",
    "    #We'll evaluate the model's performance on train, first\n",
    "    cm1 = confusion_matrix(Y_train, forest_predict_train)\n",
    "    in_sample_accuracy = forest.score(X_train, Y_train)\n",
    "    in_sample_specificity = cm1[0,0]/(cm1[0,0]+cm1[0,1])\n",
    "    \n",
    "    cm2 = confusion_matrix(Y_validate, forest_predict_validate)\n",
    "    out_of_sample_accuracy = forest.score(X_validate, Y_validate)\n",
    "    out_of_sample_specificity = cm2[0,0]/(cm2[0,0]+cm2[0,1])\n",
    "\n",
    "    output = {\n",
    "        \"max_depth\": i,\n",
    "        \"train_accuracy\": in_sample_accuracy,\n",
    "        \"validate_accuracy\": out_of_sample_accuracy,\n",
    "        \"train_specificity\": in_sample_specificity,\n",
    "        'validate_specificity': out_of_sample_specificity\n",
    "\n",
    "    }\n",
    "    \n",
    "    metrics.append(output)\n",
    "    \n",
    "overfit_df = pd.DataFrame(metrics)\n",
    "overfit_df[\"accuracy_difference\"] = overfit_df.train_accuracy - overfit_df.validate_accuracy\n",
    "overfit_df['specificity_difference']=overfit_df.train_specificity - overfit_df.validate_specificity\n",
    "overfit_df"
   ]
  },
  {
   "cell_type": "code",
   "execution_count": 95,
   "metadata": {},
   "outputs": [
    {
     "data": {
      "image/png": "[encoded data removed]",
      "text/plain": [
       "<Figure size 1152x648 with 1 Axes>"
      ]
     },
     "metadata": {
      "needs_background": "light"
     },
     "output_type": "display_data"
    }
   ],
   "source": [
    "overfit_df.set_index('max_depth').plot(figsize = (16,9))\n",
    "plt.ylabel('Accuracy')\n",
    "plt.xticks(np.arange(0,21,1))\n",
    "plt.grid()"
   ]
  },
  {
   "cell_type": "markdown",
   "metadata": {},
   "source": [
    "Even up to a depth of 20, the in sample and out of sample data improve at similar rates with a minimal difference and no obvious signs of divergence or overfitting.\n",
    "\n",
    "When time allows, run the loop above again to a nigher depth.\n",
    "\n",
    "The rate of improvement declines at a max depth of 8-10. \n",
    "\n",
    "Moving forward, a depth of 10 will be used."
   ]
  },
  {
   "cell_type": "code",
   "execution_count": 53,
   "metadata": {},
   "outputs": [],
   "source": [
    "# Parameters\n",
    "\n",
    "min_samples_leaf=3\n",
    "max_depth=10"
   ]
  },
  {
   "cell_type": "code",
   "execution_count": 54,
   "metadata": {},
   "outputs": [],
   "source": [
    "# Make the object\n",
    "rf_final = RandomForestClassifier(bootstrap=True, \n",
    "                            class_weight=None, \n",
    "                            criterion='gini',\n",
    "                            min_samples_leaf=min_samples_leaf,\n",
    "                            max_depth=max_depth, \n",
    "                            random_state=123)"
   ]
  },
  {
   "cell_type": "code",
   "execution_count": 55,
   "metadata": {},
   "outputs": [
    {
     "name": "stderr",
     "output_type": "stream",
     "text": [
      "/var/folders/9y/17ptyrds267724n2_7s7hx340000gn/T/ipykernel_57723/1229459097.py:2: DataConversionWarning: A column-vector y was passed when a 1d array was expected. Please change the shape of y to (n_samples,), for example using ravel().\n",
      "  rf_final.fit(X_train, Y_train)\n"
     ]
    },
    {
     "data": {
      "text/plain": [
       "RandomForestClassifier(max_depth=10, min_samples_leaf=3, random_state=123)"
      ]
     },
     "execution_count": 55,
     "metadata": {},
     "output_type": "execute_result"
    }
   ],
   "source": [
    "# Fit the object\n",
    "rf_final.fit(X_train, Y_train)"
   ]
  },
  {
   "cell_type": "code",
   "execution_count": 56,
   "metadata": {},
   "outputs": [],
   "source": [
    "#Make Predictions\n",
    "y_pred_train_rf_final = rf_final.predict(X_train)\n",
    "y_pred_validate_rf_final = rf_final.predict(X_validate)\n"
   ]
  },
  {
   "cell_type": "code",
   "execution_count": 57,
   "metadata": {},
   "outputs": [
    {
     "name": "stdout",
     "output_type": "stream",
     "text": [
      "Accuracy of random forest classifier final on training set: 0.96\n"
     ]
    }
   ],
   "source": [
    "print('Accuracy of random forest classifier final on training set: {:.2f}'\n",
    "     .format(rf_final.score(X_train, Y_train)))"
   ]
  },
  {
   "cell_type": "code",
   "execution_count": 58,
   "metadata": {},
   "outputs": [
    {
     "name": "stdout",
     "output_type": "stream",
     "text": [
      "[[53746    21]\n",
      " [ 3464 21320]]\n"
     ]
    }
   ],
   "source": [
    "print(confusion_matrix(Y_train, y_pred_train_rf_final))\n"
   ]
  },
  {
   "cell_type": "code",
   "execution_count": 60,
   "metadata": {},
   "outputs": [
    {
     "name": "stdout",
     "output_type": "stream",
     "text": [
      "Random Forest 1: Depth 3 - Train\n"
     ]
    },
    {
     "data": {
      "text/html": [
       "<div>\n",
       "<style scoped>\n",
       "    .dataframe tbody tr th:only-of-type {\n",
       "        vertical-align: middle;\n",
       "    }\n",
       "\n",
       "    .dataframe tbody tr th {\n",
       "        vertical-align: top;\n",
       "    }\n",
       "\n",
       "    .dataframe thead th {\n",
       "        text-align: right;\n",
       "    }\n",
       "</style>\n",
       "<table border=\"1\" class=\"dataframe\">\n",
       "  <thead>\n",
       "    <tr style=\"text-align: right;\">\n",
       "      <th></th>\n",
       "      <th>0.0</th>\n",
       "      <th>1.0</th>\n",
       "      <th>accuracy</th>\n",
       "      <th>macro avg</th>\n",
       "      <th>weighted avg</th>\n",
       "    </tr>\n",
       "  </thead>\n",
       "  <tbody>\n",
       "    <tr>\n",
       "      <th>precision</th>\n",
       "      <td>0.939451</td>\n",
       "      <td>0.999016</td>\n",
       "      <td>0.955634</td>\n",
       "      <td>0.969234</td>\n",
       "      <td>0.958245</td>\n",
       "    </tr>\n",
       "    <tr>\n",
       "      <th>recall</th>\n",
       "      <td>0.999609</td>\n",
       "      <td>0.860232</td>\n",
       "      <td>0.955634</td>\n",
       "      <td>0.929921</td>\n",
       "      <td>0.955634</td>\n",
       "    </tr>\n",
       "    <tr>\n",
       "      <th>f1-score</th>\n",
       "      <td>0.968597</td>\n",
       "      <td>0.924444</td>\n",
       "      <td>0.955634</td>\n",
       "      <td>0.946521</td>\n",
       "      <td>0.954666</td>\n",
       "    </tr>\n",
       "    <tr>\n",
       "      <th>support</th>\n",
       "      <td>53767.000000</td>\n",
       "      <td>24784.000000</td>\n",
       "      <td>0.955634</td>\n",
       "      <td>78551.000000</td>\n",
       "      <td>78551.000000</td>\n",
       "    </tr>\n",
       "  </tbody>\n",
       "</table>\n",
       "</div>"
      ],
      "text/plain": [
       "                    0.0           1.0  accuracy     macro avg  weighted avg\n",
       "precision      0.939451      0.999016  0.955634      0.969234      0.958245\n",
       "recall         0.999609      0.860232  0.955634      0.929921      0.955634\n",
       "f1-score       0.968597      0.924444  0.955634      0.946521      0.954666\n",
       "support    53767.000000  24784.000000  0.955634  78551.000000  78551.000000"
      ]
     },
     "execution_count": 60,
     "metadata": {},
     "output_type": "execute_result"
    }
   ],
   "source": [
    "rf_final_train_report = classification_report(Y_train, y_pred_train_rf_final, output_dict=True)\n",
    "print('Random Forest 1: Depth 3 - Train')\n",
    "pd.DataFrame(rf_final_train_report)"
   ]
  },
  {
   "cell_type": "markdown",
   "metadata": {},
   "source": [
    "---"
   ]
  },
  {
   "cell_type": "markdown",
   "metadata": {},
   "source": [
    "## Evaluation\n"
   ]
  },
  {
   "cell_type": "markdown",
   "metadata": {},
   "source": [
    "In this case, false negatives would have the poorest and most severe health outcomes since the algorithm would be reporting that your ECG readings were normal when you actually have an abnormal reading indicative of a problem.\n",
    "\n",
    "So, sensitivity will be the metric optimized as it is most sensitive to false negatives."
   ]
  },
  {
   "cell_type": "markdown",
   "metadata": {},
   "source": [
    "---"
   ]
  },
  {
   "cell_type": "markdown",
   "metadata": {},
   "source": [
    "## Testing"
   ]
  },
  {
   "cell_type": "markdown",
   "metadata": {},
   "source": [
    "The best performing model was a ramdom forest with a depth of 10.\n",
    "\n",
    "I will now test that model once and only once on the testing dataset. \n",
    "\n",
    "**NOTE:** This is the one and only time the testing data will be used."
   ]
  },
  {
   "cell_type": "code",
   "execution_count": 64,
   "metadata": {},
   "outputs": [],
   "source": [
    "y_pred_test = rf_final.predict(X_test)\n"
   ]
  },
  {
   "cell_type": "code",
   "execution_count": 65,
   "metadata": {},
   "outputs": [
    {
     "name": "stdout",
     "output_type": "stream",
     "text": [
      "Accuracy of random forest classifier  on test set: 0.95\n"
     ]
    }
   ],
   "source": [
    "print('Accuracy of random forest classifier  on test set: {:.2f}'\n",
    "     .format(rf_final.score(X_test, Y_test)))"
   ]
  },
  {
   "cell_type": "code",
   "execution_count": 66,
   "metadata": {},
   "outputs": [
    {
     "name": "stdout",
     "output_type": "stream",
     "text": [
      "[[7473   17]\n",
      " [ 497 2923]]\n"
     ]
    }
   ],
   "source": [
    "#Print confusion matrix\n",
    "print(confusion_matrix(Y_test, y_pred_test))\n"
   ]
  },
  {
   "cell_type": "code",
   "execution_count": 72,
   "metadata": {},
   "outputs": [],
   "source": [
    "# Save values of \n",
    "tn_test, fp_test, fn_test, tp_test  = (confusion_matrix(Y_test, y_pred_test)).ravel()\n"
   ]
  },
  {
   "cell_type": "code",
   "execution_count": 70,
   "metadata": {},
   "outputs": [
    {
     "name": "stdout",
     "output_type": "stream",
     "text": [
      "Random Forest: Depth 10 - Test\n"
     ]
    },
    {
     "data": {
      "text/html": [
       "<div>\n",
       "<style scoped>\n",
       "    .dataframe tbody tr th:only-of-type {\n",
       "        vertical-align: middle;\n",
       "    }\n",
       "\n",
       "    .dataframe tbody tr th {\n",
       "        vertical-align: top;\n",
       "    }\n",
       "\n",
       "    .dataframe thead th {\n",
       "        text-align: right;\n",
       "    }\n",
       "</style>\n",
       "<table border=\"1\" class=\"dataframe\">\n",
       "  <thead>\n",
       "    <tr style=\"text-align: right;\">\n",
       "      <th></th>\n",
       "      <th>0.0</th>\n",
       "      <th>1.0</th>\n",
       "      <th>accuracy</th>\n",
       "      <th>macro avg</th>\n",
       "      <th>weighted avg</th>\n",
       "    </tr>\n",
       "  </thead>\n",
       "  <tbody>\n",
       "    <tr>\n",
       "      <th>precision</th>\n",
       "      <td>0.937641</td>\n",
       "      <td>0.994218</td>\n",
       "      <td>0.952887</td>\n",
       "      <td>0.965929</td>\n",
       "      <td>0.955376</td>\n",
       "    </tr>\n",
       "    <tr>\n",
       "      <th>recall</th>\n",
       "      <td>0.997730</td>\n",
       "      <td>0.854678</td>\n",
       "      <td>0.952887</td>\n",
       "      <td>0.926204</td>\n",
       "      <td>0.952887</td>\n",
       "    </tr>\n",
       "    <tr>\n",
       "      <th>f1-score</th>\n",
       "      <td>0.966753</td>\n",
       "      <td>0.919182</td>\n",
       "      <td>0.952887</td>\n",
       "      <td>0.942968</td>\n",
       "      <td>0.951841</td>\n",
       "    </tr>\n",
       "    <tr>\n",
       "      <th>support</th>\n",
       "      <td>7490.000000</td>\n",
       "      <td>3420.000000</td>\n",
       "      <td>0.952887</td>\n",
       "      <td>10910.000000</td>\n",
       "      <td>10910.000000</td>\n",
       "    </tr>\n",
       "  </tbody>\n",
       "</table>\n",
       "</div>"
      ],
      "text/plain": [
       "                   0.0          1.0  accuracy     macro avg  weighted avg\n",
       "precision     0.937641     0.994218  0.952887      0.965929      0.955376\n",
       "recall        0.997730     0.854678  0.952887      0.926204      0.952887\n",
       "f1-score      0.966753     0.919182  0.952887      0.942968      0.951841\n",
       "support    7490.000000  3420.000000  0.952887  10910.000000  10910.000000"
      ]
     },
     "execution_count": 70,
     "metadata": {},
     "output_type": "execute_result"
    }
   ],
   "source": [
    "test_report = classification_report(Y_test, y_pred_test, output_dict=True)\n",
    "print('Random Forest: Depth 10 - Test')\n",
    "pd.DataFrame(test_report)"
   ]
  },
  {
   "cell_type": "code",
   "execution_count": 73,
   "metadata": {},
   "outputs": [
    {
     "name": "stdout",
     "output_type": "stream",
     "text": [
      "Accuracy: 0.953\n",
      "True Positive Rate: 0.855\n",
      "False Positive Rate: 0.002\n",
      "True Negative Rate: 0.998\n",
      "False Negative Rate: 0.145\n",
      "Precision: 0.994\n",
      "Recall: 0.855\n",
      "F1 Score: 0.919\n",
      "Support (0): 3420\n",
      "Support (1): 7490\n"
     ]
    }
   ],
   "source": [
    "ALL = tn_test + fp_test + fn_test + tp_test\n",
    "\n",
    "rf_test_accuracy = round((tp_test + tn_test)/ALL,3)\n",
    "print(f\"Accuracy: {rf_test_accuracy}\")\n",
    "\n",
    "rf_test_true_positive_rate = round(tp_test/(tp_test+fn_test), 3)\n",
    "print(f\"True Positive Rate: {rf_test_true_positive_rate}\")\n",
    "\n",
    "rf_test_false_positive_rate = round(fp_test/(fp_test+tn_test), 3)\n",
    "print(f\"False Positive Rate: {rf_test_false_positive_rate}\")\n",
    "\n",
    "rf_test_true_negative_rate = round(tn_test/(tn_test+fp_test), 3)\n",
    "print(f\"True Negative Rate: {rf_test_true_negative_rate}\")\n",
    "\n",
    "rf_test_false_negative_rate = round(fn_test/(fn_test+tp_test), 3)\n",
    "print(f\"False Negative Rate: {rf_test_false_negative_rate}\")\n",
    "\n",
    "rf_test_precision = round(tp_test/(tp_test+fp_test), 3)\n",
    "print(f\"Precision: {rf_test_precision}\")\n",
    "\n",
    "rf_test_recall = round(tp_test/(tp_test+fn_test), 3)\n",
    "print(f\"Recall: {rf_test_recall}\")\n",
    "\n",
    "rf_test_f1_score = round(2*(rf_test_precision*rf_test_recall)/(rf_test_precision+rf_test_recall), 3)\n",
    "print(f\"F1 Score: {rf_test_f1_score}\")\n",
    "\n",
    "rf_test_support_pos = round((tp_test + fn_test), 3)\n",
    "print(f\"Support (0): {rf_test_support_pos}\")\n",
    "\n",
    "rf_test_support_neg = round((fp_test + tn_test), 3)\n",
    "print(f\"Support (1): {rf_test_support_neg}\")"
   ]
  },
  {
   "cell_type": "code",
   "execution_count": 76,
   "metadata": {},
   "outputs": [
    {
     "data": {
      "text/plain": [
       "0.393"
      ]
     },
     "execution_count": 76,
     "metadata": {},
     "output_type": "execute_result"
    }
   ],
   "source": [
    "#Percent improvement from baseline\n",
    "round(((.953-.684)/.684),3)"
   ]
  },
  {
   "cell_type": "code",
   "execution_count": 79,
   "metadata": {},
   "outputs": [],
   "source": [
    "test_eval = Y_test.copy()\n",
    "test_eval['prediction'] = y_pred_test\n",
    "test_eval['sym']=sym_test\n",
    "test_eval.columns.values[0]='actual'\n"
   ]
  },
  {
   "cell_type": "code",
   "execution_count": 80,
   "metadata": {},
   "outputs": [
    {
     "data": {
      "text/html": [
       "<div>\n",
       "<style scoped>\n",
       "    .dataframe tbody tr th:only-of-type {\n",
       "        vertical-align: middle;\n",
       "    }\n",
       "\n",
       "    .dataframe tbody tr th {\n",
       "        vertical-align: top;\n",
       "    }\n",
       "\n",
       "    .dataframe thead th {\n",
       "        text-align: right;\n",
       "    }\n",
       "</style>\n",
       "<table border=\"1\" class=\"dataframe\">\n",
       "  <thead>\n",
       "    <tr style=\"text-align: right;\">\n",
       "      <th></th>\n",
       "      <th>actual</th>\n",
       "      <th>prediction</th>\n",
       "      <th>sym</th>\n",
       "    </tr>\n",
       "  </thead>\n",
       "  <tbody>\n",
       "    <tr>\n",
       "      <th>53989</th>\n",
       "      <td>0.0</td>\n",
       "      <td>0.0</td>\n",
       "      <td>N</td>\n",
       "    </tr>\n",
       "    <tr>\n",
       "      <th>6233</th>\n",
       "      <td>1.0</td>\n",
       "      <td>1.0</td>\n",
       "      <td>/</td>\n",
       "    </tr>\n",
       "    <tr>\n",
       "      <th>101770</th>\n",
       "      <td>1.0</td>\n",
       "      <td>1.0</td>\n",
       "      <td>A</td>\n",
       "    </tr>\n",
       "    <tr>\n",
       "      <th>13672</th>\n",
       "      <td>0.0</td>\n",
       "      <td>0.0</td>\n",
       "      <td>N</td>\n",
       "    </tr>\n",
       "    <tr>\n",
       "      <th>20067</th>\n",
       "      <td>1.0</td>\n",
       "      <td>1.0</td>\n",
       "      <td>L</td>\n",
       "    </tr>\n",
       "  </tbody>\n",
       "</table>\n",
       "</div>"
      ],
      "text/plain": [
       "        actual  prediction sym\n",
       "53989      0.0         0.0   N\n",
       "6233       1.0         1.0   /\n",
       "101770     1.0         1.0   A\n",
       "13672      0.0         0.0   N\n",
       "20067      1.0         1.0   L"
      ]
     },
     "execution_count": 80,
     "metadata": {},
     "output_type": "execute_result"
    }
   ],
   "source": [
    "test_eval.head()"
   ]
  },
  {
   "cell_type": "markdown",
   "metadata": {},
   "source": [
    "### Are there certain types of abnormalities the model is better or worse at detecting?"
   ]
  },
  {
   "cell_type": "code",
   "execution_count": 85,
   "metadata": {},
   "outputs": [],
   "source": [
    "abnormalities = test_eval[test_eval.actual==1]\n",
    "false_negatives_test = abnormalities[abnormalities.prediction==0]\n",
    "true_negatives_test = abnormalities[abnormalities.prediction==1]"
   ]
  },
  {
   "cell_type": "code",
   "execution_count": 89,
   "metadata": {},
   "outputs": [
    {
     "data": {
      "text/plain": [
       "A    109\n",
       "R    107\n",
       "f     71\n",
       "V     59\n",
       "L     59\n",
       "F     36\n",
       "j     26\n",
       "a     12\n",
       "/      9\n",
       "J      5\n",
       "e      4\n",
       "Name: sym, dtype: int64"
      ]
     },
     "execution_count": 89,
     "metadata": {},
     "output_type": "execute_result"
    }
   ],
   "source": [
    "false_negatives_test.sym.value_counts()"
   ]
  },
  {
   "cell_type": "code",
   "execution_count": 87,
   "metadata": {},
   "outputs": [
    {
     "data": {
      "text/plain": [
       "A    0.219316\n",
       "R    0.215292\n",
       "f    0.142857\n",
       "V    0.118712\n",
       "L    0.118712\n",
       "F    0.072435\n",
       "j    0.052314\n",
       "a    0.024145\n",
       "/    0.018109\n",
       "J    0.010060\n",
       "e    0.008048\n",
       "Name: sym, dtype: float64"
      ]
     },
     "execution_count": 87,
     "metadata": {},
     "output_type": "execute_result"
    }
   ],
   "source": [
    "false_negatives_test.sym.value_counts(normalize=True)"
   ]
  },
  {
   "cell_type": "markdown",
   "metadata": {},
   "source": [
    "**A** - Atrial premature beat and **R** Right bundle block beat each make up over 20% of the false negatives."
   ]
  },
  {
   "cell_type": "code",
   "execution_count": 90,
   "metadata": {},
   "outputs": [
    {
     "data": {
      "text/plain": [
       "/    730\n",
       "L    725\n",
       "V    665\n",
       "R    592\n",
       "A    141\n",
       "F     33\n",
       "f     24\n",
       "E      9\n",
       "a      3\n",
       "J      1\n",
       "Name: sym, dtype: int64"
      ]
     },
     "execution_count": 90,
     "metadata": {},
     "output_type": "execute_result"
    }
   ],
   "source": [
    "true_negatives_test.sym.value_counts()"
   ]
  },
  {
   "cell_type": "code",
   "execution_count": 88,
   "metadata": {},
   "outputs": [
    {
     "data": {
      "text/plain": [
       "/    0.249743\n",
       "L    0.248033\n",
       "V    0.227506\n",
       "R    0.202532\n",
       "A    0.048238\n",
       "F    0.011290\n",
       "f    0.008211\n",
       "E    0.003079\n",
       "a    0.001026\n",
       "J    0.000342\n",
       "Name: sym, dtype: float64"
      ]
     },
     "execution_count": 88,
     "metadata": {},
     "output_type": "execute_result"
    }
   ],
   "source": [
    "true_negatives_test.sym.value_counts(normalize=True)"
   ]
  },
  {
   "cell_type": "code",
   "execution_count": 91,
   "metadata": {},
   "outputs": [
    {
     "data": {
      "text/plain": [
       "/    730\n",
       "L    725\n",
       "V    665\n",
       "R    592\n",
       "A    141\n",
       "F     33\n",
       "f     24\n",
       "E      9\n",
       "a      3\n",
       "J      1\n",
       "Name: sym, dtype: int64"
      ]
     },
     "execution_count": 91,
     "metadata": {},
     "output_type": "execute_result"
    }
   ],
   "source": [
    "true_negatives_test.sym.value_counts()"
   ]
  },
  {
   "cell_type": "markdown",
   "metadata": {},
   "source": [
    "---"
   ]
  },
  {
   "cell_type": "markdown",
   "metadata": {},
   "source": [
    "## Summary"
   ]
  },
  {
   "cell_type": "markdown",
   "metadata": {},
   "source": [
    "Here, I have used a random forest classifier to make detect anomalies in ECG readings. This resulted in a highly-sensitive test (85.2%) with an accuracy of 95.3% representing a 39.3% improvement from baseline."
   ]
  },
  {
   "cell_type": "markdown",
   "metadata": {},
   "source": [
    "---"
   ]
  },
  {
   "cell_type": "markdown",
   "metadata": {},
   "source": [
    "## Conclusions"
   ]
  },
  {
   "cell_type": "markdown",
   "metadata": {},
   "source": [
    "Automated anomaly detection in ECG signals shows great promise. \n",
    "\n",
    "These models represent an accurate and sensitive test for ECG anomalies and I have further plans detailed below to improve the model further."
   ]
  },
  {
   "cell_type": "markdown",
   "metadata": {},
   "source": [
    "---"
   ]
  },
  {
   "cell_type": "markdown",
   "metadata": {},
   "source": [
    "## Next Steps / Future Directions"
   ]
  },
  {
   "cell_type": "markdown",
   "metadata": {},
   "source": [
    "<p></p>\n",
    "1. There is a 2:1 normal to abnormal imbalance in training dataset. Consider SMOTE to create additional synthetic abnormal traces to balance these data and see if that improves the models. \n",
    "<p></p>\n",
    "2. Use Grid and RandomSearch CV with K-fold cross-validation to continue to tune random forest model and further optimize hyperparameters.\n",
    "<p></p>\n",
    "3. The state of the art for anomaly detection with these types of quasi-periodic data involves Long-Short-Term-Memory Recurring Neural Networks. This was how I was planning to attack this problem initially, but I encountered challenges installing the libraries needed to do so. Struggled with various libraries conpeting gor different versions of dependencies and was unsuccessful in my initial efforts to resolve these conflicts in specific environment. Will continue to trouble-shoot the issues so I can use autoencoders and LSTM networks for this problem.\n",
    "<p></p>\n",
    "4. Use the more verbose labels of specific anomalies in the evaluation insted of just the boolean normal/abnormal column to see if there are certain anomalies the algorithm is better or worse at predicting. Know the blindspots and areas to focus on for potential improvement in successive iterations.\n",
    "<p></p>\n",
    "5. Figure out the format of apple watch ECG data and if any anonymized datasets exist in the wild. \n",
    "<p></p>\n",
    "6. Move this model into production where user-generated ECGs can be evaluated.\n",
    "<p></p>\n",
    "7. Oh man, having flashbacks to when I used to process data like this for a living... There is a solid chance that a Fourier Transform converting these data from a time domain to frequency domain will eliminate lower-order harmonics and filter some signal noise and may improve model accuracy.\n",
    "\n"
   ]
  },
  {
   "cell_type": "markdown",
   "metadata": {},
   "source": [
    "Python makes this pretty straightforward with `fft.fft(x)` on an numpy array, but I'll have to implement this after a good night's rest and a bowl of Wheaties."
   ]
  },
  {
   "cell_type": "markdown",
   "metadata": {},
   "source": [
    "---"
   ]
  },
  {
   "cell_type": "markdown",
   "metadata": {},
   "source": [
    "![thanks](images/thanks.png)"
   ]
  },
  {
   "cell_type": "markdown",
   "metadata": {},
   "source": [
    "### Links\n",
    "\n",
    "https://github.com/Jared-Godar/ecg_anomaly_detection/\n",
    "\n",
    "https://physionet.org/content/mitdb/1.0.0/"
   ]
  }
 ],
 "metadata": {
  "interpreter": {
   "hash": "38cca0c38332a56087b24af0bc80247f4fced29cb4f7f437d91dc159adec9c4e"
  },
  "kernelspec": {
   "display_name": "Python 3.8.12 64-bit ('base': conda)",
   "language": "python",
   "name": "python3"
  },
  "language_info": {
   "codemirror_mode": {
    "name": "ipython",
    "version": 3
   },
   "file_extension": ".py",
   "mimetype": "text/x-python",
   "name": "python",
   "nbconvert_exporter": "python",
   "pygments_lexer": "ipython3",
   "version": "3.8.12"
  },
  "orig_nbformat": 4
 },
 "nbformat": 4,
 "nbformat_minor": 2
}
